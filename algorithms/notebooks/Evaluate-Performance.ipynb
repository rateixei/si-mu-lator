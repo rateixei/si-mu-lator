{
 "cells": [
  {
   "cell_type": "code",
   "execution_count": 1,
   "id": "8640cea9-8b92-44e4-bbe0-0fed8193e5e8",
   "metadata": {},
   "outputs": [],
   "source": [
    "import numpy as np\n",
    "import matplotlib as mpl\n",
    "from matplotlib import pyplot as plt\n",
    "import h5py"
   ]
  },
  {
   "cell_type": "code",
   "execution_count": 2,
   "id": "fdd486f5-5051-42b6-a84d-6e0bfc1603cb",
   "metadata": {},
   "outputs": [],
   "source": [
    "from sklearn import metrics"
   ]
  },
  {
   "cell_type": "code",
   "execution_count": 3,
   "id": "873da26a-2521-4b33-92a9-994a1bb53b73",
   "metadata": {},
   "outputs": [],
   "source": [
    "from tensorflow import keras"
   ]
  },
  {
   "cell_type": "code",
   "execution_count": 4,
   "id": "33534ac0-a194-4172-82e6-39290b23acff",
   "metadata": {},
   "outputs": [],
   "source": [
    "import sys"
   ]
  },
  {
   "cell_type": "code",
   "execution_count": 5,
   "id": "481cb3f4-5a3c-4088-8c9a-1ebfff6ded3b",
   "metadata": {},
   "outputs": [],
   "source": [
    "%load_ext autoreload\n",
    "%autoreload 2"
   ]
  },
  {
   "cell_type": "code",
   "execution_count": 6,
   "id": "2c3f1e77-ef8e-4227-a743-3d5d2232d56c",
   "metadata": {},
   "outputs": [],
   "source": [
    "sys.path.append('../')"
   ]
  },
  {
   "cell_type": "code",
   "execution_count": 7,
   "id": "51b982a3-15a4-4734-9cc6-db2204e2c03d",
   "metadata": {},
   "outputs": [],
   "source": [
    "import datatools"
   ]
  },
  {
   "cell_type": "code",
   "execution_count": 8,
   "id": "c2a8464c-e5c3-47a6-becb-7b7c201c644b",
   "metadata": {},
   "outputs": [],
   "source": [
    "import importlib"
   ]
  },
  {
   "cell_type": "code",
   "execution_count": 9,
   "id": "a63c1b1c-41ca-4caf-af2d-7f68cb3d9783",
   "metadata": {},
   "outputs": [],
   "source": [
    "from glob import glob"
   ]
  },
  {
   "cell_type": "markdown",
   "id": "6a54df86-8d4e-4dd9-a35d-2889b1f30bc1",
   "metadata": {},
   "source": [
    "## Load Data"
   ]
  },
  {
   "cell_type": "code",
   "execution_count": 10,
   "id": "e9c49f57-ac28-4d82-8e02-bf37f8dee572",
   "metadata": {},
   "outputs": [
    {
     "name": "stdout",
     "output_type": "stream",
     "text": [
      "201\n"
     ]
    }
   ],
   "source": [
    "SIM=\"/gpfs/slac/atlas/fs1/d/rafaeltl/public/Muon/simulation/\"\n",
    "DATA_LOC=f\"{SIM}/20220628/atlas_mm_vmm_bkgr_1_TEST/*.h5\"\n",
    "\n",
    "files=glob(DATA_LOC)\n",
    "\n",
    "print(len(files))"
   ]
  },
  {
   "cell_type": "code",
   "execution_count": 11,
   "id": "7df804bd-a8e9-4798-849f-fc152f059922",
   "metadata": {
    "collapsed": true,
    "jupyter": {
     "outputs_hidden": true
    },
    "tags": []
   },
   "outputs": [
    {
     "name": "stdout",
     "output_type": "stream",
     "text": [
      "/sdf/home/r/rafaeltl/home/Muon/21062022/si-mu-lator//batch_slac/out_files/atlas_mm_vmm_bkgr_1/WithMuon.atlas_mm_vmm.nevs_1000.bkgr_1.mux.-2.0.2.0_Rnd60284.h5\n",
      "['is_muon', 'x', 'y', 'z', 'ptype', 'ptilt', 'poffset', 'time', 'projX_at_rightend_x', 'projX_at_rightend_y', 'projX_at_middle_x', 'projX_at_middle_y', 'projY_at_topend_x', 'projY_at_topend_y', 'projY_at_middle_x', 'projY_at_middle_y', 'seg_ix', 'rdrift']\n",
      "/sdf/home/r/rafaeltl/home/Muon/21062022/si-mu-lator//batch_slac/out_files/atlas_mm_vmm_bkgr_1/NoMuon.atlas_mm_vmm.nevs_1000.bkgr_1_Rnd946943.h5\n",
      "/sdf/home/r/rafaeltl/home/Muon/21062022/si-mu-lator//batch_slac/out_files/atlas_mm_vmm_bkgr_1/NoMuon.atlas_mm_vmm.nevs_1000.bkgr_1_Rnd946916.h5\n",
      "/sdf/home/r/rafaeltl/home/Muon/21062022/si-mu-lator//batch_slac/out_files/atlas_mm_vmm_bkgr_1/WithMuon.atlas_mm_vmm.nevs_1000.bkgr_1.mux.-2.0.2.0_Rnd60312.h5\n",
      "/sdf/home/r/rafaeltl/home/Muon/21062022/si-mu-lator//batch_slac/out_files/atlas_mm_vmm_bkgr_1/NoMuon.atlas_mm_vmm.nevs_1000.bkgr_1_Rnd946968.h5\n",
      "/sdf/home/r/rafaeltl/home/Muon/21062022/si-mu-lator//batch_slac/out_files/atlas_mm_vmm_bkgr_1/NoMuon.atlas_mm_vmm.nevs_1000.bkgr_1_Rnd946960.h5\n",
      "/sdf/home/r/rafaeltl/home/Muon/21062022/si-mu-lator//batch_slac/out_files/atlas_mm_vmm_bkgr_1/WithMuon.atlas_mm_vmm.nevs_1000.bkgr_1.mux.-2.0.2.0_Rnd60367.h5\n",
      "/sdf/home/r/rafaeltl/home/Muon/21062022/si-mu-lator//batch_slac/out_files/atlas_mm_vmm_bkgr_1/NoMuon.atlas_mm_vmm.nevs_1000.bkgr_1_Rnd946923.h5\n",
      "/sdf/home/r/rafaeltl/home/Muon/21062022/si-mu-lator//batch_slac/out_files/atlas_mm_vmm_bkgr_1/NoMuon.atlas_mm_vmm.nevs_1000.bkgr_1_Rnd946966.h5\n",
      "/sdf/home/r/rafaeltl/home/Muon/21062022/si-mu-lator//batch_slac/out_files/atlas_mm_vmm_bkgr_1/NoMuon.atlas_mm_vmm.nevs_1000.bkgr_1_Rnd946897.h5\n",
      "/sdf/home/r/rafaeltl/home/Muon/21062022/si-mu-lator//batch_slac/out_files/atlas_mm_vmm_bkgr_1/WithMuon.atlas_mm_vmm.nevs_1000.bkgr_1.mux.-2.0.2.0_Rnd60347.h5\n",
      "/sdf/home/r/rafaeltl/home/Muon/21062022/si-mu-lator//batch_slac/out_files/atlas_mm_vmm_bkgr_1/NoMuon.atlas_mm_vmm.nevs_1000.bkgr_1_Rnd946958.h5\n",
      "/sdf/home/r/rafaeltl/home/Muon/21062022/si-mu-lator//batch_slac/out_files/atlas_mm_vmm_bkgr_1/WithMuon.atlas_mm_vmm.nevs_1000.bkgr_1.mux.-2.0.2.0_Rnd60351.h5\n",
      "/sdf/home/r/rafaeltl/home/Muon/21062022/si-mu-lator//batch_slac/out_files/atlas_mm_vmm_bkgr_1/NoMuon.atlas_mm_vmm.nevs_1000.bkgr_1_Rnd946956.h5\n",
      "/sdf/home/r/rafaeltl/home/Muon/21062022/si-mu-lator//batch_slac/out_files/atlas_mm_vmm_bkgr_1/WithMuon.atlas_mm_vmm.nevs_1000.bkgr_1.mux.-2.0.2.0_Rnd60366.h5\n",
      "/sdf/home/r/rafaeltl/home/Muon/21062022/si-mu-lator//batch_slac/out_files/atlas_mm_vmm_bkgr_1/WithMuon.atlas_mm_vmm.nevs_1000.bkgr_1.mux.-2.0.2.0_Rnd60363.h5\n",
      "/sdf/home/r/rafaeltl/home/Muon/21062022/si-mu-lator//batch_slac/out_files/atlas_mm_vmm_bkgr_1/NoMuon.atlas_mm_vmm.nevs_1000.bkgr_1_Rnd946903.h5\n",
      "/sdf/home/r/rafaeltl/home/Muon/21062022/si-mu-lator//batch_slac/out_files/atlas_mm_vmm_bkgr_1/WithMuon.atlas_mm_vmm.nevs_1000.bkgr_1.mux.-2.0.2.0_Rnd60292.h5\n",
      "/sdf/home/r/rafaeltl/home/Muon/21062022/si-mu-lator//batch_slac/out_files/atlas_mm_vmm_bkgr_1/WithMuon.atlas_mm_vmm.nevs_1000.bkgr_1.mux.-2.0.2.0_Rnd60283.h5\n",
      "/sdf/home/r/rafaeltl/home/Muon/21062022/si-mu-lator//batch_slac/out_files/atlas_mm_vmm_bkgr_1/WithMuon.atlas_mm_vmm.nevs_1000.bkgr_1.mux.-2.0.2.0_Rnd60337.h5\n",
      "/sdf/home/r/rafaeltl/home/Muon/21062022/si-mu-lator//batch_slac/out_files/atlas_mm_vmm_bkgr_1/WithMuon.atlas_mm_vmm.nevs_1000.bkgr_1.mux.-2.0.2.0_Rnd60320.h5\n",
      "/sdf/home/r/rafaeltl/home/Muon/21062022/si-mu-lator//batch_slac/out_files/atlas_mm_vmm_bkgr_1/NoMuon.atlas_mm_vmm.nevs_1000.bkgr_1_Rnd946965.h5\n",
      "/sdf/home/r/rafaeltl/home/Muon/21062022/si-mu-lator//batch_slac/out_files/atlas_mm_vmm_bkgr_1/WithMuon.atlas_mm_vmm.nevs_1000.bkgr_1.mux.-2.0.2.0_Rnd60280.h5\n",
      "/sdf/home/r/rafaeltl/home/Muon/21062022/si-mu-lator//batch_slac/out_files/atlas_mm_vmm_bkgr_1/NoMuon.atlas_mm_vmm.nevs_1000.bkgr_1_Rnd946949.h5\n",
      "/sdf/home/r/rafaeltl/home/Muon/21062022/si-mu-lator//batch_slac/out_files/atlas_mm_vmm_bkgr_1/WithMuon.atlas_mm_vmm.nevs_1000.bkgr_1.mux.-2.0.2.0_Rnd60329.h5\n",
      "/sdf/home/r/rafaeltl/home/Muon/21062022/si-mu-lator//batch_slac/out_files/atlas_mm_vmm_bkgr_1/NoMuon.atlas_mm_vmm.nevs_1000.bkgr_1_Rnd946961.h5\n",
      "/sdf/home/r/rafaeltl/home/Muon/21062022/si-mu-lator//batch_slac/out_files/atlas_mm_vmm_bkgr_1/NoMuon.atlas_mm_vmm.nevs_1000.bkgr_1_Rnd946904.h5\n",
      "/sdf/home/r/rafaeltl/home/Muon/21062022/si-mu-lator//batch_slac/out_files/atlas_mm_vmm_bkgr_1/WithMuon.atlas_mm_vmm.nevs_1000.bkgr_1.mux.-2.0.2.0_Rnd60282.h5\n",
      "/sdf/home/r/rafaeltl/home/Muon/21062022/si-mu-lator//batch_slac/out_files/atlas_mm_vmm_bkgr_1/WithMuon.atlas_mm_vmm.nevs_1000.bkgr_1.mux.-2.0.2.0_Rnd60311.h5\n",
      "/sdf/home/r/rafaeltl/home/Muon/21062022/si-mu-lator//batch_slac/out_files/atlas_mm_vmm_bkgr_1/WithMuon.atlas_mm_vmm.nevs_1000.bkgr_1.mux.-2.0.2.0_Rnd60295.h5\n",
      "/sdf/home/r/rafaeltl/home/Muon/21062022/si-mu-lator//batch_slac/out_files/atlas_mm_vmm_bkgr_1/NoMuon.atlas_mm_vmm.nevs_1000.bkgr_1_Rnd946952.h5\n",
      "/sdf/home/r/rafaeltl/home/Muon/21062022/si-mu-lator//batch_slac/out_files/atlas_mm_vmm_bkgr_1/NoMuon.atlas_mm_vmm.nevs_1000.bkgr_1_Rnd946912.h5\n",
      "/sdf/home/r/rafaeltl/home/Muon/21062022/si-mu-lator//batch_slac/out_files/atlas_mm_vmm_bkgr_1/NoMuon.atlas_mm_vmm.nevs_1000.bkgr_1_Rnd946980.h5\n",
      "/sdf/home/r/rafaeltl/home/Muon/21062022/si-mu-lator//batch_slac/out_files/atlas_mm_vmm_bkgr_1/WithMuon.atlas_mm_vmm.nevs_1000.bkgr_1.mux.-2.0.2.0_Rnd60365.h5\n",
      "/sdf/home/r/rafaeltl/home/Muon/21062022/si-mu-lator//batch_slac/out_files/atlas_mm_vmm_bkgr_1/NoMuon.atlas_mm_vmm.nevs_1000.bkgr_1_Rnd946975.h5\n",
      "/sdf/home/r/rafaeltl/home/Muon/21062022/si-mu-lator//batch_slac/out_files/atlas_mm_vmm_bkgr_1/NoMuon.atlas_mm_vmm.nevs_1000.bkgr_1_Rnd946899.h5\n",
      "/sdf/home/r/rafaeltl/home/Muon/21062022/si-mu-lator//batch_slac/out_files/atlas_mm_vmm_bkgr_1/WithMuon.atlas_mm_vmm.nevs_1000.bkgr_1.mux.-2.0.2.0_Rnd60316.h5\n",
      "/sdf/home/r/rafaeltl/home/Muon/21062022/si-mu-lator//batch_slac/out_files/atlas_mm_vmm_bkgr_1/NoMuon.atlas_mm_vmm.nevs_1000.bkgr_1_Rnd946928.h5\n",
      "/sdf/home/r/rafaeltl/home/Muon/21062022/si-mu-lator//batch_slac/out_files/atlas_mm_vmm_bkgr_1/WithMuon.atlas_mm_vmm.nevs_1000.bkgr_1.mux.-2.0.2.0_Rnd60350.h5\n",
      "/sdf/home/r/rafaeltl/home/Muon/21062022/si-mu-lator//batch_slac/out_files/atlas_mm_vmm_bkgr_1/WithMuon.atlas_mm_vmm.nevs_1000.bkgr_1.mux.-2.0.2.0_Rnd60332.h5\n",
      "/sdf/home/r/rafaeltl/home/Muon/21062022/si-mu-lator//batch_slac/out_files/atlas_mm_vmm_bkgr_1/NoMuon.atlas_mm_vmm.nevs_1000.bkgr_1_Rnd946951.h5\n",
      "/sdf/home/r/rafaeltl/home/Muon/21062022/si-mu-lator//batch_slac/out_files/atlas_mm_vmm_bkgr_1/WithMuon.atlas_mm_vmm.nevs_1000.bkgr_1.mux.-2.0.2.0_Rnd60294.h5\n",
      "/sdf/home/r/rafaeltl/home/Muon/21062022/si-mu-lator//batch_slac/out_files/atlas_mm_vmm_bkgr_1/WithMuon.atlas_mm_vmm.nevs_1000.bkgr_1.mux.-2.0.2.0_Rnd60318.h5\n",
      "/sdf/home/r/rafaeltl/home/Muon/21062022/si-mu-lator//batch_slac/out_files/atlas_mm_vmm_bkgr_1/NoMuon.atlas_mm_vmm.nevs_1000.bkgr_1_Rnd946915.h5\n",
      "/sdf/home/r/rafaeltl/home/Muon/21062022/si-mu-lator//batch_slac/out_files/atlas_mm_vmm_bkgr_1/WithMuon.atlas_mm_vmm.nevs_1000.bkgr_1.mux.-2.0.2.0_Rnd60346.h5\n",
      "/sdf/home/r/rafaeltl/home/Muon/21062022/si-mu-lator//batch_slac/out_files/atlas_mm_vmm_bkgr_1/WithMuon.atlas_mm_vmm.nevs_1000.bkgr_1.mux.-2.0.2.0_Rnd60344.h5\n",
      "/sdf/home/r/rafaeltl/home/Muon/21062022/si-mu-lator//batch_slac/out_files/atlas_mm_vmm_bkgr_1/NoMuon.atlas_mm_vmm.nevs_1000.bkgr_1_Rnd946940.h5\n",
      "/sdf/home/r/rafaeltl/home/Muon/21062022/si-mu-lator//batch_slac/out_files/atlas_mm_vmm_bkgr_1/WithMuon.atlas_mm_vmm.nevs_1000.bkgr_1.mux.-2.0.2.0_Rnd60315.h5\n",
      "/sdf/home/r/rafaeltl/home/Muon/21062022/si-mu-lator//batch_slac/out_files/atlas_mm_vmm_bkgr_1/WithMuon.atlas_mm_vmm.nevs_1000.bkgr_1.mux.-2.0.2.0_Rnd60276.h5\n",
      "/sdf/home/r/rafaeltl/home/Muon/21062022/si-mu-lator//batch_slac/out_files/atlas_mm_vmm_bkgr_1/NoMuon.atlas_mm_vmm.nevs_1000.bkgr_1_Rnd946898.h5\n",
      "/sdf/home/r/rafaeltl/home/Muon/21062022/si-mu-lator//batch_slac/out_files/atlas_mm_vmm_bkgr_1/NoMuon.atlas_mm_vmm.nevs_1000.bkgr_1_Rnd946974.h5\n",
      "/sdf/home/r/rafaeltl/home/Muon/21062022/si-mu-lator//batch_slac/out_files/atlas_mm_vmm_bkgr_1/NoMuon.atlas_mm_vmm.nevs_1000.bkgr_1_Rnd946946.h5\n",
      "/sdf/home/r/rafaeltl/home/Muon/21062022/si-mu-lator//batch_slac/out_files/atlas_mm_vmm_bkgr_1/WithMuon.atlas_mm_vmm.nevs_1000.bkgr_1.mux.-2.0.2.0_Rnd60289.h5\n",
      "/sdf/home/r/rafaeltl/home/Muon/21062022/si-mu-lator//batch_slac/out_files/atlas_mm_vmm_bkgr_1/WithMuon.atlas_mm_vmm.nevs_1000.bkgr_1.mux.-2.0.2.0_Rnd60298.h5\n",
      "/sdf/home/r/rafaeltl/home/Muon/21062022/si-mu-lator//batch_slac/out_files/atlas_mm_vmm_bkgr_1/NoMuon.atlas_mm_vmm.nevs_1000.bkgr_1_Rnd946939.h5\n",
      "/sdf/home/r/rafaeltl/home/Muon/21062022/si-mu-lator//batch_slac/out_files/atlas_mm_vmm_bkgr_1/NoMuon.atlas_mm_vmm.nevs_1000.bkgr_1_Rnd946936.h5\n",
      "/sdf/home/r/rafaeltl/home/Muon/21062022/si-mu-lator//batch_slac/out_files/atlas_mm_vmm_bkgr_1/NoMuon.atlas_mm_vmm.nevs_1000.bkgr_1_Rnd946902.h5\n",
      "/sdf/home/r/rafaeltl/home/Muon/21062022/si-mu-lator//batch_slac/out_files/atlas_mm_vmm_bkgr_1/WithMuon.atlas_mm_vmm.nevs_1000.bkgr_1.mux.-2.0.2.0_Rnd60290.h5\n",
      "/sdf/home/r/rafaeltl/home/Muon/21062022/si-mu-lator//batch_slac/out_files/atlas_mm_vmm_bkgr_1/NoMuon.atlas_mm_vmm.nevs_1000.bkgr_1_Rnd946914.h5\n",
      "/sdf/home/r/rafaeltl/home/Muon/21062022/si-mu-lator//batch_slac/out_files/atlas_mm_vmm_bkgr_1/WithMuon.atlas_mm_vmm.nevs_1000.bkgr_1.mux.-2.0.2.0_Rnd60353.h5\n",
      "/sdf/home/r/rafaeltl/home/Muon/21062022/si-mu-lator//batch_slac/out_files/atlas_mm_vmm_bkgr_1/NoMuon.atlas_mm_vmm.nevs_1000.bkgr_1_Rnd946954.h5\n",
      "/sdf/home/r/rafaeltl/home/Muon/21062022/si-mu-lator//batch_slac/out_files/atlas_mm_vmm_bkgr_1/WithMuon.atlas_mm_vmm.nevs_1000.bkgr_1.mux.-2.0.2.0_Rnd60293.h5\n",
      "/sdf/home/r/rafaeltl/home/Muon/21062022/si-mu-lator//batch_slac/out_files/atlas_mm_vmm_bkgr_1/NoMuon.atlas_mm_vmm.nevs_1000.bkgr_1_Rnd946986.h5\n",
      "/sdf/home/r/rafaeltl/home/Muon/21062022/si-mu-lator//batch_slac/out_files/atlas_mm_vmm_bkgr_1/WithMuon.atlas_mm_vmm.nevs_1000.bkgr_1.mux.-2.0.2.0_Rnd60310.h5\n",
      "/sdf/home/r/rafaeltl/home/Muon/21062022/si-mu-lator//batch_slac/out_files/atlas_mm_vmm_bkgr_1/WithMuon.atlas_mm_vmm.nevs_1000.bkgr_1.mux.-2.0.2.0_Rnd60305.h5\n",
      "/sdf/home/r/rafaeltl/home/Muon/21062022/si-mu-lator//batch_slac/out_files/atlas_mm_vmm_bkgr_1/WithMuon.atlas_mm_vmm.nevs_1000.bkgr_1.mux.-2.0.2.0_Rnd60301.h5\n",
      "/sdf/home/r/rafaeltl/home/Muon/21062022/si-mu-lator//batch_slac/out_files/atlas_mm_vmm_bkgr_1/WithMuon.atlas_mm_vmm.nevs_1000.bkgr_1.mux.-2.0.2.0_Rnd60333.h5\n",
      "/sdf/home/r/rafaeltl/home/Muon/21062022/si-mu-lator//batch_slac/out_files/atlas_mm_vmm_bkgr_1/WithMuon.atlas_mm_vmm.nevs_1000.bkgr_1.mux.-2.0.2.0_Rnd60272.h5\n",
      "/sdf/home/r/rafaeltl/home/Muon/21062022/si-mu-lator//batch_slac/out_files/atlas_mm_vmm_bkgr_1/NoMuon.atlas_mm_vmm.nevs_1000.bkgr_1_Rnd946945.h5\n",
      "/sdf/home/r/rafaeltl/home/Muon/21062022/si-mu-lator//batch_slac/out_files/atlas_mm_vmm_bkgr_1/NoMuon.atlas_mm_vmm.nevs_1000.bkgr_1_Rnd946982.h5\n",
      "/sdf/home/r/rafaeltl/home/Muon/21062022/si-mu-lator//batch_slac/out_files/atlas_mm_vmm_bkgr_1/NoMuon.atlas_mm_vmm.nevs_1000.bkgr_1_Rnd946955.h5\n",
      "/sdf/home/r/rafaeltl/home/Muon/21062022/si-mu-lator//batch_slac/out_files/atlas_mm_vmm_bkgr_1/WithMuon.atlas_mm_vmm.nevs_1000.bkgr_1.mux.-2.0.2.0_Rnd60343.h5\n",
      "/sdf/home/r/rafaeltl/home/Muon/21062022/si-mu-lator//batch_slac/out_files/atlas_mm_vmm_bkgr_1/NoMuon.atlas_mm_vmm.nevs_1000.bkgr_1_Rnd946907.h5\n",
      "/sdf/home/r/rafaeltl/home/Muon/21062022/si-mu-lator//batch_slac/out_files/atlas_mm_vmm_bkgr_1/WithMuon.atlas_mm_vmm.nevs_1000.bkgr_1.mux.-2.0.2.0_Rnd60286.h5\n",
      "/sdf/home/r/rafaeltl/home/Muon/21062022/si-mu-lator//batch_slac/out_files/atlas_mm_vmm_bkgr_1/WithMuon.atlas_mm_vmm.nevs_1000.bkgr_1.mux.-2.0.2.0_Rnd60307.h5\n",
      "/sdf/home/r/rafaeltl/home/Muon/21062022/si-mu-lator//batch_slac/out_files/atlas_mm_vmm_bkgr_1/NoMuon.atlas_mm_vmm.nevs_1000.bkgr_1_Rnd946927.h5\n",
      "/sdf/home/r/rafaeltl/home/Muon/21062022/si-mu-lator//batch_slac/out_files/atlas_mm_vmm_bkgr_1/NoMuon.atlas_mm_vmm.nevs_1000.bkgr_1_Rnd946973.h5\n",
      "/sdf/home/r/rafaeltl/home/Muon/21062022/si-mu-lator//batch_slac/out_files/atlas_mm_vmm_bkgr_1/WithMuon.atlas_mm_vmm.nevs_1000.bkgr_1.mux.-2.0.2.0_Rnd60302.h5\n",
      "/sdf/home/r/rafaeltl/home/Muon/21062022/si-mu-lator//batch_slac/out_files/atlas_mm_vmm_bkgr_1/NoMuon.atlas_mm_vmm.nevs_1000.bkgr_1_Rnd946988.h5\n",
      "/sdf/home/r/rafaeltl/home/Muon/21062022/si-mu-lator//batch_slac/out_files/atlas_mm_vmm_bkgr_1/WithMuon.atlas_mm_vmm.nevs_1000.bkgr_1.mux.-2.0.2.0_Rnd60281.h5\n",
      "/sdf/home/r/rafaeltl/home/Muon/21062022/si-mu-lator//batch_slac/out_files/atlas_mm_vmm_bkgr_1/WithMuon.atlas_mm_vmm.nevs_1000.bkgr_1.mux.-2.0.2.0_Rnd60314.h5\n",
      "/sdf/home/r/rafaeltl/home/Muon/21062022/si-mu-lator//batch_slac/out_files/atlas_mm_vmm_bkgr_1/NoMuon.atlas_mm_vmm.nevs_1000.bkgr_1_Rnd946972.h5\n",
      "/sdf/home/r/rafaeltl/home/Muon/21062022/si-mu-lator//batch_slac/out_files/atlas_mm_vmm_bkgr_1/WithMuon.atlas_mm_vmm.nevs_1000.bkgr_1.mux.-2.0.2.0_Rnd60321.h5\n",
      "/sdf/home/r/rafaeltl/home/Muon/21062022/si-mu-lator//batch_slac/out_files/atlas_mm_vmm_bkgr_1/WithMuon.atlas_mm_vmm.nevs_1000.bkgr_1.mux.-2.0.2.0_Rnd60285.h5\n",
      "/sdf/home/r/rafaeltl/home/Muon/21062022/si-mu-lator//batch_slac/out_files/atlas_mm_vmm_bkgr_1/WithMuon.atlas_mm_vmm.nevs_1000.bkgr_1.mux.-2.0.2.0_Rnd60288.h5\n",
      "/sdf/home/r/rafaeltl/home/Muon/21062022/si-mu-lator//batch_slac/out_files/atlas_mm_vmm_bkgr_1/WithMuon.atlas_mm_vmm.nevs_1000.bkgr_1.mux.-2.0.2.0_Rnd60297.h5\n",
      "/sdf/home/r/rafaeltl/home/Muon/21062022/si-mu-lator//batch_slac/out_files/atlas_mm_vmm_bkgr_1/NoMuon.atlas_mm_vmm.nevs_1000.bkgr_1_Rnd946922.h5\n",
      "/sdf/home/r/rafaeltl/home/Muon/21062022/si-mu-lator//batch_slac/out_files/atlas_mm_vmm_bkgr_1/WithMuon.atlas_mm_vmm.nevs_1000.bkgr_1.mux.-2.0.2.0_Rnd60308.h5\n",
      "/sdf/home/r/rafaeltl/home/Muon/21062022/si-mu-lator//batch_slac/out_files/atlas_mm_vmm_bkgr_1/WithMuon.atlas_mm_vmm.nevs_1000.bkgr_1.mux.-2.0.2.0_Rnd60328.h5\n",
      "/sdf/home/r/rafaeltl/home/Muon/21062022/si-mu-lator//batch_slac/out_files/atlas_mm_vmm_bkgr_1/NoMuon.atlas_mm_vmm.nevs_1000.bkgr_1_Rnd946901.h5\n",
      "/sdf/home/r/rafaeltl/home/Muon/21062022/si-mu-lator//batch_slac/out_files/atlas_mm_vmm_bkgr_1/NoMuon.atlas_mm_vmm.nevs_1000.bkgr_1_Rnd946990.h5\n",
      "/sdf/home/r/rafaeltl/home/Muon/21062022/si-mu-lator//batch_slac/out_files/atlas_mm_vmm_bkgr_1/WithMuon.atlas_mm_vmm.nevs_1000.bkgr_1.mux.-2.0.2.0_Rnd60324.h5\n",
      "/sdf/home/r/rafaeltl/home/Muon/21062022/si-mu-lator//batch_slac/out_files/atlas_mm_vmm_bkgr_1/NoMuon.atlas_mm_vmm.nevs_1000.bkgr_1_Rnd946970.h5\n",
      "/sdf/home/r/rafaeltl/home/Muon/21062022/si-mu-lator//batch_slac/out_files/atlas_mm_vmm_bkgr_1/NoMuon.atlas_mm_vmm.nevs_1000.bkgr_1_Rnd946953.h5\n",
      "/sdf/home/r/rafaeltl/home/Muon/21062022/si-mu-lator//batch_slac/out_files/atlas_mm_vmm_bkgr_1/WithMuon.atlas_mm_vmm.nevs_1000.bkgr_1.mux.-2.0.2.0_Rnd60336.h5\n",
      "/sdf/home/r/rafaeltl/home/Muon/21062022/si-mu-lator//batch_slac/out_files/atlas_mm_vmm_bkgr_1/WithMuon.atlas_mm_vmm.nevs_1000.bkgr_1.mux.-2.0.2.0_Rnd60271.h5\n",
      "/sdf/home/r/rafaeltl/home/Muon/21062022/si-mu-lator//batch_slac/out_files/atlas_mm_vmm_bkgr_1/NoMuon.atlas_mm_vmm.nevs_1000.bkgr_1_Rnd946895.h5\n",
      "/sdf/home/r/rafaeltl/home/Muon/21062022/si-mu-lator//batch_slac/out_files/atlas_mm_vmm_bkgr_1/WithMuon.atlas_mm_vmm.nevs_1000.bkgr_1.mux.-2.0.2.0_Rnd60313.h5\n",
      "/sdf/home/r/rafaeltl/home/Muon/21062022/si-mu-lator//batch_slac/out_files/atlas_mm_vmm_bkgr_1/WithMuon.atlas_mm_vmm.nevs_1000.bkgr_1.mux.-2.0.2.0_Rnd60340.h5\n",
      "/sdf/home/r/rafaeltl/home/Muon/21062022/si-mu-lator//batch_slac/out_files/atlas_mm_vmm_bkgr_1/WithMuon.atlas_mm_vmm.nevs_1000.bkgr_1.mux.-2.0.2.0_Rnd116396.h5\n",
      "/sdf/home/r/rafaeltl/home/Muon/21062022/si-mu-lator//batch_slac/out_files/atlas_mm_vmm_bkgr_1/NoMuon.atlas_mm_vmm.nevs_1000.bkgr_1_Rnd946905.h5\n",
      "/sdf/home/r/rafaeltl/home/Muon/21062022/si-mu-lator//batch_slac/out_files/atlas_mm_vmm_bkgr_1/NoMuon.atlas_mm_vmm.nevs_1000.bkgr_1_Rnd946917.h5\n",
      "/sdf/home/r/rafaeltl/home/Muon/21062022/si-mu-lator//batch_slac/out_files/atlas_mm_vmm_bkgr_1/NoMuon.atlas_mm_vmm.nevs_1000.bkgr_1_Rnd946893.h5\n",
      "/sdf/home/r/rafaeltl/home/Muon/21062022/si-mu-lator//batch_slac/out_files/atlas_mm_vmm_bkgr_1/WithMuon.atlas_mm_vmm.nevs_1000.bkgr_1.mux.-2.0.2.0_Rnd60323.h5\n",
      "/sdf/home/r/rafaeltl/home/Muon/21062022/si-mu-lator//batch_slac/out_files/atlas_mm_vmm_bkgr_1/WithMuon.atlas_mm_vmm.nevs_1000.bkgr_1.mux.-2.0.2.0_Rnd60342.h5\n",
      "/sdf/home/r/rafaeltl/home/Muon/21062022/si-mu-lator//batch_slac/out_files/atlas_mm_vmm_bkgr_1/NoMuon.atlas_mm_vmm.nevs_1000.bkgr_1_Rnd946934.h5\n",
      "/sdf/home/r/rafaeltl/home/Muon/21062022/si-mu-lator//batch_slac/out_files/atlas_mm_vmm_bkgr_1/WithMuon.atlas_mm_vmm.nevs_1000.bkgr_1.mux.-2.0.2.0_Rnd60331.h5\n",
      "/sdf/home/r/rafaeltl/home/Muon/21062022/si-mu-lator//batch_slac/out_files/atlas_mm_vmm_bkgr_1/WithMuon.atlas_mm_vmm.nevs_1000.bkgr_1.mux.-2.0.2.0_Rnd60275.h5\n",
      "/sdf/home/r/rafaeltl/home/Muon/21062022/si-mu-lator//batch_slac/out_files/atlas_mm_vmm_bkgr_1/WithMuon.atlas_mm_vmm.nevs_1000.bkgr_1.mux.-2.0.2.0_Rnd60279.h5\n",
      "/sdf/home/r/rafaeltl/home/Muon/21062022/si-mu-lator//batch_slac/out_files/atlas_mm_vmm_bkgr_1/NoMuon.atlas_mm_vmm.nevs_1000.bkgr_1_Rnd946962.h5\n",
      "/sdf/home/r/rafaeltl/home/Muon/21062022/si-mu-lator//batch_slac/out_files/atlas_mm_vmm_bkgr_1/NoMuon.atlas_mm_vmm.nevs_1000.bkgr_1_Rnd946931.h5\n",
      "/sdf/home/r/rafaeltl/home/Muon/21062022/si-mu-lator//batch_slac/out_files/atlas_mm_vmm_bkgr_1/NoMuon.atlas_mm_vmm.nevs_1000.bkgr_1_Rnd946908.h5\n",
      "/sdf/home/r/rafaeltl/home/Muon/21062022/si-mu-lator//batch_slac/out_files/atlas_mm_vmm_bkgr_1/NoMuon.atlas_mm_vmm.nevs_1000.bkgr_1_Rnd946920.h5\n",
      "/sdf/home/r/rafaeltl/home/Muon/21062022/si-mu-lator//batch_slac/out_files/atlas_mm_vmm_bkgr_1/NoMuon.atlas_mm_vmm.nevs_1000.bkgr_1_Rnd946963.h5\n",
      "/sdf/home/r/rafaeltl/home/Muon/21062022/si-mu-lator//batch_slac/out_files/atlas_mm_vmm_bkgr_1/WithMuon.atlas_mm_vmm.nevs_1000.bkgr_1.mux.-2.0.2.0_Rnd60349.h5\n",
      "/sdf/home/r/rafaeltl/home/Muon/21062022/si-mu-lator//batch_slac/out_files/atlas_mm_vmm_bkgr_1/NoMuon.atlas_mm_vmm.nevs_1000.bkgr_1_Rnd946906.h5\n",
      "/sdf/home/r/rafaeltl/home/Muon/21062022/si-mu-lator//batch_slac/out_files/atlas_mm_vmm_bkgr_1/NoMuon.atlas_mm_vmm.nevs_1000.bkgr_1_Rnd946918.h5\n",
      "/sdf/home/r/rafaeltl/home/Muon/21062022/si-mu-lator//batch_slac/out_files/atlas_mm_vmm_bkgr_1/WithMuon.atlas_mm_vmm.nevs_1000.bkgr_1.mux.-2.0.2.0_Rnd60359.h5\n",
      "/sdf/home/r/rafaeltl/home/Muon/21062022/si-mu-lator//batch_slac/out_files/atlas_mm_vmm_bkgr_1/WithMuon.atlas_mm_vmm.nevs_1000.bkgr_1.mux.-2.0.2.0_Rnd60306.h5\n",
      "/sdf/home/r/rafaeltl/home/Muon/21062022/si-mu-lator//batch_slac/out_files/atlas_mm_vmm_bkgr_1/WithMuon.atlas_mm_vmm.nevs_1000.bkgr_1.mux.-2.0.2.0_Rnd60360.h5\n",
      "/sdf/home/r/rafaeltl/home/Muon/21062022/si-mu-lator//batch_slac/out_files/atlas_mm_vmm_bkgr_1/NoMuon.atlas_mm_vmm.nevs_1000.bkgr_1_Rnd946979.h5\n",
      "/sdf/home/r/rafaeltl/home/Muon/21062022/si-mu-lator//batch_slac/out_files/atlas_mm_vmm_bkgr_1/WithMuon.atlas_mm_vmm.nevs_1000.bkgr_1.mux.-2.0.2.0_Rnd60362.h5\n",
      "/sdf/home/r/rafaeltl/home/Muon/21062022/si-mu-lator//batch_slac/out_files/atlas_mm_vmm_bkgr_1/WithMuon.atlas_mm_vmm.nevs_1000.bkgr_1.mux.-2.0.2.0_Rnd60335.h5\n",
      "/sdf/home/r/rafaeltl/home/Muon/21062022/si-mu-lator//batch_slac/out_files/atlas_mm_vmm_bkgr_1/WithMuon.atlas_mm_vmm.nevs_1000.bkgr_1.mux.-2.0.2.0_Rnd60291.h5\n",
      "/sdf/home/r/rafaeltl/home/Muon/21062022/si-mu-lator//batch_slac/out_files/atlas_mm_vmm_bkgr_1/NoMuon.atlas_mm_vmm.nevs_1000.bkgr_1_Rnd946935.h5\n",
      "/sdf/home/r/rafaeltl/home/Muon/21062022/si-mu-lator//batch_slac/out_files/atlas_mm_vmm_bkgr_1/WithMuon.atlas_mm_vmm.nevs_1000.bkgr_1.mux.-2.0.2.0_Rnd60278.h5\n",
      "/sdf/home/r/rafaeltl/home/Muon/21062022/si-mu-lator//batch_slac/out_files/atlas_mm_vmm_bkgr_1/NoMuon.atlas_mm_vmm.nevs_1000.bkgr_1_Rnd946991.h5\n",
      "/sdf/home/r/rafaeltl/home/Muon/21062022/si-mu-lator//batch_slac/out_files/atlas_mm_vmm_bkgr_1/NoMuon.atlas_mm_vmm.nevs_1000.bkgr_1_Rnd946987.h5\n",
      "/sdf/home/r/rafaeltl/home/Muon/21062022/si-mu-lator//batch_slac/out_files/atlas_mm_vmm_bkgr_1/NoMuon.atlas_mm_vmm.nevs_1000.bkgr_1_Rnd946938.h5\n",
      "/sdf/home/r/rafaeltl/home/Muon/21062022/si-mu-lator//batch_slac/out_files/atlas_mm_vmm_bkgr_1/NoMuon.atlas_mm_vmm.nevs_1000.bkgr_1_Rnd946983.h5\n",
      "/sdf/home/r/rafaeltl/home/Muon/21062022/si-mu-lator//batch_slac/out_files/atlas_mm_vmm_bkgr_1/NoMuon.atlas_mm_vmm.nevs_1000.bkgr_1_Rnd946919.h5\n",
      "/sdf/home/r/rafaeltl/home/Muon/21062022/si-mu-lator//batch_slac/out_files/atlas_mm_vmm_bkgr_1/NoMuon.atlas_mm_vmm.nevs_1000.bkgr_1_Rnd946985.h5\n",
      "/sdf/home/r/rafaeltl/home/Muon/21062022/si-mu-lator//batch_slac/out_files/atlas_mm_vmm_bkgr_1/NoMuon.atlas_mm_vmm.nevs_1000.bkgr_1_Rnd946929.h5\n",
      "/sdf/home/r/rafaeltl/home/Muon/21062022/si-mu-lator//batch_slac/out_files/atlas_mm_vmm_bkgr_1/NoMuon.atlas_mm_vmm.nevs_1000.bkgr_1_Rnd946930.h5\n",
      "/sdf/home/r/rafaeltl/home/Muon/21062022/si-mu-lator//batch_slac/out_files/atlas_mm_vmm_bkgr_1/NoMuon.atlas_mm_vmm.nevs_1000.bkgr_1_Rnd946942.h5\n",
      "/sdf/home/r/rafaeltl/home/Muon/21062022/si-mu-lator//batch_slac/out_files/atlas_mm_vmm_bkgr_1/WithMuon.atlas_mm_vmm.nevs_1000.bkgr_1.mux.-2.0.2.0_Rnd60270.h5\n",
      "/sdf/home/r/rafaeltl/home/Muon/21062022/si-mu-lator//batch_slac/out_files/atlas_mm_vmm_bkgr_1/NoMuon.atlas_mm_vmm.nevs_1000.bkgr_1_Rnd946892.h5\n",
      "/sdf/home/r/rafaeltl/home/Muon/21062022/si-mu-lator//batch_slac/out_files/atlas_mm_vmm_bkgr_1/NoMuon.atlas_mm_vmm.nevs_1000.bkgr_1_Rnd946964.h5\n",
      "/sdf/home/r/rafaeltl/home/Muon/21062022/si-mu-lator//batch_slac/out_files/atlas_mm_vmm_bkgr_1/WithMuon.atlas_mm_vmm.nevs_1000.bkgr_1.mux.-2.0.2.0_Rnd60304.h5\n",
      "/sdf/home/r/rafaeltl/home/Muon/21062022/si-mu-lator//batch_slac/out_files/atlas_mm_vmm_bkgr_1/NoMuon.atlas_mm_vmm.nevs_1000.bkgr_1_Rnd946911.h5\n",
      "/sdf/home/r/rafaeltl/home/Muon/21062022/si-mu-lator//batch_slac/out_files/atlas_mm_vmm_bkgr_1/NoMuon.atlas_mm_vmm.nevs_1000.bkgr_1_Rnd946948.h5\n",
      "/sdf/home/r/rafaeltl/home/Muon/21062022/si-mu-lator//batch_slac/out_files/atlas_mm_vmm_bkgr_1/WithMuon.atlas_mm_vmm.nevs_1000.bkgr_1.mux.-2.0.2.0_Rnd60358.h5\n",
      "/sdf/home/r/rafaeltl/home/Muon/21062022/si-mu-lator//batch_slac/out_files/atlas_mm_vmm_bkgr_1/NoMuon.atlas_mm_vmm.nevs_1000.bkgr_1_Rnd946941.h5\n",
      "/sdf/home/r/rafaeltl/home/Muon/21062022/si-mu-lator//batch_slac/out_files/atlas_mm_vmm_bkgr_1/NoMuon.atlas_mm_vmm.nevs_1000.bkgr_1_Rnd946933.h5\n",
      "/sdf/home/r/rafaeltl/home/Muon/21062022/si-mu-lator//batch_slac/out_files/atlas_mm_vmm_bkgr_1/WithMuon.atlas_mm_vmm.nevs_1000.bkgr_1.mux.-2.0.2.0_Rnd60287.h5\n",
      "/sdf/home/r/rafaeltl/home/Muon/21062022/si-mu-lator//batch_slac/out_files/atlas_mm_vmm_bkgr_1/WithMuon.atlas_mm_vmm.nevs_1000.bkgr_1.mux.-2.0.2.0_Rnd60364.h5\n",
      "/sdf/home/r/rafaeltl/home/Muon/21062022/si-mu-lator//batch_slac/out_files/atlas_mm_vmm_bkgr_1/NoMuon.atlas_mm_vmm.nevs_1000.bkgr_1_Rnd946925.h5\n",
      "/sdf/home/r/rafaeltl/home/Muon/21062022/si-mu-lator//batch_slac/out_files/atlas_mm_vmm_bkgr_1/WithMuon.atlas_mm_vmm.nevs_1000.bkgr_1.mux.-2.0.2.0_Rnd60322.h5\n",
      "/sdf/home/r/rafaeltl/home/Muon/21062022/si-mu-lator//batch_slac/out_files/atlas_mm_vmm_bkgr_1/NoMuon.atlas_mm_vmm.nevs_1000.bkgr_1_Rnd946944.h5\n",
      "/sdf/home/r/rafaeltl/home/Muon/21062022/si-mu-lator//batch_slac/out_files/atlas_mm_vmm_bkgr_1/NoMuon.atlas_mm_vmm.nevs_1000.bkgr_1_Rnd946984.h5\n",
      "/sdf/home/r/rafaeltl/home/Muon/21062022/si-mu-lator//batch_slac/out_files/atlas_mm_vmm_bkgr_1/WithMuon.atlas_mm_vmm.nevs_1000.bkgr_1.mux.-2.0.2.0_Rnd60317.h5\n",
      "/sdf/home/r/rafaeltl/home/Muon/21062022/si-mu-lator//batch_slac/out_files/atlas_mm_vmm_bkgr_1/NoMuon.atlas_mm_vmm.nevs_1000.bkgr_1_Rnd946932.h5\n",
      "/sdf/home/r/rafaeltl/home/Muon/21062022/si-mu-lator//batch_slac/out_files/atlas_mm_vmm_bkgr_1/NoMuon.atlas_mm_vmm.nevs_1000.bkgr_1_Rnd946910.h5\n",
      "/sdf/home/r/rafaeltl/home/Muon/21062022/si-mu-lator//batch_slac/out_files/atlas_mm_vmm_bkgr_1/WithMuon.atlas_mm_vmm.nevs_1000.bkgr_1.mux.-2.0.2.0_Rnd60356.h5\n",
      "/sdf/home/r/rafaeltl/home/Muon/21062022/si-mu-lator//batch_slac/out_files/atlas_mm_vmm_bkgr_1/WithMuon.atlas_mm_vmm.nevs_1000.bkgr_1.mux.-2.0.2.0_Rnd60299.h5\n",
      "/sdf/home/r/rafaeltl/home/Muon/21062022/si-mu-lator//batch_slac/out_files/atlas_mm_vmm_bkgr_1/WithMuon.atlas_mm_vmm.nevs_1000.bkgr_1.mux.-2.0.2.0_Rnd60327.h5\n",
      "/sdf/home/r/rafaeltl/home/Muon/21062022/si-mu-lator//batch_slac/out_files/atlas_mm_vmm_bkgr_1/NoMuon.atlas_mm_vmm.nevs_1000.bkgr_1_Rnd946950.h5\n",
      "/sdf/home/r/rafaeltl/home/Muon/21062022/si-mu-lator//batch_slac/out_files/atlas_mm_vmm_bkgr_1/WithMuon.atlas_mm_vmm.nevs_1000.bkgr_1.mux.-2.0.2.0_Rnd60274.h5\n",
      "/sdf/home/r/rafaeltl/home/Muon/21062022/si-mu-lator//batch_slac/out_files/atlas_mm_vmm_bkgr_1/NoMuon.atlas_mm_vmm.nevs_1000.bkgr_1_Rnd946978.h5\n",
      "/sdf/home/r/rafaeltl/home/Muon/21062022/si-mu-lator//batch_slac/out_files/atlas_mm_vmm_bkgr_1/NoMuon.atlas_mm_vmm.nevs_1000.bkgr_1_Rnd946900.h5\n",
      "/sdf/home/r/rafaeltl/home/Muon/21062022/si-mu-lator//batch_slac/out_files/atlas_mm_vmm_bkgr_1/WithMuon.atlas_mm_vmm.nevs_1000.bkgr_1.mux.-2.0.2.0_Rnd60339.h5\n",
      "/sdf/home/r/rafaeltl/home/Muon/21062022/si-mu-lator//batch_slac/out_files/atlas_mm_vmm_bkgr_1/NoMuon.atlas_mm_vmm.nevs_1000.bkgr_1_Rnd946971.h5\n",
      "/sdf/home/r/rafaeltl/home/Muon/21062022/si-mu-lator//batch_slac/out_files/atlas_mm_vmm_bkgr_1/NoMuon.atlas_mm_vmm.nevs_1000.bkgr_1_Rnd946924.h5\n",
      "/sdf/home/r/rafaeltl/home/Muon/21062022/si-mu-lator//batch_slac/out_files/atlas_mm_vmm_bkgr_1/WithMuon.atlas_mm_vmm.nevs_1000.bkgr_1.mux.-2.0.2.0_Rnd60361.h5\n",
      "/sdf/home/r/rafaeltl/home/Muon/21062022/si-mu-lator//batch_slac/out_files/atlas_mm_vmm_bkgr_1/WithMuon.atlas_mm_vmm.nevs_1000.bkgr_1.mux.-2.0.2.0_Rnd60368.h5\n",
      "/sdf/home/r/rafaeltl/home/Muon/21062022/si-mu-lator//batch_slac/out_files/atlas_mm_vmm_bkgr_1/WithMuon.atlas_mm_vmm.nevs_1000.bkgr_1.mux.-2.0.2.0_Rnd60303.h5\n",
      "/sdf/home/r/rafaeltl/home/Muon/21062022/si-mu-lator//batch_slac/out_files/atlas_mm_vmm_bkgr_1/NoMuon.atlas_mm_vmm.nevs_1000.bkgr_1_Rnd946921.h5\n",
      "/sdf/home/r/rafaeltl/home/Muon/21062022/si-mu-lator//batch_slac/out_files/atlas_mm_vmm_bkgr_1/NoMuon.atlas_mm_vmm.nevs_1000.bkgr_1_Rnd946896.h5\n",
      "/sdf/home/r/rafaeltl/home/Muon/21062022/si-mu-lator//batch_slac/out_files/atlas_mm_vmm_bkgr_1/WithMuon.atlas_mm_vmm.nevs_1000.bkgr_1.mux.-2.0.2.0_Rnd60277.h5\n",
      "/sdf/home/r/rafaeltl/home/Muon/21062022/si-mu-lator//batch_slac/out_files/atlas_mm_vmm_bkgr_1/WithMuon.atlas_mm_vmm.nevs_1000.bkgr_1.mux.-2.0.2.0_Rnd60355.h5\n",
      "/sdf/home/r/rafaeltl/home/Muon/21062022/si-mu-lator//batch_slac/out_files/atlas_mm_vmm_bkgr_1/NoMuon.atlas_mm_vmm.nevs_1000.bkgr_1_Rnd946894.h5\n",
      "/sdf/home/r/rafaeltl/home/Muon/21062022/si-mu-lator//batch_slac/out_files/atlas_mm_vmm_bkgr_1/NoMuon.atlas_mm_vmm.nevs_1000.bkgr_1_Rnd946947.h5\n",
      "/sdf/home/r/rafaeltl/home/Muon/21062022/si-mu-lator//batch_slac/out_files/atlas_mm_vmm_bkgr_1/WithMuon.atlas_mm_vmm.nevs_1000.bkgr_1.mux.-2.0.2.0_Rnd60330.h5\n",
      "/sdf/home/r/rafaeltl/home/Muon/21062022/si-mu-lator//batch_slac/out_files/atlas_mm_vmm_bkgr_1/WithMuon.atlas_mm_vmm.nevs_1000.bkgr_1.mux.-2.0.2.0_Rnd60345.h5\n",
      "/sdf/home/r/rafaeltl/home/Muon/21062022/si-mu-lator//batch_slac/out_files/atlas_mm_vmm_bkgr_1/NoMuon.atlas_mm_vmm.nevs_1000.bkgr_1_Rnd946909.h5\n",
      "/sdf/home/r/rafaeltl/home/Muon/21062022/si-mu-lator//batch_slac/out_files/atlas_mm_vmm_bkgr_1/WithMuon.atlas_mm_vmm.nevs_1000.bkgr_1.mux.-2.0.2.0_Rnd60352.h5\n",
      "/sdf/home/r/rafaeltl/home/Muon/21062022/si-mu-lator//batch_slac/out_files/atlas_mm_vmm_bkgr_1/WithMuon.atlas_mm_vmm.nevs_1000.bkgr_1.mux.-2.0.2.0_Rnd60354.h5\n",
      "/sdf/home/r/rafaeltl/home/Muon/21062022/si-mu-lator//batch_slac/out_files/atlas_mm_vmm_bkgr_1/NoMuon.atlas_mm_vmm.nevs_1000.bkgr_1_Rnd946976.h5\n",
      "/sdf/home/r/rafaeltl/home/Muon/21062022/si-mu-lator//batch_slac/out_files/atlas_mm_vmm_bkgr_1/WithMuon.atlas_mm_vmm.nevs_1000.bkgr_1.mux.-2.0.2.0_Rnd60357.h5\n",
      "/sdf/home/r/rafaeltl/home/Muon/21062022/si-mu-lator//batch_slac/out_files/atlas_mm_vmm_bkgr_1/NoMuon.atlas_mm_vmm.nevs_1000.bkgr_1_Rnd946981.h5\n",
      "/sdf/home/r/rafaeltl/home/Muon/21062022/si-mu-lator//batch_slac/out_files/atlas_mm_vmm_bkgr_1/WithMuon.atlas_mm_vmm.nevs_1000.bkgr_1.mux.-2.0.2.0_Rnd60369.h5\n",
      "/sdf/home/r/rafaeltl/home/Muon/21062022/si-mu-lator//batch_slac/out_files/atlas_mm_vmm_bkgr_1/NoMuon.atlas_mm_vmm.nevs_1000.bkgr_1_Rnd946937.h5\n",
      "/sdf/home/r/rafaeltl/home/Muon/21062022/si-mu-lator//batch_slac/out_files/atlas_mm_vmm_bkgr_1/WithMuon.atlas_mm_vmm.nevs_1000.bkgr_1.mux.-2.0.2.0_Rnd60309.h5\n",
      "/sdf/home/r/rafaeltl/home/Muon/21062022/si-mu-lator//batch_slac/out_files/atlas_mm_vmm_bkgr_1/WithMuon.atlas_mm_vmm.nevs_1000.bkgr_1.mux.-2.0.2.0_Rnd60296.h5\n",
      "/sdf/home/r/rafaeltl/home/Muon/21062022/si-mu-lator//batch_slac/out_files/atlas_mm_vmm_bkgr_1/WithMuon.atlas_mm_vmm.nevs_1000.bkgr_1.mux.-2.0.2.0_Rnd60326.h5\n",
      "/sdf/home/r/rafaeltl/home/Muon/21062022/si-mu-lator//batch_slac/out_files/atlas_mm_vmm_bkgr_1/NoMuon.atlas_mm_vmm.nevs_1000.bkgr_1_Rnd946989.h5\n",
      "/sdf/home/r/rafaeltl/home/Muon/21062022/si-mu-lator//batch_slac/out_files/atlas_mm_vmm_bkgr_1/WithMuon.atlas_mm_vmm.nevs_1000.bkgr_1.mux.-2.0.2.0_Rnd60325.h5\n",
      "/sdf/home/r/rafaeltl/home/Muon/21062022/si-mu-lator//batch_slac/out_files/atlas_mm_vmm_bkgr_1/NoMuon.atlas_mm_vmm.nevs_1000.bkgr_1_Rnd946967.h5\n",
      "/sdf/home/r/rafaeltl/home/Muon/21062022/si-mu-lator//batch_slac/out_files/atlas_mm_vmm_bkgr_1/NoMuon.atlas_mm_vmm.nevs_1000.bkgr_1_Rnd946926.h5\n",
      "/sdf/home/r/rafaeltl/home/Muon/21062022/si-mu-lator//batch_slac/out_files/atlas_mm_vmm_bkgr_1/WithMuon.atlas_mm_vmm.nevs_1000.bkgr_1.mux.-2.0.2.0_Rnd60338.h5\n",
      "/sdf/home/r/rafaeltl/home/Muon/21062022/si-mu-lator//batch_slac/out_files/atlas_mm_vmm_bkgr_1/WithMuon.atlas_mm_vmm.nevs_1000.bkgr_1.mux.-2.0.2.0_Rnd60334.h5\n",
      "/sdf/home/r/rafaeltl/home/Muon/21062022/si-mu-lator//batch_slac/out_files/atlas_mm_vmm_bkgr_1/NoMuon.atlas_mm_vmm.nevs_1000.bkgr_1_Rnd946977.h5\n",
      "/sdf/home/r/rafaeltl/home/Muon/21062022/si-mu-lator//batch_slac/out_files/atlas_mm_vmm_bkgr_1/WithMuon.atlas_mm_vmm.nevs_1000.bkgr_1.mux.-2.0.2.0_Rnd60341.h5\n",
      "/sdf/home/r/rafaeltl/home/Muon/21062022/si-mu-lator//batch_slac/out_files/atlas_mm_vmm_bkgr_1/NoMuon.atlas_mm_vmm.nevs_1000.bkgr_1_Rnd946957.h5\n",
      "/sdf/home/r/rafaeltl/home/Muon/21062022/si-mu-lator//batch_slac/out_files/atlas_mm_vmm_bkgr_1/NoMuon.atlas_mm_vmm.nevs_1000.bkgr_1_Rnd946969.h5\n",
      "/sdf/home/r/rafaeltl/home/Muon/21062022/si-mu-lator//batch_slac/out_files/atlas_mm_vmm_bkgr_1/WithMuon.atlas_mm_vmm.nevs_1000.bkgr_1.mux.-2.0.2.0_Rnd60300.h5\n",
      "/sdf/home/r/rafaeltl/home/Muon/21062022/si-mu-lator//batch_slac/out_files/atlas_mm_vmm_bkgr_1/WithMuon.atlas_mm_vmm.nevs_1000.bkgr_1.mux.-2.0.2.0_Rnd60348.h5\n",
      "/sdf/home/r/rafaeltl/home/Muon/21062022/si-mu-lator//batch_slac/out_files/atlas_mm_vmm_bkgr_1/WithMuon.atlas_mm_vmm.nevs_1000.bkgr_1.mux.-2.0.2.0_Rnd60319.h5\n",
      "/sdf/home/r/rafaeltl/home/Muon/21062022/si-mu-lator//batch_slac/out_files/atlas_mm_vmm_bkgr_1/NoMuon.atlas_mm_vmm.nevs_1000.bkgr_1_Rnd946913.h5\n",
      "/sdf/home/r/rafaeltl/home/Muon/21062022/si-mu-lator//batch_slac/out_files/atlas_mm_vmm_bkgr_1/NoMuon.atlas_mm_vmm.nevs_1000.bkgr_1_Rnd946959.h5\n",
      "/sdf/home/r/rafaeltl/home/Muon/21062022/si-mu-lator//batch_slac/out_files/atlas_mm_vmm_bkgr_1/WithMuon.atlas_mm_vmm.nevs_1000.bkgr_1.mux.-2.0.2.0_Rnd60273.h5\n"
     ]
    }
   ],
   "source": [
    "data, dmat, Y, Y_mu, Y_hit, sig_keys = datatools.make_data_matrix(files, max_files=500, sort_by='z')"
   ]
  },
  {
   "cell_type": "code",
   "execution_count": 12,
   "id": "fcc09f45-79d1-4e35-b76e-f8b572059e8b",
   "metadata": {},
   "outputs": [
    {
     "data": {
      "text/plain": [
       "dict_keys(['ev_mu_phi', 'ev_mu_theta', 'ev_mu_time', 'ev_mu_x', 'ev_mu_y', 'ev_n_mu_signals', 'ev_n_signals', 'n_sig_mmx', 'n_sig_mmu', 'n_sig_mmv'])"
      ]
     },
     "execution_count": 12,
     "metadata": {},
     "output_type": "execute_result"
    }
   ],
   "source": [
    "data.keys()"
   ]
  },
  {
   "cell_type": "code",
   "execution_count": 13,
   "id": "fc2c9d99-0acf-4bf1-877d-736c5971523a",
   "metadata": {},
   "outputs": [
    {
     "data": {
      "image/png": "[encoded data removed]",
      "text/plain": [
       "<Figure size 432x288 with 1 Axes>"
      ]
     },
     "metadata": {
      "needs_background": "light"
     },
     "output_type": "display_data"
    }
   ],
   "source": [
    "plt.Figure()\n",
    "plt.hist(data['ev_n_signals'][Y_mu==0], histtype='step', range=(0,13), bins=13, label='Noise')\n",
    "plt.hist(data['ev_n_signals'][Y_mu==1], histtype='step', range=(0,13), bins=13, label='Muon+Noise')\n",
    "plt.legend(loc='upper left')\n",
    "plt.xlabel('Number of signals')\n",
    "plt.ylabel('Entries')\n",
    "plt.show()"
   ]
  },
  {
   "cell_type": "code",
   "execution_count": 14,
   "id": "51761633-ae33-48b6-998f-116f6df87f5e",
   "metadata": {},
   "outputs": [
    {
     "data": {
      "image/png": "[encoded data removed]",
      "text/plain": [
       "<Figure size 432x288 with 1 Axes>"
      ]
     },
     "metadata": {
      "needs_background": "light"
     },
     "output_type": "display_data"
    }
   ],
   "source": [
    "plt.Figure()\n",
    "h_noise = plt.hist(data['n_sig_mmx'][Y_mu==0], histtype='step', range=(0,6), bins=6, label='Noise')\n",
    "h_muons = plt.hist(data['n_sig_mmx'][Y_mu==1], histtype='step', range=(0,6), bins=6, label='Muon+Noise')\n",
    "plt.legend(loc='upper left')\n",
    "plt.xlabel('Number of MMX signals')\n",
    "plt.ylabel('Entries')\n",
    "plt.show()"
   ]
  },
  {
   "cell_type": "code",
   "execution_count": 15,
   "id": "afd9290f-999d-46ac-a148-19782852fa80",
   "metadata": {},
   "outputs": [
    {
     "name": "stdout",
     "output_type": "stream",
     "text": [
      "Minimum number of MMX signals: 0\n",
      "\t Signal efficiency: 1.0\n",
      "\t Background rejection: 1.0\n",
      "Minimum number of MMX signals: 1\n",
      "\t Signal efficiency: 1.0\n",
      "\t Background rejection: 1.0111939166573973\n",
      "Minimum number of MMX signals: 2\n",
      "\t Signal efficiency: 0.999990099009901\n",
      "\t Background rejection: 1.1158970696542951\n",
      "Minimum number of MMX signals: 3\n",
      "\t Signal efficiency: 0.9978514851485148\n",
      "\t Background rejection: 1.6516367720410927\n",
      "Minimum number of MMX signals: 4\n",
      "\t Signal efficiency: 0.9223267326732674\n",
      "\t Background rejection: 4.862394242925216\n",
      "Minimum number of MMX signals: 5\n",
      "\t Signal efficiency: 0.0\n",
      "\t Background rejection: inf\n",
      "Minimum number of MMX signals: 6\n",
      "\t Signal efficiency: 0.0\n",
      "\t Background rejection: inf\n"
     ]
    },
    {
     "name": "stderr",
     "output_type": "stream",
     "text": [
      "<ipython-input-15-927cb1fc27ea>:3: RuntimeWarning: divide by zero encountered in double_scalars\n",
      "  bkg_rej = 1./(h_noise[0][ib:].sum()/h_noise[0].sum())\n"
     ]
    }
   ],
   "source": [
    "for ib in range(0,7):\n",
    "    sig_eff = h_muons[0][ib:].sum()/h_muons[0].sum()\n",
    "    bkg_rej = 1./(h_noise[0][ib:].sum()/h_noise[0].sum())\n",
    "    print('Minimum number of MMX signals:', ib)\n",
    "    print('\\t', 'Signal efficiency:', sig_eff)\n",
    "    print('\\t', 'Background rejection:', bkg_rej)"
   ]
  },
  {
   "cell_type": "code",
   "execution_count": 16,
   "id": "33e2b099-d356-41b1-a938-90f7f7018558",
   "metadata": {},
   "outputs": [
    {
     "data": {
      "text/plain": [
       "(array([ 1107.,  9279., 29068., 39980., 20566.,     0.]),\n",
       " array([0., 1., 2., 3., 4., 5., 6.]),\n",
       " [<matplotlib.patches.Polygon at 0x7f8b09b4e2b0>])"
      ]
     },
     "execution_count": 16,
     "metadata": {},
     "output_type": "execute_result"
    }
   ],
   "source": [
    "h_noise"
   ]
  },
  {
   "cell_type": "code",
   "execution_count": 17,
   "id": "6a9f8d06-a628-4fa9-83a4-37311cb09417",
   "metadata": {},
   "outputs": [
    {
     "data": {
      "image/png": "[encoded data removed]",
      "text/plain": [
       "<Figure size 432x288 with 1 Axes>"
      ]
     },
     "metadata": {
      "needs_background": "light"
     },
     "output_type": "display_data"
    },
    {
     "data": {
      "image/png": "[encoded data removed]",
      "text/plain": [
       "<Figure size 432x288 with 1 Axes>"
      ]
     },
     "metadata": {
      "needs_background": "light"
     },
     "output_type": "display_data"
    }
   ],
   "source": [
    "plt.Figure()\n",
    "plt.hist(data['n_sig_mmu'][Y_mu==0], histtype='step', range=(0,6), bins=6, label='Noise')\n",
    "plt.hist(data['n_sig_mmu'][Y_mu==1], histtype='step', range=(0,6), bins=6, label='Muon+Noise')\n",
    "plt.legend(loc='upper left')\n",
    "plt.xlabel('Number of MMU signals')\n",
    "plt.ylabel('Entries')\n",
    "plt.show()\n",
    "\n",
    "plt.Figure()\n",
    "plt.hist(data['n_sig_mmv'][Y_mu==0], histtype='step', range=(0,6), bins=6, label='Noise')\n",
    "plt.hist(data['n_sig_mmv'][Y_mu==1], histtype='step', range=(0,6), bins=6, label='Muon+Noise')\n",
    "plt.legend(loc='upper left')\n",
    "plt.xlabel('Number of MMV signals')\n",
    "plt.ylabel('Entries')\n",
    "plt.show()"
   ]
  },
  {
   "cell_type": "code",
   "execution_count": 18,
   "id": "5926890f-3444-407b-b055-f1df6a3c7c28",
   "metadata": {},
   "outputs": [],
   "source": [
    "vars_of_interest = np.zeros(dmat.shape[2], dtype=bool)\n",
    "training_vars = [ 'z', 'ptilt', 'time', 'projX_at_rightend_x', 'projX_at_middle_x' ]\n",
    "for tv in training_vars:\n",
    "    vars_of_interest[sig_keys.index(tv)] = 1\n",
    "X = dmat[:,:,vars_of_interest]"
   ]
  },
  {
   "cell_type": "markdown",
   "id": "65f1b899-64a8-4012-85d3-acf7c65a6d91",
   "metadata": {},
   "source": [
    "## Load Model and Evaluate"
   ]
  },
  {
   "cell_type": "code",
   "execution_count": 21,
   "id": "f803a1d2-69c6-47a9-a33d-32aa1cbca403",
   "metadata": {},
   "outputs": [],
   "source": [
    "model_loc = '../models/'\n",
    "model_name = 'lstm_27062022_07.59.00'\n",
    "# model_name = 'attn_deepsets_27062022_08.40.27'"
   ]
  },
  {
   "cell_type": "code",
   "execution_count": 22,
   "id": "211717bb-3561-4fd3-be5f-b7b08ec8a449",
   "metadata": {},
   "outputs": [],
   "source": [
    "model = keras.models.load_model(model_loc+model_name)"
   ]
  },
  {
   "cell_type": "code",
   "execution_count": 23,
   "id": "927407c6-6983-46f9-ad77-d96a5d1f47a3",
   "metadata": {},
   "outputs": [],
   "source": [
    "yhat = model.predict(X, batch_size=1024)"
   ]
  },
  {
   "cell_type": "code",
   "execution_count": 24,
   "id": "7159aad1-1882-4fec-a19f-4d75dd723b86",
   "metadata": {},
   "outputs": [],
   "source": [
    "yhat_x3 = np.copy(yhat)\n",
    "yhat_x3[data['n_sig_mmx']<4] = 0.0\n",
    "\n",
    "yhat_x2 = np.copy(yhat)\n",
    "yhat_x2[data['n_sig_mmx']<3] = 0.0"
   ]
  },
  {
   "cell_type": "code",
   "execution_count": 25,
   "id": "2ef27a8e-3da7-4d5f-8b20-7f3a31466478",
   "metadata": {},
   "outputs": [
    {
     "data": {
      "image/png": "[encoded data removed]",
      "text/plain": [
       "<Figure size 432x288 with 1 Axes>"
      ]
     },
     "metadata": {
      "needs_background": "light"
     },
     "output_type": "display_data"
    }
   ],
   "source": [
    "plt.Figure()\n",
    "plt.hist(yhat[Y_mu==0], histtype='step', range=(0,1), bins=50, label='Background')\n",
    "plt.hist(yhat[Y_mu==1], histtype='step', range=(0,1), bins=50, label='Signal')\n",
    "plt.yscale('log')\n",
    "plt.legend()\n",
    "plt.xlabel('Neural network output')\n",
    "plt.ylabel('Entries')\n",
    "plt.title(model_name)\n",
    "plt.savefig(model_loc+model_name+'/output_histogram.pdf')\n",
    "plt.show()"
   ]
  },
  {
   "cell_type": "code",
   "execution_count": 26,
   "id": "93f9ff1b-073f-4b1e-b1a3-bd51753d6a71",
   "metadata": {},
   "outputs": [
    {
     "name": "stderr",
     "output_type": "stream",
     "text": [
      "<ipython-input-26-2ce9bc433eb8>:6: RuntimeWarning: divide by zero encountered in true_divide\n",
      "  plt.semilogy(tpr, 1./fpr, label='Cut on NN')\n",
      "<ipython-input-26-2ce9bc433eb8>:7: RuntimeWarning: divide by zero encountered in true_divide\n",
      "  plt.semilogy(tpr_x3, 1./fpr_x3, label=r'Cut on NN & $N_{MMX} > 3$')\n",
      "<ipython-input-26-2ce9bc433eb8>:8: RuntimeWarning: divide by zero encountered in true_divide\n",
      "  plt.semilogy(tpr_x2, 1./fpr_x2, label=r'Cut on NN & $N_{MMX} > 2$')\n"
     ]
    },
    {
     "data": {
      "image/png": "[encoded data removed]",
      "text/plain": [
       "<Figure size 432x288 with 1 Axes>"
      ]
     },
     "metadata": {
      "needs_background": "light"
     },
     "output_type": "display_data"
    }
   ],
   "source": [
    "fpr, tpr, thresholds = metrics.roc_curve(Y_mu, yhat)\n",
    "fpr_x3, tpr_x3, thresholds = metrics.roc_curve(Y_mu, yhat_x3)\n",
    "fpr_x2, tpr_x2, thresholds = metrics.roc_curve(Y_mu, yhat_x2)\n",
    "\n",
    "plt.Figure()\n",
    "plt.semilogy(tpr, 1./fpr, label='Cut on NN')\n",
    "plt.semilogy(tpr_x3, 1./fpr_x3, label=r'Cut on NN & $N_{MMX} > 3$')\n",
    "plt.semilogy(tpr_x2, 1./fpr_x2, label=r'Cut on NN & $N_{MMX} > 2$')\n",
    "plt.xlim(0.8, 1.01)\n",
    "plt.xlabel('Muon signal efficiency')\n",
    "plt.ylabel('Noise rejection')\n",
    "plt.legend()\n",
    "plt.title(model_name)\n",
    "plt.savefig(model_loc+model_name+'/roc.pdf')\n",
    "plt.show()"
   ]
  },
  {
   "cell_type": "code",
   "execution_count": null,
   "id": "a342035e-02aa-4281-9dba-24d548e53088",
   "metadata": {},
   "outputs": [],
   "source": []
  },
  {
   "cell_type": "code",
   "execution_count": null,
   "id": "128066c5-4d9a-401e-b548-dbc663bdd013",
   "metadata": {},
   "outputs": [],
   "source": []
  },
  {
   "cell_type": "code",
   "execution_count": null,
   "id": "3a61dbd8-6227-428e-b89a-a91be620dd29",
   "metadata": {},
   "outputs": [],
   "source": []
  }
 ],
 "metadata": {
  "kernelspec": {
   "display_name": "Python 3",
   "language": "python",
   "name": "python3"
  },
  "language_info": {
   "codemirror_mode": {
    "name": "ipython",
    "version": 3
   },
   "file_extension": ".py",
   "mimetype": "text/x-python",
   "name": "python",
   "nbconvert_exporter": "python",
   "pygments_lexer": "ipython3",
   "version": "3.8.12"
  }
 },
 "nbformat": 4,
 "nbformat_minor": 5
}
