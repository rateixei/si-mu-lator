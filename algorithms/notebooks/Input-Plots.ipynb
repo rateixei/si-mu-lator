{
 "cells": [
  {
   "cell_type": "code",
   "execution_count": 1,
   "id": "67ad9b84-7ab8-40a7-9a87-0c8f251b5639",
   "metadata": {},
   "outputs": [],
   "source": [
    "import numpy as np\n",
    "import matplotlib as mpl\n",
    "from matplotlib import pyplot as plt\n",
    "import h5py\n",
    "import sys"
   ]
  },
  {
   "cell_type": "code",
   "execution_count": 2,
   "id": "9779b8e2-1afb-4a68-8066-7c4e2122f34f",
   "metadata": {},
   "outputs": [],
   "source": [
    "%load_ext autoreload\n",
    "%autoreload 2"
   ]
  },
  {
   "cell_type": "code",
   "execution_count": 3,
   "id": "ab75d0c4-304b-410a-b551-cc677b25531d",
   "metadata": {},
   "outputs": [],
   "source": [
    "sys.path.append('../')"
   ]
  },
  {
   "cell_type": "code",
   "execution_count": 4,
   "id": "73d37a96-d51d-44ba-87d4-724f57e6852a",
   "metadata": {},
   "outputs": [],
   "source": [
    "import datatools"
   ]
  },
  {
   "cell_type": "code",
   "execution_count": 5,
   "id": "8f6dc4a6-e39a-4ad2-bf1a-6641130b3521",
   "metadata": {},
   "outputs": [],
   "source": [
    "from glob import glob"
   ]
  },
  {
   "cell_type": "code",
   "execution_count": 6,
   "id": "f41891cc-5faf-4bb6-8fd4-06df4102edbe",
   "metadata": {},
   "outputs": [],
   "source": [
    "files_loc = \"/sdf/home/r/rafaeltl/home/Muon/21062022/si-mu-lator/batch_slac/out_files/atlas_nsw_pad_bkgr_1/\""
   ]
  },
  {
   "cell_type": "code",
   "execution_count": 7,
   "id": "4343e0b3-4410-48e9-839d-f5a0610dad0d",
   "metadata": {},
   "outputs": [],
   "source": [
    "all_files = glob(files_loc+'*.h5')"
   ]
  },
  {
   "cell_type": "code",
   "execution_count": null,
   "id": "d4583998-3b1e-4323-aa2a-a49c7d205a35",
   "metadata": {
    "tags": []
   },
   "outputs": [
    {
     "name": "stdout",
     "output_type": "stream",
     "text": [
      "~~ Reading data... ~~\n"
     ]
    },
    {
     "name": "stderr",
     "output_type": "stream",
     "text": [
      " 42%|████▏     | 42/101 [14:29<19:22, 19.71s/it]"
     ]
    }
   ],
   "source": [
    "data, dmat, Y, Y_mu, Y_hit, sig_keys = datatools.make_data_matrix(all_files, max_files=500, sort_by='z')"
   ]
  },
  {
   "cell_type": "code",
   "execution_count": null,
   "id": "b297d91c-f4e8-41d4-af35-b18f9b664fb9",
   "metadata": {},
   "outputs": [],
   "source": [
    "(1-Y_mu).sum()"
   ]
  },
  {
   "cell_type": "code",
   "execution_count": null,
   "id": "2b2ac0bc-42f6-4085-8ef4-b744e6edf38f",
   "metadata": {},
   "outputs": [],
   "source": [
    "ncols, nrows = (2,1)\n",
    "fig, axs = plt.subplots(ncols=ncols, nrows=nrows, figsize=(5*ncols,4*nrows))\n",
    "axs = axs.flatten()\n",
    "\n",
    "axs[0].hist(data['ev_n_signals'][Y_mu==0], histtype='step', bins=22, range=(0,22), label='Total hits (No Mu)')\n",
    "axs[0].hist(data['ev_n_signals'][Y_mu==1], histtype='step', bins=22, range=(0,22), label='Total hits (Mu)')\n",
    "axs[0].legend()\n",
    "\n",
    "axs[1].hist(data['ev_n_mu_signals'][Y_mu==1], histtype='step', bins=22, range=(0,22), label='Mu hits in mu sample')\n",
    "axs[1].hist(data['ev_n_signals'][Y_mu==1]-data['ev_n_mu_signals'][Y_mu==1], histtype='step', bins=13, range=(0,13), label='Noise hits in mu sample')\n",
    "axs[1].legend()\n",
    "\n",
    "plt.show()"
   ]
  },
  {
   "cell_type": "code",
   "execution_count": null,
   "id": "691fca99-857d-4255-9569-78ecfd988cbd",
   "metadata": {},
   "outputs": [],
   "source": [
    "ncols, nrows = (3,2)\n",
    "fig, axs = plt.subplots(ncols=ncols, nrows=nrows, figsize=(5*ncols,4*nrows))\n",
    "axs = axs.flatten()\n",
    "\n",
    "axs[0].hist(data['n_sig_mmx'][Y_mu==0], histtype='step', range=(0,6), bins=6, label='Noise')\n",
    "axs[0].hist(data['n_sig_mmx'][Y_mu==1], histtype='step', range=(0,6), bins=6, label='Muon+Noise')\n",
    "axs[0].legend(loc='upper left')\n",
    "axs[0].set_xlabel('Number of MMX signals')\n",
    "axs[0].set_ylabel('Entries')\n",
    "\n",
    "axs[1].hist(data['n_sig_mmu'][Y_mu==0], histtype='step', range=(0,6), bins=6, label='Noise')\n",
    "axs[1].hist(data['n_sig_mmu'][Y_mu==1], histtype='step', range=(0,6), bins=6, label='Muon+Noise')\n",
    "axs[1].legend(loc='upper left')\n",
    "axs[1].set_xlabel('Number of MMU signals')\n",
    "\n",
    "axs[2].hist(data['n_sig_mmv'][Y_mu==0], histtype='step', range=(0,6), bins=6, label='Noise')\n",
    "axs[2].hist(data['n_sig_mmv'][Y_mu==1], histtype='step', range=(0,6), bins=6, label='Muon+Noise')\n",
    "axs[2].legend(loc='upper left')\n",
    "axs[2].set_xlabel('Number of MMV signals')\n",
    "\n",
    "axs[3].hist(data['n_sig_mm'][Y_mu==0], histtype='step', range=(0,14), bins=14, label='Noise')\n",
    "axs[3].hist(data['n_sig_mm'][Y_mu==1], histtype='step', range=(0,14), bins=14, label='Muon+Noise')\n",
    "axs[3].legend(loc='upper left')\n",
    "axs[3].set_xlabel('Number of MM signals')\n",
    "\n",
    "axs[4].hist(data['n_sig_stgc'][Y_mu==0], histtype='step', range=(0,10), bins=10, label='Noise')\n",
    "axs[4].hist(data['n_sig_stgc'][Y_mu==1], histtype='step', range=(0,10), bins=10, label='Muon+Noise')\n",
    "axs[4].legend(loc='upper left')\n",
    "axs[4].set_xlabel('Number of sTGC signals')\n",
    "\n",
    "plt.show()"
   ]
  },
  {
   "cell_type": "code",
   "execution_count": null,
   "id": "54f1d4bb-f48a-465b-bbf5-594591ac4210",
   "metadata": {},
   "outputs": [],
   "source": [
    "dmat.shape[2]"
   ]
  },
  {
   "cell_type": "code",
   "execution_count": null,
   "id": "dfb7a1c6-273d-41c3-8ce1-835c4660f7c9",
   "metadata": {},
   "outputs": [],
   "source": [
    "ncols=4\n",
    "nrows=5\n",
    "fig, axs = plt.subplots(ncols=ncols, nrows=nrows, figsize=(5*ncols,4*nrows))\n",
    "axs = axs.flatten()\n",
    "\n",
    "for ivar in range(dmat.shape[2]):\n",
    "\n",
    "    valid_hits_mu   = dmat[Y_mu == 1,:,sig_keys.index('is_muon')].flatten() > -90\n",
    "    valid_hits_nomu = dmat[Y_mu == 0,:,sig_keys.index('is_muon')].flatten() > -90\n",
    "\n",
    "    this_var_mu   = dmat[Y_mu == 1,:,ivar].flatten()[valid_hits_mu]\n",
    "    this_var_nomu = dmat[Y_mu == 0,:,ivar].flatten()[valid_hits_nomu]\n",
    "    \n",
    "    this_max = np.max([*this_var_mu, *this_var_nomu])\n",
    "    this_min = np.min([*this_var_mu, *this_var_nomu])\n",
    "        \n",
    "    axs[ivar].hist( this_var_nomu, histtype='step', range=(this_min, this_max), bins=50, label = 'No muon Evts'  )\n",
    "    axs[ivar].hist( this_var_mu, histtype='step', range=(this_min, this_max), bins=50, label = 'Muon Evts' )    \n",
    "\n",
    "    axs[ivar].set_xlabel(sig_keys[ivar])\n",
    "    \n",
    "    if ivar == dmat.shape[2] - 1:\n",
    "        axs[ivar].legend()\n",
    "    \n",
    "plt.show()"
   ]
  },
  {
   "cell_type": "code",
   "execution_count": null,
   "id": "03e155e4-9c77-4534-8bd6-594c2b896533",
   "metadata": {},
   "outputs": [],
   "source": []
  },
  {
   "cell_type": "code",
   "execution_count": null,
   "id": "5760fc21-db92-45fa-8dc6-70c38d8070ec",
   "metadata": {},
   "outputs": [],
   "source": [
    "X_prep = datatools.training_prep(dmat, sig_keys)"
   ]
  },
  {
   "cell_type": "code",
   "execution_count": null,
   "id": "d8b4cbd0-3cc1-49dc-8792-1646f1a63161",
   "metadata": {},
   "outputs": [],
   "source": [
    "ncols=4\n",
    "nrows=5\n",
    "fig, axs = plt.subplots(ncols=ncols, nrows=nrows, figsize=(5*ncols,4*nrows))\n",
    "axs = axs.flatten()\n",
    "\n",
    "for ivar in range(X_prep.shape[2]):\n",
    "\n",
    "    this_var_mu   = X_prep[Y_mu == 1,:,ivar].flatten()\n",
    "    this_var_nomu = X_prep[Y_mu == 0,:,ivar].flatten()\n",
    "    \n",
    "    this_max = np.max([*this_var_mu, *this_var_nomu])\n",
    "    this_min = np.min([*this_var_mu, *this_var_nomu])\n",
    "        \n",
    "    axs[ivar].hist( this_var_nomu, histtype='step', range=(this_min, this_max), bins=50, label = 'No muon Evts'  )\n",
    "    axs[ivar].hist( this_var_mu, histtype='step', range=(this_min, this_max), bins=50, label = 'Muon Evts' )    \n",
    "\n",
    "    axs[ivar].set_xlabel(sig_keys[ivar])\n",
    "    \n",
    "    if ivar == X_prep.shape[2] - 1:\n",
    "        axs[ivar].legend()\n",
    "    \n",
    "plt.show()"
   ]
  },
  {
   "cell_type": "code",
   "execution_count": null,
   "id": "91b6b9da-ab56-4f52-bf09-c2309a1c56d7",
   "metadata": {},
   "outputs": [],
   "source": []
  }
 ],
 "metadata": {
  "kernelspec": {
   "display_name": "Python 3",
   "language": "python",
   "name": "python3"
  },
  "language_info": {
   "codemirror_mode": {
    "name": "ipython",
    "version": 3
   },
   "file_extension": ".py",
   "mimetype": "text/x-python",
   "name": "python",
   "nbconvert_exporter": "python",
   "pygments_lexer": "ipython3",
   "version": "3.8.12"
  }
 },
 "nbformat": 4,
 "nbformat_minor": 5
}
