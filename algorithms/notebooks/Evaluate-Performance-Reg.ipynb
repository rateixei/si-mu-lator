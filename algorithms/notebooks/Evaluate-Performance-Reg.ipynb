{
 "cells": [
  {
   "cell_type": "code",
   "execution_count": 1,
   "id": "8640cea9-8b92-44e4-bbe0-0fed8193e5e8",
   "metadata": {},
   "outputs": [],
   "source": [
    "import numpy as np\n",
    "import matplotlib as mpl\n",
    "from matplotlib import pyplot as plt\n",
    "import h5py"
   ]
  },
  {
   "cell_type": "code",
   "execution_count": 2,
   "id": "fdd486f5-5051-42b6-a84d-6e0bfc1603cb",
   "metadata": {},
   "outputs": [],
   "source": [
    "from sklearn import metrics"
   ]
  },
  {
   "cell_type": "code",
   "execution_count": 3,
   "id": "873da26a-2521-4b33-92a9-994a1bb53b73",
   "metadata": {},
   "outputs": [],
   "source": [
    "from tensorflow import keras"
   ]
  },
  {
   "cell_type": "code",
   "execution_count": 4,
   "id": "33534ac0-a194-4172-82e6-39290b23acff",
   "metadata": {},
   "outputs": [],
   "source": [
    "import sys"
   ]
  },
  {
   "cell_type": "code",
   "execution_count": 5,
   "id": "481cb3f4-5a3c-4088-8c9a-1ebfff6ded3b",
   "metadata": {},
   "outputs": [],
   "source": [
    "%load_ext autoreload\n",
    "%autoreload 2"
   ]
  },
  {
   "cell_type": "code",
   "execution_count": 6,
   "id": "2c3f1e77-ef8e-4227-a743-3d5d2232d56c",
   "metadata": {},
   "outputs": [],
   "source": [
    "sys.path.append('../')"
   ]
  },
  {
   "cell_type": "code",
   "execution_count": 7,
   "id": "51b982a3-15a4-4734-9cc6-db2204e2c03d",
   "metadata": {},
   "outputs": [],
   "source": [
    "import datatools"
   ]
  },
  {
   "cell_type": "code",
   "execution_count": 8,
   "id": "c2a8464c-e5c3-47a6-becb-7b7c201c644b",
   "metadata": {},
   "outputs": [],
   "source": [
    "import importlib"
   ]
  },
  {
   "cell_type": "code",
   "execution_count": 9,
   "id": "a63c1b1c-41ca-4caf-af2d-7f68cb3d9783",
   "metadata": {},
   "outputs": [],
   "source": [
    "from glob import glob"
   ]
  },
  {
   "cell_type": "markdown",
   "id": "6a54df86-8d4e-4dd9-a35d-2889b1f30bc1",
   "metadata": {},
   "source": [
    "## Load Data"
   ]
  },
  {
   "cell_type": "code",
   "execution_count": 10,
   "id": "e9c49f57-ac28-4d82-8e02-bf37f8dee572",
   "metadata": {},
   "outputs": [
    {
     "name": "stdout",
     "output_type": "stream",
     "text": [
      "200\n"
     ]
    }
   ],
   "source": [
    "SIM=\"/gpfs/slac/atlas/fs1/d/rafaeltl/public/Muon/simulation/\"\n",
    "DATA_LOC=f\"{SIM}/20220628/atlas_mm_vmm_bkgr_1_TEST/*.h5\"\n",
    "\n",
    "files=glob(DATA_LOC)\n",
    "\n",
    "print(len(files))"
   ]
  },
  {
   "cell_type": "code",
   "execution_count": 11,
   "id": "7df804bd-a8e9-4798-849f-fc152f059922",
   "metadata": {
    "tags": []
   },
   "outputs": [
    {
     "name": "stdout",
     "output_type": "stream",
     "text": [
      "~~ Reading data... ~~\n"
     ]
    },
    {
     "name": "stderr",
     "output_type": "stream",
     "text": [
      "100%|██████████| 200/200 [00:26<00:00,  7.47it/s]\n"
     ]
    },
    {
     "name": "stdout",
     "output_type": "stream",
     "text": [
      "~~ Calculating occupancy information... ~~\n"
     ]
    },
    {
     "name": "stderr",
     "output_type": "stream",
     "text": [
      "100%|██████████| 200000/200000 [00:07<00:00, 27031.44it/s]"
     ]
    },
    {
     "name": "stdout",
     "output_type": "stream",
     "text": [
      "!!\n",
      "I read 200000 events, of which 100000 have muon and 100000 do not\n",
      "!!\n"
     ]
    },
    {
     "name": "stderr",
     "output_type": "stream",
     "text": [
      "\n"
     ]
    }
   ],
   "source": [
    "data, dmat, Y, Y_mu, Y_hit, sig_keys = datatools.make_data_matrix(files, max_files=500, sort_by='z')"
   ]
  },
  {
   "cell_type": "code",
   "execution_count": 12,
   "id": "fcc09f45-79d1-4e35-b76e-f8b572059e8b",
   "metadata": {},
   "outputs": [
    {
     "data": {
      "text/plain": [
       "dict_keys(['ev_mu_phi', 'ev_mu_theta', 'ev_mu_time', 'ev_mu_x', 'ev_mu_y', 'ev_n_mu_signals', 'ev_n_signals', 'n_sig_mmx', 'n_sig_mmu', 'n_sig_mmv', 'n_sig_mm', 'n_sig_stgc', 'n_sig_mdt'])"
      ]
     },
     "execution_count": 12,
     "metadata": {},
     "output_type": "execute_result"
    }
   ],
   "source": [
    "data.keys()"
   ]
  },
  {
   "cell_type": "code",
   "execution_count": 13,
   "id": "fc2c9d99-0acf-4bf1-877d-736c5971523a",
   "metadata": {},
   "outputs": [
    {
     "data": {
      "image/png": "[encoded data removed]",
      "text/plain": [
       "<Figure size 432x288 with 1 Axes>"
      ]
     },
     "metadata": {
      "needs_background": "light"
     },
     "output_type": "display_data"
    }
   ],
   "source": [
    "plt.Figure()\n",
    "plt.hist(data['ev_n_signals'][Y_mu==0], histtype='step', range=(0,13), bins=13, label='Noise')\n",
    "plt.hist(data['ev_n_signals'][Y_mu==1], histtype='step', range=(0,13), bins=13, label='Muon+Noise')\n",
    "plt.legend(loc='upper left')\n",
    "plt.xlabel('Number of signals')\n",
    "plt.ylabel('Entries')\n",
    "plt.show()"
   ]
  },
  {
   "cell_type": "code",
   "execution_count": 14,
   "id": "51761633-ae33-48b6-998f-116f6df87f5e",
   "metadata": {},
   "outputs": [
    {
     "data": {
      "image/png": "[encoded data removed]",
      "text/plain": [
       "<Figure size 432x288 with 1 Axes>"
      ]
     },
     "metadata": {
      "needs_background": "light"
     },
     "output_type": "display_data"
    }
   ],
   "source": [
    "plt.Figure()\n",
    "h_noise = plt.hist(data['n_sig_mmx'][Y_mu==0], histtype='step', range=(0,6), bins=6, label='Noise')\n",
    "h_muons = plt.hist(data['n_sig_mmx'][Y_mu==1], histtype='step', range=(0,6), bins=6, label='Muon+Noise')\n",
    "plt.legend(loc='upper left')\n",
    "plt.xlabel('Number of MMX signals')\n",
    "plt.ylabel('Entries')\n",
    "plt.show()"
   ]
  },
  {
   "cell_type": "markdown",
   "id": "8e7fcf92",
   "metadata": {},
   "source": [
    "## Define models to compare"
   ]
  },
  {
   "cell_type": "code",
   "execution_count": 15,
   "id": "628e42e5",
   "metadata": {},
   "outputs": [
    {
     "name": "stdout",
     "output_type": "stream",
     "text": [
      "total 136K\n",
      "drwxr-sr-x 4 rafaeltl at 8.0K Jun 28 08:08 \u001b[0m\u001b[01;34mgru_BatchNormTrue_MaskingFalse_28062022_06.21.52\u001b[0m/\n",
      "drwxr-sr-x 4 rafaeltl at 4.0K Jun 28 11:22 \u001b[01;34mlstm_BatchNormTrue_MaskingFalse_28062022_10.27.00\u001b[0m/\n",
      "drwxr-sr-x 4 rafaeltl at 4.0K Jun 28 23:35 \u001b[01;34mgru_BatchNormFalse_MaskingFalse_28062022_06.00.14\u001b[0m/\n",
      "drwxr-sr-x 4 rafaeltl at 8.0K Jun 29 01:18 \u001b[01;34mlstm_BatchNormFalse_MaskingFalse_29062022_00.09.58\u001b[0m/\n",
      "drwxr-sr-x 4 rafaeltl at 8.0K Jun 29 02:21 \u001b[01;34mgru_BatchNormFalse_MaskingFalse_29062022_01.20.50\u001b[0m/\n",
      "drwxr-sr-x 4 rafaeltl at 4.0K Jul  4 09:32 \u001b[01;34mlstm_BatchNormFalse_MaskingFalse_04072022_09.00.14\u001b[0m/\n",
      "drwxr-sr-x 4 rafaeltl at 4.0K Jul  4 10:12 \u001b[01;34mlstm_BatchNormFalse_MaskingFalse_04072022_09.44.46\u001b[0m/\n",
      "drwxr-sr-x 4 rafaeltl at 4.0K Jul  5 05:29 \u001b[01;34mmlp_BatchNormFalse_MaskingFalse_05072022_05.27.55\u001b[0m/\n",
      "drwxr-sr-x 4 rafaeltl at 4.0K Jul  5 06:08 \u001b[01;34mtcn_BatchNormFalse_MaskingFalse_05072022_05.56.33_detMatrix\u001b[0m/\n",
      "drwxr-sr-x 4 rafaeltl at 4.0K Jul  5 08:37 \u001b[01;34mlstm_BatchNormFalse_MaskingFalse_05072022_08.14.31_detMatrix\u001b[0m/\n",
      "drwxr-sr-x 4 rafaeltl at 8.0K Jul  5 09:41 \u001b[01;34mtcn_BatchNormFalse_MaskingFalse_05072022_05.46.09_normalMatrix\u001b[0m/\n",
      "drwxr-sr-x 4 rafaeltl at 4.0K Jul  5 10:33 \u001b[01;34mtcn_BatchNormFalse_MaskingFalse_05072022_10.28.12_normalMatrix\u001b[0m/\n",
      "drwxr-sr-x 4 rafaeltl at 4.0K Jul  5 10:37 \u001b[01;34mtcn_BatchNormFalse_MaskingFalse_05072022_10.35.13_normalMatrix\u001b[0m/\n",
      "drwxr-sr-x 4 rafaeltl at 8.0K Jul  5 10:46 \u001b[01;34mtcn_BatchNormFalse_MaskingFalse_05072022_10.43.44_normalMatrix\u001b[0m/\n",
      "drwxr-sr-x 4 rafaeltl at 4.0K Jul  5 10:47 \u001b[01;34mtcn_BatchNormFalse_MaskingFalse_05072022_10.47.46_normalMatrix\u001b[0m/\n",
      "drwxr-sr-x 4 rafaeltl at 8.0K Jul  5 10:59 \u001b[01;34mtcn_BatchNormFalse_MaskingFalse_05072022_10.51.03_normalMatrix\u001b[0m/\n",
      "drwxr-sr-x 4 rafaeltl at 4.0K Jul  5 11:08 \u001b[01;34mtcn_BatchNormFalse_MaskingFalse_05072022_11.02.36_normalMatrix\u001b[0m/\n",
      "drwxr-sr-x 4 rafaeltl at 8.0K Jul  5 11:18 \u001b[01;34mtcn_BatchNormFalse_MaskingFalse_05072022_11.09.38_normalMatrix\u001b[0m/\n",
      "drwxr-sr-x 4 rafaeltl at 4.0K Jul  5 11:23 \u001b[01;34mtcn_BatchNormFalse_MaskingFalse_05072022_11.19.42_normalMatrix\u001b[0m/\n",
      "drwxr-sr-x 4 rafaeltl at 4.0K Jul  5 11:28 \u001b[01;34mtcn_BatchNormFalse_MaskingFalse_05072022_11.25.12_normalMatrix\u001b[0m/\n",
      "drwxr-sr-x 4 rafaeltl at 4.0K Jul  5 11:36 \u001b[01;34mtcn_BatchNormFalse_MaskingFalse_05072022_11.32.28_normalMatrix\u001b[0m/\n",
      "drwxr-sr-x 4 rafaeltl at 4.0K Jul  5 11:41 \u001b[01;34mtcn_BatchNormFalse_MaskingFalse_05072022_11.39.36_normalMatrix\u001b[0m/\n",
      "drwxr-sr-x 4 rafaeltl at 4.0K Jul  5 11:48 \u001b[01;34mtcn_BatchNormFalse_MaskingFalse_05072022_11.43.42_normalMatrix\u001b[0m/\n",
      "drwxr-sr-x 4 rafaeltl at 4.0K Jul  6 03:23 \u001b[01;34mtcn_BatchNormFalse_MaskingFalse_06072022_03.15.21_normalMatrix\u001b[0m/\n",
      "drwxr-sr-x 4 rafaeltl at 4.0K Jul  7 04:38 \u001b[01;34mtcn_BatchNormFalse_MaskingFalse_06072022_05.50.29_normalMatrix\u001b[0m/\n",
      "drwxr-sr-x 4 rafaeltl at 4.0K Jul  8 02:26 \u001b[01;34mtcn_BatchNormFalse_MaskingFalse_08072022_02.25.24_normalMatrix\u001b[0m/\n",
      "drwxr-sr-x 4 rafaeltl at 4.0K Jul  8 02:35 \u001b[01;34mtcn_BatchNormFalse_MaskingFalse_08072022_02.28.45_normalMatrix\u001b[0m/\n",
      "drwxr-sr-x 4 rafaeltl at 4.0K Jul 12 02:19 \u001b[01;34mlstm_BatchNormFalse_MaskingFalse_12072022_01.55.48_normalMatrix\u001b[0m\u001b[K/\n",
      "drwxr-sr-x 4 rafaeltl at 4.0K Jul 13 03:48 \u001b[01;34mlstm_BatchNormFalse_MaskingFalse_13072022_03.25.21_normalMatrix\u001b[0m\u001b[K/\n",
      "drwxr-sr-x 4 rafaeltl at 4.0K Jul 20 02:54 \u001b[01;34mtcn_BatchNormFalse_MaskingFalse_regression1_20072022_02.49.11_normalMatrix\u001b[0m\u001b[K/\n",
      "drwxr-sr-x 4 rafaeltl at 4.0K Jul 20 02:58 \u001b[01;34mtcn_BatchNormFalse_MaskingFalse_classification_20072022_02.56.43_normalMatrix\u001b[0m\u001b[K/\n"
     ]
    }
   ],
   "source": [
    "%ls -lhrt ../models/"
   ]
  },
  {
   "cell_type": "code",
   "execution_count": 71,
   "id": "7c624917",
   "metadata": {},
   "outputs": [],
   "source": [
    "mdict = {\n",
    "    \"TCN-pad-reg\":{\n",
    "        \"loc\": \"tcn_BatchNormFalse_MaskingFalse_regression1_20072022_07.19.21_normalMatrix\",\n",
    "        \"data_det\": False,\n",
    "        \"data_card\": \"../../cards/atlas_mm_vmm.yml\",\n",
    "        \"data_flat\": False,\n",
    "        \"color\": \"C2\",\n",
    "        \"x_reg_out\": 1\n",
    "    }\n",
    "}"
   ]
  },
  {
   "cell_type": "code",
   "execution_count": 72,
   "id": "a41d7660-61a3-4dda-a492-c551ba73be14",
   "metadata": {},
   "outputs": [],
   "source": [
    "import trainingvariables"
   ]
  },
  {
   "cell_type": "code",
   "execution_count": 73,
   "id": "6f5533a4",
   "metadata": {},
   "outputs": [
    {
     "name": "stdout",
     "output_type": "stream",
     "text": [
      "~~ Preparing padded matrix ~~\n",
      "Data already prepared?\n"
     ]
    },
    {
     "name": "stderr",
     "output_type": "stream",
     "text": [
      "100%|██████████| 200000/200000 [00:07<00:00, 25470.03it/s]\n"
     ]
    },
    {
     "name": "stdout",
     "output_type": "stream",
     "text": [
      "Output data matrix shape: (200000, 12, 19)\n"
     ]
    }
   ],
   "source": [
    "for mod in mdict:\n",
    "    \n",
    "    if 'yhat' in mdict[mod].keys():\n",
    "        print(\"Already added this model\")\n",
    "        continue\n",
    "    \n",
    "    if mdict[mod]['data_det']:\n",
    "        X_prep = datatools.detector_matrix(dmat, sig_keys, mdict[mod]['data_card'])\n",
    "    else:\n",
    "        X_prep = datatools.training_prep(dmat, sig_keys)\n",
    "        \n",
    "    \n",
    "    vars_of_interest = np.zeros(X_prep.shape[2], dtype=bool)\n",
    "    training_vars = trainingvariables.tvars\n",
    "    for tv in training_vars:\n",
    "        vars_of_interest[sig_keys.index(tv)] = 1\n",
    "    X = X_prep[:,:,vars_of_interest]\n",
    "    \n",
    "    if mdict[mod]['data_flat']:\n",
    "        X = np.reshape(X, (X.shape[0], X.shape[1]*X.shape[2]))\n",
    "    \n",
    "    model_loc = '../models/'\n",
    "    \n",
    "    model = keras.models.load_model(model_loc+mdict[mod]['loc'],compile=False)\n",
    "    \n",
    "    preds = model.predict(X, batch_size=1024)\n",
    "    \n",
    "    mdict[mod]['yhat'] = preds[:,0]\n",
    "    \n",
    "    mult_fact = max(data['ev_mu_x'])\n",
    "    \n",
    "    if 'x_reg_out' in mdict[mod]:\n",
    "        mdict[mod]['x_reg'] = preds[:,mdict[mod]['x_reg_out']]*mult_fact\n",
    "        \n",
    "    if 'a_reg_out' in mdict[mod]:\n",
    "        mdict[mod]['a_reg'] = preds[:,mdict[mod]['a_reg_out']]"
   ]
  },
  {
   "cell_type": "code",
   "execution_count": 74,
   "id": "79e1b3fc-c198-4b18-8b37-849e37b6f32b",
   "metadata": {},
   "outputs": [],
   "source": [
    "import linefit"
   ]
  },
  {
   "cell_type": "code",
   "execution_count": 75,
   "id": "32a9d371-6231-4766-859d-e4d9f3102177",
   "metadata": {},
   "outputs": [
    {
     "name": "stderr",
     "output_type": "stream",
     "text": [
      "/gpfs/slac/atlas/fs1/u/rafaeltl/Muon/21062022/si-mu-lator/algorithms/notebooks/../linefit.py:25: RuntimeWarning: invalid value encountered in double_scalars\n",
      "  A = ( _c5*_c2 - _c3*_c4 ) / ( _c2**2 - _c1*_c4 )\n",
      "/gpfs/slac/atlas/fs1/u/rafaeltl/Muon/21062022/si-mu-lator/algorithms/notebooks/../linefit.py:25: RuntimeWarning: divide by zero encountered in double_scalars\n",
      "  A = ( _c5*_c2 - _c3*_c4 ) / ( _c2**2 - _c1*_c4 )\n",
      "/gpfs/slac/atlas/fs1/u/rafaeltl/Muon/21062022/si-mu-lator/algorithms/notebooks/../linefit.py:29: RuntimeWarning: invalid value encountered in add\n",
      "  Chi2 = ( ( A*zs + B - xs )**2 / unc_xs**2 ).sum()\n"
     ]
    }
   ],
   "source": [
    "lfits = linefit.get_fits(dmat, sig_keys)"
   ]
  },
  {
   "cell_type": "markdown",
   "id": "eae669c6",
   "metadata": {},
   "source": [
    "## Make plots"
   ]
  },
  {
   "cell_type": "code",
   "execution_count": 76,
   "id": "2ef27a8e-3da7-4d5f-8b20-7f3a31466478",
   "metadata": {},
   "outputs": [
    {
     "data": {
      "image/png": "[encoded data removed]",
      "text/plain": [
       "<Figure size 864x288 with 2 Axes>"
      ]
     },
     "metadata": {
      "needs_background": "light"
     },
     "output_type": "display_data"
    }
   ],
   "source": [
    "ncols, nrows = (2,1)\n",
    "fig, axs = plt.subplots(ncols=ncols, nrows=nrows, figsize=(6*ncols,4*nrows))\n",
    "axs = axs.flatten()\n",
    "\n",
    "for mod in mdict:\n",
    "    \n",
    "    this_cut=(Y_mu==1)\n",
    "    \n",
    "    \n",
    "    axs[0].hist(data['ev_mu_x'][this_cut], histtype='step', range=(-200,200),\n",
    "                bins=500, label=f'True X')\n",
    "    \n",
    "    axs[0].hist(lfits[this_cut][:,1], histtype='step', range=(-200,200),\n",
    "                bins=500, label=f'Chi2 X')\n",
    "\n",
    "    axs[1].hist(lfits[this_cut][:,1] - data['ev_mu_x'][Y_mu==1], histtype='step', range=(-20,20),\n",
    "                bins=500, label=f'Chi2 X')\n",
    "    \n",
    "    if 'x_reg' in mdict[mod]:\n",
    "        \n",
    "        xreg=mdict[mod]['x_reg']\n",
    "        axs[0].hist(xreg[this_cut], histtype='step', range=(-200,200), bins=500, color=mdict[mod]['color'], \n",
    "                    label=f'Reg X')\n",
    "        axs[1].hist(xreg[this_cut] - data['ev_mu_x'][Y_mu==1], \n",
    "                    histtype='step', range=(-20,20), bins=500, color=mdict[mod]['color'], \n",
    "                    label=f'Reg X')\n",
    "        \n",
    "        \n",
    "    axs[0].set_xlabel('X [mm]')\n",
    "    axs[1].set_xlabel('Pred X - True X [mm]')\n",
    "    axs[0].legend()\n",
    "    axs[1].legend()\n",
    "plt.show()"
   ]
  },
  {
   "cell_type": "code",
   "execution_count": 77,
   "id": "7cf5cef5-3a1e-420d-8331-86132738f120",
   "metadata": {},
   "outputs": [
    {
     "data": {
      "image/png": "[encoded data removed]",
      "text/plain": [
       "<Figure size 864x288 with 2 Axes>"
      ]
     },
     "metadata": {
      "needs_background": "light"
     },
     "output_type": "display_data"
    }
   ],
   "source": [
    "ncols, nrows = (2,1)\n",
    "fig, axs = plt.subplots(ncols=ncols, nrows=nrows, figsize=(6*ncols,4*nrows))\n",
    "axs = axs.flatten()\n",
    "\n",
    "for mod in mdict:\n",
    "    \n",
    "    this_cut=(Y_mu==1)*(data['n_sig_mmx']>3)\n",
    "    \n",
    "    axs[0].hist(data['ev_mu_x'][this_cut], histtype='step', range=(-20,20),\n",
    "                bins=50, label=f'True X')\n",
    "    \n",
    "    axs[0].hist(lfits[this_cut][:,1], histtype='step', range=(-20,20),\n",
    "                bins=50, label=f'Chi2 X')\n",
    "\n",
    "    axs[1].hist(lfits[this_cut][:,1] - data['ev_mu_x'][this_cut], histtype='step', range=(-20,20),\n",
    "                bins=500, label=f'Chi2 X')\n",
    "    \n",
    "    if 'x_reg' in mdict[mod]:\n",
    "        \n",
    "        xreg=mdict[mod]['x_reg']\n",
    "        axs[0].hist(xreg[this_cut], histtype='step', range=(-20,20), bins=50, color=mdict[mod]['color'], \n",
    "                    label=f'[{mod}] Signal')\n",
    "        axs[1].hist(xreg[this_cut] - data['ev_mu_x'][this_cut], \n",
    "                    histtype='step', range=(-20,20), bins=500, color=mdict[mod]['color'], \n",
    "                    label=f'[{mod}] Background')\n",
    "        \n",
    "plt.show()"
   ]
  },
  {
   "cell_type": "code",
   "execution_count": 78,
   "id": "dae583ce-dcde-43e5-be63-a246f9ea72a5",
   "metadata": {},
   "outputs": [
    {
     "data": {
      "image/png": "[encoded data removed]",
      "text/plain": [
       "<Figure size 864x288 with 2 Axes>"
      ]
     },
     "metadata": {
      "needs_background": "light"
     },
     "output_type": "display_data"
    }
   ],
   "source": [
    "ncols, nrows = (2,1)\n",
    "fig, axs = plt.subplots(ncols=ncols, nrows=nrows, figsize=(6*ncols,4*nrows))\n",
    "axs = axs.flatten()\n",
    "\n",
    "for mod in mdict:\n",
    "    \n",
    "    this_cut=(Y_mu==1)*(mdict[mod]['yhat']>0.9)\n",
    "    \n",
    "    axs[0].hist(data['ev_mu_x'][this_cut], histtype='step', range=(-20,20),\n",
    "                bins=50, label=f'True X')\n",
    "    \n",
    "    axs[0].hist(lfits[this_cut][:,1], histtype='step', range=(-20,20),\n",
    "                bins=50, label=f'Chi2 X')\n",
    "\n",
    "    axs[1].hist(lfits[this_cut][:,1] - data['ev_mu_x'][this_cut], histtype='step', range=(-20,20),\n",
    "                bins=500, label=f'Chi2 X')\n",
    "    \n",
    "    if 'x_reg' in mdict[mod]:\n",
    "        \n",
    "        xreg=mdict[mod]['x_reg']\n",
    "        axs[0].hist(xreg[this_cut], histtype='step', range=(-20,20), bins=50, color=mdict[mod]['color'], \n",
    "                    label=f'[{mod}] Signal')\n",
    "        axs[1].hist(xreg[this_cut] - data['ev_mu_x'][this_cut], \n",
    "                    histtype='step', range=(-20,20), bins=500, color=mdict[mod]['color'], \n",
    "                    label=f'[{mod}] Background')\n",
    "        \n",
    "plt.show()"
   ]
  },
  {
   "cell_type": "code",
   "execution_count": 79,
   "id": "dde0e4b7-d67c-48ac-85d4-fb95b1e20fb3",
   "metadata": {},
   "outputs": [
    {
     "data": {
      "image/png": "[encoded data removed]",
      "text/plain": [
       "<Figure size 1296x576 with 6 Axes>"
      ]
     },
     "metadata": {
      "needs_background": "light"
     },
     "output_type": "display_data"
    }
   ],
   "source": [
    "ncols, nrows = (3,2)\n",
    "fig, axs = plt.subplots(ncols=ncols, nrows=nrows, figsize=(6*ncols,4*nrows))\n",
    "axs = axs.flatten()\n",
    "\n",
    "for mod in mdict:\n",
    "\n",
    "    \n",
    "    this_cut=(Y_mu==1)\n",
    "    \n",
    "    axs[0].hist2d( data['ev_mu_x'][this_cut], \n",
    "                   mdict[mod]['x_reg'][this_cut], \n",
    "                  range=((-20,20),(-20,20)),\n",
    "                bins=(50,50))\n",
    "    axs[0].set_xlabel('True X')\n",
    "    axs[0].set_ylabel('Reg X')\n",
    "    \n",
    "    axs[1].hist2d( data['ev_mu_x'][this_cut], \n",
    "                   lfits[this_cut][:,1], \n",
    "                  range=((-20,20),(-20,20)),\n",
    "                bins=(50,50))\n",
    "    axs[1].set_xlabel('True X')\n",
    "    axs[1].set_ylabel('Chi2 X')\n",
    "    \n",
    "    axs[2].hist2d( mdict[mod]['x_reg'][this_cut], \n",
    "                   lfits[this_cut][:,1], \n",
    "                  range=((-20,20),(-20,20)),\n",
    "                bins=(50,50))\n",
    "    axs[2].set_xlabel('Reg X')\n",
    "    axs[2].set_ylabel('Chi2 X')\n",
    "    \n",
    "#     axs[3].hist2d( data['ev_mu_x'][this_cut], \n",
    "#                    mdict[mod]['yhat'][this_cut], \n",
    "#                   range=((-20,20),(0.95,1)),\n",
    "#                 bins=(50,50))\n",
    "    \n",
    "#     axs[4].hist2d(mdict[mod]['x_reg'][this_cut], \n",
    "#                   mdict[mod]['yhat'][this_cut], \n",
    "#                   range=((-20,20),(0.95,1)),\n",
    "#                 bins=(50,50) )\n",
    "    \n",
    "        \n",
    "plt.show()"
   ]
  },
  {
   "cell_type": "code",
   "execution_count": null,
   "id": "9e0fe6b6-8847-4946-a356-b9db1db96fa3",
   "metadata": {},
   "outputs": [],
   "source": []
  },
  {
   "cell_type": "code",
   "execution_count": null,
   "id": "accb79b5-c35c-42fa-8a8e-39d94496c3ae",
   "metadata": {},
   "outputs": [],
   "source": []
  },
  {
   "cell_type": "code",
   "execution_count": null,
   "id": "8f94391f-1f83-449f-b970-58412d6592b6",
   "metadata": {},
   "outputs": [],
   "source": []
  },
  {
   "cell_type": "code",
   "execution_count": null,
   "id": "20cd9eb3-d4db-4484-bee0-83993c296d5f",
   "metadata": {},
   "outputs": [],
   "source": []
  }
 ],
 "metadata": {
  "kernelspec": {
   "display_name": "Python 3",
   "language": "python",
   "name": "python3"
  },
  "language_info": {
   "codemirror_mode": {
    "name": "ipython",
    "version": 3
   },
   "file_extension": ".py",
   "mimetype": "text/x-python",
   "name": "python",
   "nbconvert_exporter": "python",
   "pygments_lexer": "ipython3",
   "version": "3.8.12"
  }
 },
 "nbformat": 4,
 "nbformat_minor": 5
}
