{
 "cells": [
  {
   "cell_type": "code",
   "execution_count": 1,
   "id": "8640cea9-8b92-44e4-bbe0-0fed8193e5e8",
   "metadata": {},
   "outputs": [],
   "source": [
    "import numpy as np\n",
    "import matplotlib as mpl\n",
    "from matplotlib import pyplot as plt\n",
    "import h5py"
   ]
  },
  {
   "cell_type": "code",
   "execution_count": 2,
   "id": "fdd486f5-5051-42b6-a84d-6e0bfc1603cb",
   "metadata": {},
   "outputs": [],
   "source": [
    "from sklearn import metrics"
   ]
  },
  {
   "cell_type": "code",
   "execution_count": 3,
   "id": "873da26a-2521-4b33-92a9-994a1bb53b73",
   "metadata": {},
   "outputs": [],
   "source": [
    "from tensorflow import keras"
   ]
  },
  {
   "cell_type": "code",
   "execution_count": 4,
   "id": "33534ac0-a194-4172-82e6-39290b23acff",
   "metadata": {},
   "outputs": [],
   "source": [
    "import sys"
   ]
  },
  {
   "cell_type": "code",
   "execution_count": 5,
   "id": "481cb3f4-5a3c-4088-8c9a-1ebfff6ded3b",
   "metadata": {},
   "outputs": [],
   "source": [
    "%load_ext autoreload\n",
    "%autoreload 2"
   ]
  },
  {
   "cell_type": "code",
   "execution_count": 6,
   "id": "2c3f1e77-ef8e-4227-a743-3d5d2232d56c",
   "metadata": {},
   "outputs": [],
   "source": [
    "sys.path.append('../')"
   ]
  },
  {
   "cell_type": "code",
   "execution_count": 7,
   "id": "51b982a3-15a4-4734-9cc6-db2204e2c03d",
   "metadata": {},
   "outputs": [],
   "source": [
    "import datatools"
   ]
  },
  {
   "cell_type": "code",
   "execution_count": 8,
   "id": "c2a8464c-e5c3-47a6-becb-7b7c201c644b",
   "metadata": {},
   "outputs": [],
   "source": [
    "import importlib"
   ]
  },
  {
   "cell_type": "code",
   "execution_count": 9,
   "id": "a63c1b1c-41ca-4caf-af2d-7f68cb3d9783",
   "metadata": {},
   "outputs": [],
   "source": [
    "from glob import glob"
   ]
  },
  {
   "cell_type": "markdown",
   "id": "6a54df86-8d4e-4dd9-a35d-2889b1f30bc1",
   "metadata": {},
   "source": [
    "## Load Data"
   ]
  },
  {
   "cell_type": "code",
   "execution_count": 10,
   "id": "e9c49f57-ac28-4d82-8e02-bf37f8dee572",
   "metadata": {},
   "outputs": [
    {
     "name": "stdout",
     "output_type": "stream",
     "text": [
      "200\n"
     ]
    }
   ],
   "source": [
    "SIM=\"/gpfs/slac/atlas/fs1/d/rafaeltl/public/Muon/simulation/\"\n",
    "DATA_LOC=f\"{SIM}/20220628/atlas_mm_vmm_bkgr_1_TEST/*.h5\"\n",
    "\n",
    "files=glob(DATA_LOC)\n",
    "\n",
    "print(len(files))"
   ]
  },
  {
   "cell_type": "code",
   "execution_count": 11,
   "id": "7df804bd-a8e9-4798-849f-fc152f059922",
   "metadata": {
    "tags": []
   },
   "outputs": [
    {
     "name": "stdout",
     "output_type": "stream",
     "text": [
      "~~ Reading data... ~~\n"
     ]
    },
    {
     "name": "stderr",
     "output_type": "stream",
     "text": [
      "100%|██████████| 200/200 [00:16<00:00, 12.49it/s]\n"
     ]
    },
    {
     "name": "stdout",
     "output_type": "stream",
     "text": [
      "~~ Calculating occupancy information... ~~\n"
     ]
    },
    {
     "name": "stderr",
     "output_type": "stream",
     "text": [
      "100%|██████████| 200000/200000 [00:07<00:00, 28364.77it/s]"
     ]
    },
    {
     "name": "stdout",
     "output_type": "stream",
     "text": [
      "!!\n",
      "I read 200000 events, of which 100000 have muon and 100000 do not\n",
      "!!\n"
     ]
    },
    {
     "name": "stderr",
     "output_type": "stream",
     "text": [
      "\n"
     ]
    }
   ],
   "source": [
    "data, dmat, Y, Y_mu, Y_hit, sig_keys = datatools.make_data_matrix(files, max_files=500, sort_by='z')"
   ]
  },
  {
   "cell_type": "code",
   "execution_count": 12,
   "id": "fcc09f45-79d1-4e35-b76e-f8b572059e8b",
   "metadata": {},
   "outputs": [
    {
     "data": {
      "text/plain": [
       "dict_keys(['ev_mu_phi', 'ev_mu_theta', 'ev_mu_time', 'ev_mu_x', 'ev_mu_y', 'ev_n_mu_signals', 'ev_n_signals', 'n_sig_mmx', 'n_sig_mmu', 'n_sig_mmv', 'n_sig_mm', 'n_sig_stgc', 'n_sig_mdt'])"
      ]
     },
     "execution_count": 12,
     "metadata": {},
     "output_type": "execute_result"
    }
   ],
   "source": [
    "data.keys()"
   ]
  },
  {
   "cell_type": "code",
   "execution_count": 13,
   "id": "fc2c9d99-0acf-4bf1-877d-736c5971523a",
   "metadata": {},
   "outputs": [
    {
     "data": {
      "image/png": "[encoded data removed]",
      "text/plain": [
       "<Figure size 432x288 with 1 Axes>"
      ]
     },
     "metadata": {
      "needs_background": "light"
     },
     "output_type": "display_data"
    }
   ],
   "source": [
    "plt.Figure()\n",
    "plt.hist(data['ev_n_signals'][Y_mu==0], histtype='step', range=(0,13), bins=13, label='Noise')\n",
    "plt.hist(data['ev_n_signals'][Y_mu==1], histtype='step', range=(0,13), bins=13, label='Muon+Noise')\n",
    "plt.legend(loc='upper left')\n",
    "plt.xlabel('Number of signals')\n",
    "plt.ylabel('Entries')\n",
    "plt.show()"
   ]
  },
  {
   "cell_type": "code",
   "execution_count": 14,
   "id": "51761633-ae33-48b6-998f-116f6df87f5e",
   "metadata": {},
   "outputs": [
    {
     "data": {
      "image/png": "[encoded data removed]",
      "text/plain": [
       "<Figure size 432x288 with 1 Axes>"
      ]
     },
     "metadata": {
      "needs_background": "light"
     },
     "output_type": "display_data"
    }
   ],
   "source": [
    "plt.Figure()\n",
    "h_noise = plt.hist(data['n_sig_mmx'][Y_mu==0], histtype='step', range=(0,6), bins=6, label='Noise')\n",
    "h_muons = plt.hist(data['n_sig_mmx'][Y_mu==1], histtype='step', range=(0,6), bins=6, label='Muon+Noise')\n",
    "plt.legend(loc='upper left')\n",
    "plt.xlabel('Number of MMX signals')\n",
    "plt.ylabel('Entries')\n",
    "plt.show()"
   ]
  },
  {
   "cell_type": "code",
   "execution_count": 15,
   "id": "afd9290f-999d-46ac-a148-19782852fa80",
   "metadata": {},
   "outputs": [
    {
     "name": "stdout",
     "output_type": "stream",
     "text": [
      "Minimum number of MMX signals: 0\n",
      "\t Signal efficiency: 1.0\n",
      "\t Background rejection: 1.0\n",
      "Minimum number of MMX signals: 1\n",
      "\t Signal efficiency: 1.0\n",
      "\t Background rejection: 1.0118897040222616\n",
      "Minimum number of MMX signals: 2\n",
      "\t Signal efficiency: 0.99993\n",
      "\t Background rejection: 1.1185181871057224\n",
      "Minimum number of MMX signals: 3\n",
      "\t Signal efficiency: 0.99778\n",
      "\t Background rejection: 1.6559307158588483\n",
      "Minimum number of MMX signals: 4\n",
      "\t Signal efficiency: 0.92229\n",
      "\t Background rejection: 4.927079227433977\n",
      "Minimum number of MMX signals: 5\n",
      "\t Signal efficiency: 0.0\n",
      "\t Background rejection: inf\n",
      "Minimum number of MMX signals: 6\n",
      "\t Signal efficiency: 0.0\n",
      "\t Background rejection: inf\n"
     ]
    },
    {
     "name": "stderr",
     "output_type": "stream",
     "text": [
      "<ipython-input-15-927cb1fc27ea>:3: RuntimeWarning: divide by zero encountered in double_scalars\n",
      "  bkg_rej = 1./(h_noise[0][ib:].sum()/h_noise[0].sum())\n"
     ]
    }
   ],
   "source": [
    "for ib in range(0,7):\n",
    "    sig_eff = h_muons[0][ib:].sum()/h_muons[0].sum()\n",
    "    bkg_rej = 1./(h_noise[0][ib:].sum()/h_noise[0].sum())\n",
    "    print('Minimum number of MMX signals:', ib)\n",
    "    print('\\t', 'Signal efficiency:', sig_eff)\n",
    "    print('\\t', 'Background rejection:', bkg_rej)"
   ]
  },
  {
   "cell_type": "code",
   "execution_count": 16,
   "id": "6a9f8d06-a628-4fa9-83a4-37311cb09417",
   "metadata": {},
   "outputs": [
    {
     "data": {
      "image/png": "[encoded data removed]",
      "text/plain": [
       "<Figure size 432x288 with 1 Axes>"
      ]
     },
     "metadata": {
      "needs_background": "light"
     },
     "output_type": "display_data"
    },
    {
     "data": {
      "image/png": "[encoded data removed]",
      "text/plain": [
       "<Figure size 432x288 with 1 Axes>"
      ]
     },
     "metadata": {
      "needs_background": "light"
     },
     "output_type": "display_data"
    }
   ],
   "source": [
    "plt.Figure()\n",
    "plt.hist(data['n_sig_mmu'][Y_mu==0], histtype='step', range=(0,6), bins=6, label='Noise')\n",
    "plt.hist(data['n_sig_mmu'][Y_mu==1], histtype='step', range=(0,6), bins=6, label='Muon+Noise')\n",
    "plt.legend(loc='upper left')\n",
    "plt.xlabel('Number of MMU signals')\n",
    "plt.ylabel('Entries')\n",
    "plt.show()\n",
    "\n",
    "plt.Figure()\n",
    "plt.hist(data['n_sig_mmv'][Y_mu==0], histtype='step', range=(0,6), bins=6, label='Noise')\n",
    "plt.hist(data['n_sig_mmv'][Y_mu==1], histtype='step', range=(0,6), bins=6, label='Muon+Noise')\n",
    "plt.legend(loc='upper left')\n",
    "plt.xlabel('Number of MMV signals')\n",
    "plt.ylabel('Entries')\n",
    "plt.show()"
   ]
  },
  {
   "cell_type": "markdown",
   "id": "8e7fcf92",
   "metadata": {},
   "source": [
    "## Define models to compare"
   ]
  },
  {
   "cell_type": "code",
   "execution_count": 17,
   "id": "628e42e5",
   "metadata": {},
   "outputs": [
    {
     "name": "stdout",
     "output_type": "stream",
     "text": [
      "total 159K\n",
      "drwxr-sr-x 4 rafaeltl at 8.0K Jun 28 08:08 \u001b[0m\u001b[01;34mgru_BatchNormTrue_MaskingFalse_28062022_06.21.52\u001b[0m/\n",
      "drwxr-sr-x 4 rafaeltl at 4.0K Jun 28 11:22 \u001b[01;34mlstm_BatchNormTrue_MaskingFalse_28062022_10.27.00\u001b[0m/\n",
      "drwxr-sr-x 4 rafaeltl at 4.0K Jun 28 23:35 \u001b[01;34mgru_BatchNormFalse_MaskingFalse_28062022_06.00.14\u001b[0m/\n",
      "drwxr-sr-x 4 rafaeltl at 8.0K Jun 29 01:18 \u001b[01;34mlstm_BatchNormFalse_MaskingFalse_29062022_00.09.58\u001b[0m/\n",
      "drwxr-sr-x 4 rafaeltl at 8.0K Jun 29 02:21 \u001b[01;34mgru_BatchNormFalse_MaskingFalse_29062022_01.20.50\u001b[0m/\n",
      "drwxr-sr-x 4 rafaeltl at 4.0K Jul  4 09:32 \u001b[01;34mlstm_BatchNormFalse_MaskingFalse_04072022_09.00.14\u001b[0m/\n",
      "drwxr-sr-x 4 rafaeltl at 4.0K Jul  4 10:12 \u001b[01;34mlstm_BatchNormFalse_MaskingFalse_04072022_09.44.46\u001b[0m/\n",
      "drwxr-sr-x 4 rafaeltl at 4.0K Jul  5 05:29 \u001b[01;34mmlp_BatchNormFalse_MaskingFalse_05072022_05.27.55\u001b[0m/\n",
      "drwxr-sr-x 4 rafaeltl at 4.0K Jul  5 06:08 \u001b[01;34mtcn_BatchNormFalse_MaskingFalse_05072022_05.56.33_detMatrix\u001b[0m/\n",
      "drwxr-sr-x 4 rafaeltl at 4.0K Jul  5 08:37 \u001b[01;34mlstm_BatchNormFalse_MaskingFalse_05072022_08.14.31_detMatrix\u001b[0m/\n",
      "drwxr-sr-x 4 rafaeltl at 8.0K Jul  5 09:41 \u001b[01;34mtcn_BatchNormFalse_MaskingFalse_05072022_05.46.09_normalMatrix\u001b[0m/\n",
      "drwxr-sr-x 4 rafaeltl at 4.0K Jul  5 10:33 \u001b[01;34mtcn_BatchNormFalse_MaskingFalse_05072022_10.28.12_normalMatrix\u001b[0m/\n",
      "drwxr-sr-x 4 rafaeltl at 4.0K Jul  5 10:37 \u001b[01;34mtcn_BatchNormFalse_MaskingFalse_05072022_10.35.13_normalMatrix\u001b[0m/\n",
      "drwxr-sr-x 4 rafaeltl at 8.0K Jul  5 10:46 \u001b[01;34mtcn_BatchNormFalse_MaskingFalse_05072022_10.43.44_normalMatrix\u001b[0m/\n",
      "drwxr-sr-x 4 rafaeltl at 4.0K Jul  5 10:47 \u001b[01;34mtcn_BatchNormFalse_MaskingFalse_05072022_10.47.46_normalMatrix\u001b[0m/\n",
      "drwxr-sr-x 4 rafaeltl at 8.0K Jul  5 10:59 \u001b[01;34mtcn_BatchNormFalse_MaskingFalse_05072022_10.51.03_normalMatrix\u001b[0m/\n",
      "drwxr-sr-x 4 rafaeltl at 4.0K Jul  5 11:08 \u001b[01;34mtcn_BatchNormFalse_MaskingFalse_05072022_11.02.36_normalMatrix\u001b[0m/\n",
      "drwxr-sr-x 4 rafaeltl at 8.0K Jul  5 11:18 \u001b[01;34mtcn_BatchNormFalse_MaskingFalse_05072022_11.09.38_normalMatrix\u001b[0m/\n",
      "drwxr-sr-x 4 rafaeltl at 4.0K Jul  5 11:23 \u001b[01;34mtcn_BatchNormFalse_MaskingFalse_05072022_11.19.42_normalMatrix\u001b[0m/\n",
      "drwxr-sr-x 4 rafaeltl at 4.0K Jul  5 11:28 \u001b[01;34mtcn_BatchNormFalse_MaskingFalse_05072022_11.25.12_normalMatrix\u001b[0m/\n",
      "drwxr-sr-x 4 rafaeltl at 4.0K Jul  5 11:36 \u001b[01;34mtcn_BatchNormFalse_MaskingFalse_05072022_11.32.28_normalMatrix\u001b[0m/\n",
      "drwxr-sr-x 4 rafaeltl at 4.0K Jul  5 11:41 \u001b[01;34mtcn_BatchNormFalse_MaskingFalse_05072022_11.39.36_normalMatrix\u001b[0m/\n",
      "drwxr-sr-x 4 rafaeltl at 4.0K Jul  5 11:48 \u001b[01;34mtcn_BatchNormFalse_MaskingFalse_05072022_11.43.42_normalMatrix\u001b[0m/\n",
      "drwxr-sr-x 4 rafaeltl at 4.0K Jul  6 03:23 \u001b[01;34mtcn_BatchNormFalse_MaskingFalse_06072022_03.15.21_normalMatrix\u001b[0m/\n",
      "drwxr-sr-x 4 rafaeltl at 4.0K Jul  7 04:38 \u001b[01;34mtcn_BatchNormFalse_MaskingFalse_06072022_05.50.29_normalMatrix\u001b[0m/\n",
      "drwxr-sr-x 4 rafaeltl at 4.0K Jul  8 02:26 \u001b[01;34mtcn_BatchNormFalse_MaskingFalse_08072022_02.25.24_normalMatrix\u001b[0m/\n",
      "drwxr-sr-x 4 rafaeltl at 4.0K Jul  8 02:35 \u001b[01;34mtcn_BatchNormFalse_MaskingFalse_08072022_02.28.45_normalMatrix\u001b[0m/\n",
      "drwxr-sr-x 4 rafaeltl at 4.0K Jul 12 02:19 \u001b[01;34mlstm_BatchNormFalse_MaskingFalse_12072022_01.55.48_normalMatrix\u001b[0m\u001b[K/\n",
      "drwxr-sr-x 4 rafaeltl at 4.0K Jul 13 03:48 \u001b[01;34mlstm_BatchNormFalse_MaskingFalse_13072022_03.25.21_normalMatrix\u001b[0m\u001b[K/\n",
      "drwxr-sr-x 4 rafaeltl at 4.0K Jul 20 02:54 \u001b[01;34mtcn_BatchNormFalse_MaskingFalse_regression1_20072022_02.49.11_normalMatrix\u001b[0m\u001b[K/\n",
      "drwxr-sr-x 4 rafaeltl at 4.0K Jul 20 02:58 \u001b[01;34mtcn_BatchNormFalse_MaskingFalse_classification_20072022_02.56.43_normalMatrix\u001b[0m\u001b[K/\n",
      "drwxr-sr-x 4 rafaeltl at 4.0K Jul 20 05:23 \u001b[01;34mtcn_BatchNormFalse_MaskingFalse_regression1_20072022_05.17.48_normalMatrix\u001b[0m\u001b[K/\n",
      "drwxr-sr-x 4 rafaeltl at 4.0K Jul 20 06:54 \u001b[01;34mtcn_BatchNormFalse_MaskingFalse_regression1_20072022_06.50.43_normalMatrix\u001b[0m\u001b[K/\n",
      "drwxr-sr-x 4 rafaeltl at 8.0K Jul 20 07:05 \u001b[01;34mtcn_BatchNormFalse_MaskingFalse_regression1_20072022_07.00.04_normalMatrix\u001b[0m\u001b[K/\n",
      "drwxr-sr-x 4 rafaeltl at 4.0K Jul 20 07:15 \u001b[01;34mtcn_BatchNormFalse_MaskingFalse_regression1_20072022_07.08.53_normalMatrix\u001b[0m\u001b[K/\n",
      "drwxr-sr-x 4 rafaeltl at 4.0K Jul 20 07:23 \u001b[01;34mtcn_BatchNormFalse_MaskingFalse_regression1_20072022_07.19.21_normalMatrix\u001b[0m\u001b[K/\n",
      "drwxr-sr-x 4 rafaeltl at 4.0K Jul 20 07:37 \u001b[01;34mtcn_BatchNormFalse_MaskingFalse_regression1_20072022_07.30.50_normalMatrix\u001b[0m\u001b[K/\n",
      "drwxr-sr-x 4 rafaeltl at 4.0K Jul 20 07:48 \u001b[01;34mtcn_BatchNormFalse_MaskingFalse_regression1_20072022_07.44.01_normalMatrix\u001b[0m\u001b[K/\n",
      "drwxr-sr-x 4 rafaeltl at 4.0K Jul 21 04:34 \u001b[01;34mtcn_BatchNormFalse_MaskingFalse_regression1_21072022_04.27.54_normalMatrix\u001b[0m\u001b[K/\n"
     ]
    }
   ],
   "source": [
    "%ls -lhrt ../models/"
   ]
  },
  {
   "cell_type": "code",
   "execution_count": 18,
   "id": "7c624917",
   "metadata": {},
   "outputs": [],
   "source": [
    "mdict = {\n",
    "    \n",
    "    # \"MLP\":{\n",
    "    #     \"loc\": \"mlp_BatchNormFalse_MaskingFalse_05072022_05.27.55\",\n",
    "    #     \"data_det\": True,\n",
    "    #     \"data_card\": \"../../cards/atlas_mm_vmm.yml\",\n",
    "    #     \"data_flat\": True,\n",
    "    #     \"color\": \"C0\",\n",
    "    # },\n",
    "    \n",
    "    # \"LSTM-pad\":{\n",
    "    #     \"loc\": \"lstm_BatchNormFalse_MaskingFalse_04072022_09.44.46\",\n",
    "    #     \"data_det\": False,\n",
    "    #     \"data_card\": \"../../cards/atlas_mm_vmm.yml\",\n",
    "    #     \"data_flat\": False,\n",
    "    #     \"color\": \"C1\",\n",
    "    # },\n",
    "    \n",
    "    \"LSTM-det\":{\n",
    "        \"loc\": \"lstm_BatchNormFalse_MaskingFalse_04072022_09.00.14\",\n",
    "        \"data_det\": True,\n",
    "        \"data_card\": \"../../cards/atlas_mm_vmm.yml\",\n",
    "        \"data_flat\": False,\n",
    "        \"color\": \"C0\",\n",
    "    },\n",
    "    \n",
    "    \"TCN-pad\":{\n",
    "        \"loc\": \"tcn_BatchNormFalse_MaskingFalse_classification_20072022_02.56.43_normalMatrix\",\n",
    "        \"data_det\": False,\n",
    "        \"data_card\": \"../../cards/atlas_mm_vmm.yml\",\n",
    "        \"data_flat\": False,\n",
    "        \"color\": \"C1\",\n",
    "    },\n",
    "    \n",
    "    # \"TCN-det\":{\n",
    "    #     \"loc\": \"tcn_BatchNormFalse_MaskingFalse_05072022_05.56.33_detMatrix\",\n",
    "    #     \"data_det\": True,\n",
    "    #     \"data_card\": \"../../cards/atlas_mm_vmm.yml\",\n",
    "    #     \"data_flat\": False,\n",
    "    #     \"color\": \"C4\",\n",
    "    # },\n",
    "    \n",
    "    \"TCN-pad-reg\":{\n",
    "        \"loc\": \"tcn_BatchNormFalse_MaskingFalse_regression1_21072022_04.27.54_normalMatrix\",\n",
    "        \"data_det\": False,\n",
    "        \"data_card\": \"../../cards/atlas_mm_vmm.yml\",\n",
    "        \"data_flat\": False,\n",
    "        \"color\": \"C2\",\n",
    "        \"class_out\": 0\n",
    "    }\n",
    "}"
   ]
  },
  {
   "cell_type": "code",
   "execution_count": 19,
   "id": "a41d7660-61a3-4dda-a492-c551ba73be14",
   "metadata": {},
   "outputs": [],
   "source": [
    "import trainingvariables"
   ]
  },
  {
   "cell_type": "code",
   "execution_count": null,
   "id": "6f5533a4",
   "metadata": {},
   "outputs": [
    {
     "name": "stdout",
     "output_type": "stream",
     "text": [
      "~~ Preparing detector-based data matrix ~~\n",
      "Using detector card: ../../cards/atlas_mm_vmm.yml\n"
     ]
    },
    {
     "name": "stderr",
     "output_type": "stream",
     "text": [
      "100%|██████████| 200000/200000 [00:08<00:00, 22692.53it/s]\n"
     ]
    },
    {
     "name": "stdout",
     "output_type": "stream",
     "text": [
      "Output data matrix shape: (200000, 12, 19)\n",
      "~~ Preparing padded matrix ~~\n",
      "Data already prepared?\n"
     ]
    },
    {
     "name": "stderr",
     "output_type": "stream",
     "text": [
      "100%|██████████| 200000/200000 [00:08<00:00, 23858.61it/s]\n"
     ]
    },
    {
     "name": "stdout",
     "output_type": "stream",
     "text": [
      "Output data matrix shape: (200000, 12, 19)\n",
      "~~ Preparing padded matrix ~~\n",
      "Data already prepared?\n"
     ]
    },
    {
     "name": "stderr",
     "output_type": "stream",
     "text": [
      " 96%|█████████▌| 191550/200000 [00:08<00:00, 24024.64it/s]"
     ]
    }
   ],
   "source": [
    "for mod in mdict:\n",
    "    \n",
    "    if 'yhat' in mdict[mod].keys():\n",
    "        print(\"Already added this model\")\n",
    "        continue\n",
    "    \n",
    "    if mdict[mod]['data_det']:\n",
    "        X_prep = datatools.detector_matrix(dmat, sig_keys, mdict[mod]['data_card'])\n",
    "    else:\n",
    "        X_prep = datatools.training_prep(dmat, sig_keys)\n",
    "        \n",
    "    \n",
    "    vars_of_interest = np.zeros(X_prep.shape[2], dtype=bool)\n",
    "    training_vars = trainingvariables.tvars\n",
    "    for tv in training_vars:\n",
    "        vars_of_interest[sig_keys.index(tv)] = 1\n",
    "    X = X_prep[:,:,vars_of_interest]\n",
    "    \n",
    "    if mdict[mod]['data_flat']:\n",
    "        X = np.reshape(X, (X.shape[0], X.shape[1]*X.shape[2]))\n",
    "    \n",
    "    model_loc = '../models/'\n",
    "    \n",
    "    model = keras.models.load_model(model_loc+mdict[mod]['loc'],compile=False)\n",
    "    \n",
    "    if 'class_out' in mdict[mod]:\n",
    "        mdict[mod]['yhat'] = model.predict(X, batch_size=1024)[:,mdict[mod]['class_out']]\n",
    "    else:\n",
    "        mdict[mod]['yhat'] = model.predict(X, batch_size=1024).flatten()"
   ]
  },
  {
   "cell_type": "markdown",
   "id": "eae669c6",
   "metadata": {},
   "source": [
    "## Make plots"
   ]
  },
  {
   "cell_type": "code",
   "execution_count": null,
   "id": "7159aad1-1882-4fec-a19f-4d75dd723b86",
   "metadata": {},
   "outputs": [],
   "source": [
    "# yhat_x3 = np.copy(yhat)\n",
    "# yhat_x3[data['n_sig_mmx']<4] = 0.0\n",
    "\n",
    "# yhat_x2 = np.copy(yhat)\n",
    "# yhat_x2[data['n_sig_mmx']<3] = 0.0"
   ]
  },
  {
   "cell_type": "code",
   "execution_count": null,
   "id": "2ef27a8e-3da7-4d5f-8b20-7f3a31466478",
   "metadata": {},
   "outputs": [],
   "source": [
    "ncols, nrows = (2,1)\n",
    "fig, axs = plt.subplots(ncols=ncols, nrows=nrows, figsize=(6*ncols,4*nrows))\n",
    "axs = axs.flatten()\n",
    "\n",
    "for mod in mdict:\n",
    "    \n",
    "    yhat=mdict[mod]['yhat']\n",
    "    \n",
    "    h_b = axs[0].hist(yhat[Y_mu==0], histtype='step', range=(0,1), bins=500, label=f'[{mod}] Background')\n",
    "    h_s = axs[0].hist(yhat[Y_mu==1], histtype='step', range=(0,1), bins=500, label=f'[{mod}] Signal')\n",
    "    axs[0].set_yscale('log')\n",
    "    axs[0].legend()\n",
    "    axs[0].set_xlabel('Neural network output')\n",
    "    axs[0].set_ylabel('Entries')\n",
    "\n",
    "    xaxs = 0.5*( h_b[1][1:] + h_b[1][:-1] )\n",
    "    axs[1].plot(xaxs, h_b[0][::-1].cumsum()[::-1]/h_b[0].sum(), label=f'[{mod}] B efficiency')\n",
    "    axs[1].plot(xaxs, h_s[0][::-1].cumsum()[::-1]/h_s[0].sum(), label=f'[{mod}] S efficiency')\n",
    "    \n",
    "axs[1].plot([0,1], [1/4.927079227433977, 1/4.927079227433977], '--', color='C0')\n",
    "axs[1].plot([0,1], [0.92229, 0.92229], '--', color='C1')\n",
    "\n",
    "# plt.savefig(model_loc+model_name+'/output_histogram.pdf')\n",
    "plt.show()"
   ]
  },
  {
   "cell_type": "code",
   "execution_count": null,
   "id": "93f9ff1b-073f-4b1e-b1a3-bd51753d6a71",
   "metadata": {},
   "outputs": [],
   "source": [
    "plt.figure(figsize=(10,6))\n",
    "ax = plt.subplot(111)\n",
    "\n",
    "for mod in mdict:\n",
    "    \n",
    "    yhat=mdict[mod]['yhat']\n",
    "    yhat_x3 = np.copy(yhat)\n",
    "    yhat_x3[data['n_sig_mmx']<4] = 0.0\n",
    "    yhat_x2 = np.copy(yhat)\n",
    "    yhat_x2[data['n_sig_mmx']<3] = 0.0\n",
    "\n",
    "    fpr, tpr, thresholds = metrics.roc_curve(Y_mu, yhat)\n",
    "    fpr_x3, tpr_x3, thresholds = metrics.roc_curve(Y_mu, yhat_x3)\n",
    "    fpr_x2, tpr_x2, thresholds = metrics.roc_curve(Y_mu, yhat_x2)\n",
    "    ax.semilogy(tpr, 1./fpr, label=f'[{mod}] Cut on NN', color=mdict[mod]['color'])\n",
    "    ax.semilogy(tpr_x3, 1./fpr_x3, '--', label=f'[{mod}] Cut on NN & '+r'$N_{MMX} > 3$', color=mdict[mod]['color'])\n",
    "    ax.semilogy(tpr_x2, 1./fpr_x2, ':', label=f'[{mod}] Cut on NN & '+r'$N_{MMX} > 2$', color=mdict[mod]['color'])\n",
    "\n",
    "ax.set_xlim(0.8, 1.01)\n",
    "ax.set_ylim(0.5, 1e3)\n",
    "ax.set_xlabel('Muon signal efficiency')\n",
    "ax.set_ylabel('Noise rejection')\n",
    "ax.legend()\n",
    "box = ax.get_position()\n",
    "ax.set_position([box.x0, box.y0, box.width * 0.8, box.height])\n",
    "# Put a legend to the right of the current axis\n",
    "ax.legend(loc='center left', bbox_to_anchor=(1, 0.5))\n",
    "\n",
    "# plt.savefig(model_loc+model_name+'/roc.pdf')\n",
    "plt.show()"
   ]
  },
  {
   "cell_type": "code",
   "execution_count": null,
   "id": "a31d3b35-7a14-4ff6-bc82-cad179d9bfb3",
   "metadata": {},
   "outputs": [],
   "source": []
  },
  {
   "cell_type": "code",
   "execution_count": null,
   "id": "5c89970b-60fa-4c7a-b542-bceba546d246",
   "metadata": {},
   "outputs": [],
   "source": []
  },
  {
   "cell_type": "code",
   "execution_count": null,
   "id": "3bdb50f0-e41d-4126-beaa-149ac72fe2a3",
   "metadata": {},
   "outputs": [],
   "source": []
  }
 ],
 "metadata": {
  "kernelspec": {
   "display_name": "Python 3",
   "language": "python",
   "name": "python3"
  },
  "language_info": {
   "codemirror_mode": {
    "name": "ipython",
    "version": 3
   },
   "file_extension": ".py",
   "mimetype": "text/x-python",
   "name": "python",
   "nbconvert_exporter": "python",
   "pygments_lexer": "ipython3",
   "version": "3.8.12"
  }
 },
 "nbformat": 4,
 "nbformat_minor": 5
}
