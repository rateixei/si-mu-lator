{
 "cells": [
  {
   "cell_type": "code",
   "execution_count": 1,
   "id": "901d3553-d58b-419c-912d-12bd53159bfc",
   "metadata": {},
   "outputs": [],
   "source": [
    "import numpy as np\n",
    "import matplotlib as mpl\n",
    "from matplotlib import pyplot as plt\n",
    "import h5py"
   ]
  },
  {
   "cell_type": "code",
   "execution_count": 2,
   "id": "1f9a2572-f655-4923-b2e3-f74b5a61c880",
   "metadata": {},
   "outputs": [],
   "source": [
    "from sklearn import metrics"
   ]
  },
  {
   "cell_type": "code",
   "execution_count": 3,
   "id": "52266077-045a-4434-a8a1-f8a8ba769f2b",
   "metadata": {},
   "outputs": [],
   "source": [
    "from tensorflow import keras"
   ]
  },
  {
   "cell_type": "code",
   "execution_count": 4,
   "id": "f65aefc0-0b3a-469f-856c-75c7c194b97c",
   "metadata": {},
   "outputs": [],
   "source": [
    "from tensorflow.keras.optimizers import Adam"
   ]
  },
  {
   "cell_type": "code",
   "execution_count": 5,
   "id": "33376999-2512-4ccd-af23-6803f13055b0",
   "metadata": {},
   "outputs": [],
   "source": [
    "from sklearn.utils import shuffle"
   ]
  },
  {
   "cell_type": "code",
   "execution_count": 6,
   "id": "d527dccf-0778-44a8-a21c-3a7e0b23eba0",
   "metadata": {},
   "outputs": [],
   "source": [
    "from tensorflow.keras.callbacks import EarlyStopping, ModelCheckpoint"
   ]
  },
  {
   "cell_type": "code",
   "execution_count": 7,
   "id": "24c86e0a-2df9-4d04-b21d-d4ed8ba8f441",
   "metadata": {},
   "outputs": [],
   "source": [
    "import sys"
   ]
  },
  {
   "cell_type": "code",
   "execution_count": 8,
   "id": "9e13fb9b-8126-4ff6-b193-899925edb1ca",
   "metadata": {},
   "outputs": [],
   "source": [
    "%load_ext autoreload\n",
    "%autoreload 2"
   ]
  },
  {
   "cell_type": "code",
   "execution_count": 9,
   "id": "e8f882ea-d215-4e84-9e4e-c2e55ca6a3a7",
   "metadata": {},
   "outputs": [],
   "source": [
    "sys.path.append('../')"
   ]
  },
  {
   "cell_type": "code",
   "execution_count": 10,
   "id": "4ff12e85-891d-44ea-937f-8170c06ba070",
   "metadata": {},
   "outputs": [],
   "source": [
    "import datatools"
   ]
  },
  {
   "cell_type": "code",
   "execution_count": 11,
   "id": "6a8fb08d-ffc9-4f7e-a4b8-48fe122ef1ae",
   "metadata": {},
   "outputs": [],
   "source": [
    "import importlib"
   ]
  },
  {
   "cell_type": "code",
   "execution_count": 12,
   "id": "462d0df7-4e94-4795-87c9-f2e42ed25d82",
   "metadata": {},
   "outputs": [],
   "source": [
    "from glob import glob"
   ]
  },
  {
   "cell_type": "code",
   "execution_count": 13,
   "id": "22d0b3fe-16d6-432b-be57-2c570e1b1ba3",
   "metadata": {},
   "outputs": [
    {
     "name": "stdout",
     "output_type": "stream",
     "text": [
      "135\n"
     ]
    }
   ],
   "source": [
    "SIM=\"/gpfs/slac/atlas/fs1/d/rafaeltl/public/Muon/simulation/\"\n",
    "DATA_LOC=f\"{SIM}/stgc/atlas_nsw_pad_z0_stgc20Max1_bkgr_1_CovAngle_TRAIN/*.h5\"\n",
    "\n",
    "files=glob(DATA_LOC)\n",
    "\n",
    "print(len(files))"
   ]
  },
  {
   "cell_type": "code",
   "execution_count": 14,
   "id": "a4d2c9b6-f589-4022-893f-3d63fc47d6a0",
   "metadata": {},
   "outputs": [
    {
     "name": "stdout",
     "output_type": "stream",
     "text": [
      "~~ Reading data... ~~\n"
     ]
    },
    {
     "name": "stderr",
     "output_type": "stream",
     "text": [
      "100%|██████████| 135/135 [00:02<00:00, 45.08it/s]\n"
     ]
    },
    {
     "name": "stdout",
     "output_type": "stream",
     "text": [
      "~~ Calculating occupancy information... ~~\n"
     ]
    },
    {
     "name": "stderr",
     "output_type": "stream",
     "text": [
      "100%|██████████| 387000/387000 [00:12<00:00, 31419.47it/s]"
     ]
    },
    {
     "name": "stdout",
     "output_type": "stream",
     "text": [
      "!!\n",
      "I read 387000 events, of which 192000 have muon and 195000 do not\n",
      "!!\n"
     ]
    },
    {
     "name": "stderr",
     "output_type": "stream",
     "text": [
      "\n"
     ]
    }
   ],
   "source": [
    "data, dmat, Y, Y_mu, Y_hit, sig_keys = datatools.make_data_matrix(files, max_files=500, sort_by='z')"
   ]
  },
  {
   "cell_type": "code",
   "execution_count": 15,
   "id": "5bd3a077-22ff-44b0-a5b8-e18d5415ffb2",
   "metadata": {},
   "outputs": [],
   "source": [
    "import trainingvariables"
   ]
  },
  {
   "cell_type": "code",
   "execution_count": 16,
   "id": "ce760987-52d4-491e-9723-1fd4e13b81ed",
   "metadata": {},
   "outputs": [
    {
     "name": "stdout",
     "output_type": "stream",
     "text": [
      "~~ Preparing padded matrix ~~\n"
     ]
    },
    {
     "name": "stderr",
     "output_type": "stream",
     "text": [
      "100%|██████████| 387000/387000 [00:53<00:00, 7209.36it/s]"
     ]
    },
    {
     "name": "stdout",
     "output_type": "stream",
     "text": [
      "Output data matrix shape: (387000, 20, 19)\n"
     ]
    },
    {
     "name": "stderr",
     "output_type": "stream",
     "text": [
      "\n"
     ]
    }
   ],
   "source": [
    "X_pad = datatools.training_prep(dmat, sig_keys)"
   ]
  },
  {
   "cell_type": "code",
   "execution_count": 17,
   "id": "80c27e66-c9c1-487b-abf2-728376447a3d",
   "metadata": {},
   "outputs": [],
   "source": [
    "def sigmoid(x):\n",
    "    return 1/(1 + np.exp(-x))\n",
    "\n",
    "linearized = True"
   ]
  },
  {
   "cell_type": "code",
   "execution_count": 18,
   "id": "634f93a2-4641-4deb-9e25-e5632bd77ef4",
   "metadata": {},
   "outputs": [],
   "source": [
    "X_prep = X_pad"
   ]
  },
  {
   "cell_type": "code",
   "execution_count": 19,
   "id": "8f603149-e986-4185-b3bb-26aa93a8f83d",
   "metadata": {},
   "outputs": [],
   "source": [
    "vars_of_interest = np.zeros(X_prep.shape[2], dtype=bool)\n",
    "training_vars = trainingvariables.tvars\n",
    "for tv in training_vars:\n",
    "    vars_of_interest[sig_keys.index(tv)] = 1"
   ]
  },
  {
   "cell_type": "code",
   "execution_count": 20,
   "id": "c6279e65-dd9f-47b0-bf84-2922554c42fa",
   "metadata": {},
   "outputs": [],
   "source": [
    "X = X_prep[:,:,vars_of_interest]\n",
    "X_keys = np.array(sig_keys)[vars_of_interest]"
   ]
  },
  {
   "cell_type": "code",
   "execution_count": 21,
   "id": "9c2bc513-9820-447f-b310-3da539974666",
   "metadata": {},
   "outputs": [],
   "source": [
    "mult_fact = max(data['ev_mu_x'])\n",
    "mult_facta = max(data['ev_mu_theta'])"
   ]
  },
  {
   "cell_type": "code",
   "execution_count": 22,
   "id": "16dbb2ed-9e63-454d-a794-07fd46f25243",
   "metadata": {},
   "outputs": [],
   "source": [
    "data_ev_mu_x = (data['ev_mu_x'])/mult_fact\n",
    "data_ev_mu_a = (data['ev_mu_theta'])/mult_facta\n",
    "\n",
    "X_train, Y_clas_train, Y_xreg_train, Y_areg_train = shuffle(X, Y_mu, data_ev_mu_x, data_ev_mu_a)\n",
    "\n",
    "Y_train = np.zeros( (Y_clas_train.shape[0], 3 ) ) \n",
    "Y_train[:,0] = Y_clas_train\n",
    "Y_train[:,1] = Y_xreg_train\n",
    "Y_train[:,2] = Y_areg_train"
   ]
  },
  {
   "cell_type": "code",
   "execution_count": 23,
   "id": "1d41d648-3b2f-4d70-8c2f-e80112937b0c",
   "metadata": {},
   "outputs": [],
   "source": [
    "this_cut=(Y_mu==1)"
   ]
  },
  {
   "cell_type": "code",
   "execution_count": 24,
   "id": "b5960faa-4447-4bc8-86a9-595bd2e234ca",
   "metadata": {},
   "outputs": [],
   "source": [
    "model_loc = '../models/'\n",
    "model_name = \"MyTCN_10,3,1:20,3,1_none_CBNormTrue_DBNormFalse_ll1_ptype0_penXTrue_penATrue_bkgPenFalse_regBiasTrue_Flatten\""
   ]
  },
  {
   "cell_type": "code",
   "execution_count": 25,
   "id": "0478dec7-5560-40ca-a201-2ead7e25b8fc",
   "metadata": {},
   "outputs": [],
   "source": [
    "keras_model = keras.models.load_model(model_loc+model_name,compile=False)"
   ]
  },
  {
   "cell_type": "code",
   "execution_count": 26,
   "id": "5ad6ef6b-c2e5-4774-8436-9731afdf2512",
   "metadata": {},
   "outputs": [
    {
     "name": "stdout",
     "output_type": "stream",
     "text": [
      "Model: \"model\"\n",
      "_________________________________________________________________\n",
      "Layer (type)                 Output Shape              Param #   \n",
      "=================================================================\n",
      "inputs (InputLayer)          [(None, 20, 7)]           0         \n",
      "_________________________________________________________________\n",
      "C1D_0 (Conv1D)               (None, 18, 10)            220       \n",
      "_________________________________________________________________\n",
      "C1D_1 (Conv1D)               (None, 16, 20)            620       \n",
      "_________________________________________________________________\n",
      "flatten (Flatten)            (None, 320)               0         \n",
      "_________________________________________________________________\n",
      "output (Dense)               (None, 3)                 963       \n",
      "=================================================================\n",
      "Total params: 1,803\n",
      "Trainable params: 1,803\n",
      "Non-trainable params: 0\n",
      "_________________________________________________________________\n"
     ]
    }
   ],
   "source": [
    "keras_model.summary()"
   ]
  },
  {
   "cell_type": "code",
   "execution_count": 27,
   "id": "5c65a2f8-2f1b-49f3-a626-0386c318ec19",
   "metadata": {},
   "outputs": [
    {
     "name": "stdout",
     "output_type": "stream",
     "text": [
      "inputs\n",
      "C1D_0\n",
      "C1D_0 (3, 7, 10) 0.993133\n",
      "C1D_0 (10,) 0.6839937\n",
      "C1D_1\n",
      "C1D_1 (3, 10, 20) 0.99259216\n",
      "C1D_1 (20,) 0.21704733\n",
      "flatten\n",
      "output\n",
      "output (320, 3) 0.54816276\n",
      "output (3,) 0.9999999\n"
     ]
    }
   ],
   "source": [
    "all_weights = np.array([])\n",
    "for layer in keras_model.layers:\n",
    "    print(layer.name)\n",
    "    for w in layer.weights:\n",
    "        all_weights = np.concatenate( [w.numpy().flatten(), all_weights] )\n",
    "        print (layer.name, w.numpy().shape, np.max(w.numpy().flatten()))"
   ]
  },
  {
   "cell_type": "code",
   "execution_count": 28,
   "id": "63079595-ae6e-413d-b6a1-9ce51de4cfcf",
   "metadata": {},
   "outputs": [
    {
     "data": {
      "image/png": "[encoded data removed]",
      "text/plain": [
       "<Figure size 432x288 with 1 Axes>"
      ]
     },
     "metadata": {
      "needs_background": "light"
     },
     "output_type": "display_data"
    }
   ],
   "source": [
    "plt.Figure()\n",
    "plt.hist( np.log2(np.abs(all_weights+1e-100)), bins=50 )\n",
    "plt.yscale('log')\n",
    "plt.show()"
   ]
  },
  {
   "cell_type": "code",
   "execution_count": 29,
   "id": "cf0c7e76-cd25-4440-9c9b-6f371b89536a",
   "metadata": {},
   "outputs": [
    {
     "data": {
      "text/plain": [
       "array([-0.03582856, -0.01221315,  0.6839937 , -0.09065782,  0.12878466,\n",
       "       -0.02241887,  0.1725231 ,  0.0119364 , -0.1340008 , -0.08448809],\n",
       "      dtype=float32)"
      ]
     },
     "execution_count": 29,
     "metadata": {},
     "output_type": "execute_result"
    }
   ],
   "source": [
    "keras_model.layers[1].weights[1].numpy().flatten()"
   ]
  },
  {
   "cell_type": "code",
   "execution_count": 30,
   "id": "a626e6a3-2c2a-42e9-9666-04c0cd65ecb5",
   "metadata": {},
   "outputs": [],
   "source": [
    "keras_preds = keras_model.predict(X, batch_size=1024)"
   ]
  },
  {
   "cell_type": "code",
   "execution_count": 31,
   "id": "aaa87ff1-5689-45ce-ade9-1333c6026f7e",
   "metadata": {},
   "outputs": [],
   "source": [
    "keras_yhat = sigmoid(keras_preds[:,0])"
   ]
  },
  {
   "cell_type": "code",
   "execution_count": 32,
   "id": "f325898a-a87b-4f79-9d02-fa4110555b4f",
   "metadata": {},
   "outputs": [],
   "source": [
    "keras_x_reg = keras_preds[:,1]*mult_fact\n",
    "keras_a_reg = keras_preds[:,2]*mult_facta"
   ]
  },
  {
   "cell_type": "code",
   "execution_count": 33,
   "id": "1e4c6edb-d77a-4099-9a3c-ffa554398cc0",
   "metadata": {},
   "outputs": [
    {
     "name": "stdout",
     "output_type": "stream",
     "text": [
      "1.1507068668597131 1.618206251107799e-05 0.9990656407986112\n"
     ]
    }
   ],
   "source": [
    "keras_mod_msex = metrics.mean_squared_error(  data['ev_mu_x'][this_cut], keras_x_reg[this_cut] )\n",
    "keras_mod_msea = metrics.mean_squared_error( data['ev_mu_theta'][this_cut], keras_a_reg[this_cut] )\n",
    "keras_mod_auc = metrics.roc_auc_score( Y_mu, keras_yhat )\n",
    "keras_fpr, keras_tpr, keras_thresholds = metrics.roc_curve( Y_mu, keras_yhat )\n",
    "print(keras_mod_msex, keras_mod_msea, keras_mod_auc)"
   ]
  },
  {
   "cell_type": "markdown",
   "id": "169c752b-1fef-4347-a022-3c409463b1ff",
   "metadata": {},
   "source": [
    "## Pruning"
   ]
  },
  {
   "cell_type": "code",
   "execution_count": 34,
   "id": "5316ae60-f5e2-43c4-90c3-47eecdb8a834",
   "metadata": {},
   "outputs": [],
   "source": [
    "import tensorflow_model_optimization as tfmot"
   ]
  },
  {
   "cell_type": "code",
   "execution_count": 35,
   "id": "468e438d-0f86-46fe-820b-3cb4d3c6e97e",
   "metadata": {},
   "outputs": [],
   "source": [
    "prune_low_magnitude = tfmot.sparsity.keras.prune_low_magnitude"
   ]
  },
  {
   "cell_type": "code",
   "execution_count": 36,
   "id": "1173bc17-e104-4cc8-bde2-0ace3930bace",
   "metadata": {},
   "outputs": [],
   "source": [
    "# Compute end step to finish pruning after 2 epochs.\n",
    "batch_size = 128\n",
    "epochs = 2\n",
    "validation_split = 0.1 # 10% of training set will be used for validation set. "
   ]
  },
  {
   "cell_type": "code",
   "execution_count": 37,
   "id": "b4e42392-2381-44dd-8661-da49dbce242d",
   "metadata": {},
   "outputs": [],
   "source": [
    "num_images = X.shape[0] * (1 - validation_split)\n",
    "end_step = np.ceil(num_images / batch_size).astype(np.int32) * epochs"
   ]
  },
  {
   "cell_type": "code",
   "execution_count": 38,
   "id": "8fc07260-7c0d-4ccd-a822-14e1455c6995",
   "metadata": {},
   "outputs": [],
   "source": [
    "import mlmodels"
   ]
  },
  {
   "cell_type": "code",
   "execution_count": 39,
   "id": "e47f5463-5c47-490e-b328-a9cdca2ce6b0",
   "metadata": {},
   "outputs": [],
   "source": [
    "import tempfile"
   ]
  },
  {
   "cell_type": "code",
   "execution_count": 40,
   "id": "9d391729-7504-41e0-a4b4-270a90a2cce7",
   "metadata": {},
   "outputs": [],
   "source": [
    "combloss = mlmodels.class_and_regr_loss(1,\n",
    "                                   do_angle=1, \n",
    "                                   pen_type=2, pen_x=True, pen_a=True, bkg_pen_x=False, bkg_pen_a=False, linearized=True)"
   ]
  },
  {
   "cell_type": "code",
   "execution_count": 41,
   "id": "0ff872b9-d828-4253-bfcd-63906d7e39d8",
   "metadata": {},
   "outputs": [],
   "source": [
    "initial_sparsities = [0.1, 0.2, 0.3, 0.4, 0.5, 0.6, 0.7, 0.8, 0.9]\n",
    "final_sparsities = [0.1, 0.2, 0.3, 0.4, 0.5, 0.6, 0.7, 0.8, 0.9]\n",
    "pruned_mod_msex_s = []\n",
    "pruned_mod_msea_s = []\n",
    "pruned_mod_auc_s = []"
   ]
  },
  {
   "cell_type": "code",
   "execution_count": null,
   "id": "a55a589a-1495-42d0-9aac-b313b2ba4d85",
   "metadata": {},
   "outputs": [
    {
     "name": "stderr",
     "output_type": "stream",
     "text": [
      "/opt/conda/envs/rapids/lib/python3.8/site-packages/keras/engine/base_layer.py:2223: UserWarning: `layer.add_variable` is deprecated and will be removed in a future version. Please use `layer.add_weight` method instead.\n",
      "  warnings.warn('`layer.add_variable` is deprecated and '\n"
     ]
    },
    {
     "name": "stdout",
     "output_type": "stream",
     "text": [
      "Epoch 1/5\n",
      "22/22 [==============================] - 3s 38ms/step - loss: 0.2371 - val_loss: 0.2365\n",
      "Epoch 2/5\n",
      "22/22 [==============================] - 1s 26ms/step - loss: 0.2579 - val_loss: 0.2426\n",
      "Epoch 3/5\n",
      "22/22 [==============================] - 1s 26ms/step - loss: 0.2370 - val_loss: 0.3635\n",
      "Epoch 4/5\n",
      "22/22 [==============================] - 1s 27ms/step - loss: 0.2543 - val_loss: 0.2996\n",
      "Epoch 5/5\n",
      "22/22 [==============================] - 1s 25ms/step - loss: 0.3113 - val_loss: 0.3154\n",
      "1.1522566912300685 2.6387740449392386e-05 0.9990608400774571\n"
     ]
    },
    {
     "name": "stderr",
     "output_type": "stream",
     "text": [
      "<ipython-input-42-bbc3dd4f63f3>:67: RuntimeWarning: divide by zero encountered in true_divide\n",
      "  axs[2].semilogy( keras_tpr, 1./keras_fpr, color='black' )\n",
      "<ipython-input-42-bbc3dd4f63f3>:68: RuntimeWarning: divide by zero encountered in true_divide\n",
      "  axs[2].semilogy( ttpr, 1./tfpr, color='red' )\n"
     ]
    },
    {
     "data": {
      "image/png": "[encoded data removed]",
      "text/plain": [
       "<Figure size 1728x288 with 4 Axes>"
      ]
     },
     "metadata": {
      "needs_background": "light"
     },
     "output_type": "display_data"
    },
    {
     "name": "stderr",
     "output_type": "stream",
     "text": [
      "/opt/conda/envs/rapids/lib/python3.8/site-packages/keras/engine/base_layer.py:2223: UserWarning: `layer.add_variable` is deprecated and will be removed in a future version. Please use `layer.add_weight` method instead.\n",
      "  warnings.warn('`layer.add_variable` is deprecated and '\n"
     ]
    },
    {
     "name": "stdout",
     "output_type": "stream",
     "text": [
      "Epoch 1/5\n",
      "22/22 [==============================] - 2s 41ms/step - loss: 0.3198 - val_loss: 0.3119\n",
      "Epoch 2/5\n",
      "22/22 [==============================] - 1s 26ms/step - loss: 0.2726 - val_loss: 0.2468\n",
      "Epoch 3/5\n",
      "22/22 [==============================] - 1s 26ms/step - loss: 0.2290 - val_loss: 0.2478\n",
      "Epoch 4/5\n",
      "22/22 [==============================] - 1s 26ms/step - loss: 0.2442 - val_loss: 0.2283\n",
      "Epoch 5/5\n",
      "22/22 [==============================] - 1s 26ms/step - loss: 0.2146 - val_loss: 0.2281\n",
      "1.3625403249265846 1.8017111749303937e-05 0.9991076554620727\n"
     ]
    },
    {
     "name": "stderr",
     "output_type": "stream",
     "text": [
      "<ipython-input-42-bbc3dd4f63f3>:67: RuntimeWarning: divide by zero encountered in true_divide\n",
      "  axs[2].semilogy( keras_tpr, 1./keras_fpr, color='black' )\n",
      "<ipython-input-42-bbc3dd4f63f3>:68: RuntimeWarning: divide by zero encountered in true_divide\n",
      "  axs[2].semilogy( ttpr, 1./tfpr, color='red' )\n"
     ]
    },
    {
     "data": {
      "image/png": "[encoded data removed]",
      "text/plain": [
       "<Figure size 1728x288 with 4 Axes>"
      ]
     },
     "metadata": {
      "needs_background": "light"
     },
     "output_type": "display_data"
    },
    {
     "name": "stderr",
     "output_type": "stream",
     "text": [
      "/opt/conda/envs/rapids/lib/python3.8/site-packages/keras/engine/base_layer.py:2223: UserWarning: `layer.add_variable` is deprecated and will be removed in a future version. Please use `layer.add_weight` method instead.\n",
      "  warnings.warn('`layer.add_variable` is deprecated and '\n"
     ]
    },
    {
     "name": "stdout",
     "output_type": "stream",
     "text": [
      "Epoch 1/5\n",
      "22/22 [==============================] - 2s 43ms/step - loss: 0.3354 - val_loss: 0.2746\n",
      "Epoch 2/5\n",
      "22/22 [==============================] - 1s 28ms/step - loss: 0.2717 - val_loss: 0.2642\n",
      "Epoch 3/5\n",
      "22/22 [==============================] - 1s 29ms/step - loss: 0.2371 - val_loss: 0.1993\n",
      "Epoch 4/5\n",
      "22/22 [==============================] - 1s 28ms/step - loss: 0.2211 - val_loss: 0.2073\n",
      "Epoch 5/5\n",
      "22/22 [==============================] - 1s 26ms/step - loss: 0.2257 - val_loss: 0.2583\n",
      "1.2249375523550377 1.9356582196056886e-05 0.9990896549946582\n"
     ]
    },
    {
     "name": "stderr",
     "output_type": "stream",
     "text": [
      "<ipython-input-42-bbc3dd4f63f3>:67: RuntimeWarning: divide by zero encountered in true_divide\n",
      "  axs[2].semilogy( keras_tpr, 1./keras_fpr, color='black' )\n",
      "<ipython-input-42-bbc3dd4f63f3>:68: RuntimeWarning: divide by zero encountered in true_divide\n",
      "  axs[2].semilogy( ttpr, 1./tfpr, color='red' )\n"
     ]
    },
    {
     "data": {
      "image/png": "[encoded data removed]",
      "text/plain": [
       "<Figure size 1728x288 with 4 Axes>"
      ]
     },
     "metadata": {
      "needs_background": "light"
     },
     "output_type": "display_data"
    },
    {
     "name": "stderr",
     "output_type": "stream",
     "text": [
      "/opt/conda/envs/rapids/lib/python3.8/site-packages/keras/engine/base_layer.py:2223: UserWarning: `layer.add_variable` is deprecated and will be removed in a future version. Please use `layer.add_weight` method instead.\n",
      "  warnings.warn('`layer.add_variable` is deprecated and '\n"
     ]
    },
    {
     "name": "stdout",
     "output_type": "stream",
     "text": [
      "Epoch 1/5\n",
      "22/22 [==============================] - 2s 41ms/step - loss: 0.2905 - val_loss: 0.2544\n",
      "Epoch 2/5\n",
      "22/22 [==============================] - 1s 27ms/step - loss: 0.2488 - val_loss: 0.2349\n",
      "Epoch 3/5\n",
      "22/22 [==============================] - 1s 27ms/step - loss: 0.2243 - val_loss: 0.2498\n",
      "Epoch 4/5\n",
      "22/22 [==============================] - 1s 26ms/step - loss: 0.2381 - val_loss: 0.2527\n",
      "Epoch 5/5\n",
      "22/22 [==============================] - 1s 26ms/step - loss: 0.2395 - val_loss: 0.2174\n",
      "1.261491444053231 1.901224718254673e-05 0.9991006825454061\n"
     ]
    },
    {
     "name": "stderr",
     "output_type": "stream",
     "text": [
      "<ipython-input-42-bbc3dd4f63f3>:67: RuntimeWarning: divide by zero encountered in true_divide\n",
      "  axs[2].semilogy( keras_tpr, 1./keras_fpr, color='black' )\n",
      "<ipython-input-42-bbc3dd4f63f3>:68: RuntimeWarning: divide by zero encountered in true_divide\n",
      "  axs[2].semilogy( ttpr, 1./tfpr, color='red' )\n"
     ]
    },
    {
     "data": {
      "image/png": "[encoded data removed]",
      "text/plain": [
       "<Figure size 1728x288 with 4 Axes>"
      ]
     },
     "metadata": {
      "needs_background": "light"
     },
     "output_type": "display_data"
    },
    {
     "name": "stderr",
     "output_type": "stream",
     "text": [
      "/opt/conda/envs/rapids/lib/python3.8/site-packages/keras/engine/base_layer.py:2223: UserWarning: `layer.add_variable` is deprecated and will be removed in a future version. Please use `layer.add_weight` method instead.\n",
      "  warnings.warn('`layer.add_variable` is deprecated and '\n"
     ]
    },
    {
     "name": "stdout",
     "output_type": "stream",
     "text": [
      "Epoch 1/5\n",
      "22/22 [==============================] - 2s 41ms/step - loss: 0.2485 - val_loss: 0.2520\n",
      "Epoch 2/5\n",
      "22/22 [==============================] - 1s 26ms/step - loss: 0.2447 - val_loss: 0.2977\n",
      "Epoch 3/5\n",
      "22/22 [==============================] - 1s 27ms/step - loss: 0.2535 - val_loss: 0.2470\n",
      "Epoch 4/5\n",
      "22/22 [==============================] - 1s 27ms/step - loss: 0.2463 - val_loss: 0.2424\n",
      "Epoch 5/5\n",
      "22/22 [==============================] - 1s 26ms/step - loss: 0.2264 - val_loss: 0.2511\n",
      "1.2185477066548274 1.973526774376273e-05 0.9990995840277777\n"
     ]
    },
    {
     "name": "stderr",
     "output_type": "stream",
     "text": [
      "<ipython-input-42-bbc3dd4f63f3>:67: RuntimeWarning: divide by zero encountered in true_divide\n",
      "  axs[2].semilogy( keras_tpr, 1./keras_fpr, color='black' )\n",
      "<ipython-input-42-bbc3dd4f63f3>:68: RuntimeWarning: divide by zero encountered in true_divide\n",
      "  axs[2].semilogy( ttpr, 1./tfpr, color='red' )\n"
     ]
    },
    {
     "data": {
      "image/png": "[encoded data removed]",
      "text/plain": [
       "<Figure size 1728x288 with 4 Axes>"
      ]
     },
     "metadata": {
      "needs_background": "light"
     },
     "output_type": "display_data"
    },
    {
     "name": "stderr",
     "output_type": "stream",
     "text": [
      "/opt/conda/envs/rapids/lib/python3.8/site-packages/keras/engine/base_layer.py:2223: UserWarning: `layer.add_variable` is deprecated and will be removed in a future version. Please use `layer.add_weight` method instead.\n",
      "  warnings.warn('`layer.add_variable` is deprecated and '\n"
     ]
    },
    {
     "name": "stdout",
     "output_type": "stream",
     "text": [
      "Epoch 1/5\n",
      "22/22 [==============================] - 2s 50ms/step - loss: 0.2511 - val_loss: 0.3328\n",
      "Epoch 2/5\n",
      "22/22 [==============================] - 1s 27ms/step - loss: 0.2897 - val_loss: 0.3209\n",
      "Epoch 3/5\n",
      "22/22 [==============================] - 1s 28ms/step - loss: 0.3236 - val_loss: 0.2467\n",
      "Epoch 4/5\n",
      " 7/22 [========>.....................] - ETA: 0s - loss: 0.2175"
     ]
    }
   ],
   "source": [
    "for isp in initial_sparsities:\n",
    "    for fsp in final_sparsities:\n",
    "        \n",
    "        if fsp <= isp: continue\n",
    "\n",
    "        pruning_params = {\n",
    "              'pruning_schedule': tfmot.sparsity.keras.PolynomialDecay(initial_sparsity=isp,\n",
    "                                                                       final_sparsity=fsp,\n",
    "                                                                       begin_step=0,\n",
    "                                                                       end_step=end_step)\n",
    "        }\n",
    "\n",
    "        model_for_pruning = prune_low_magnitude(keras_model, **pruning_params)\n",
    "\n",
    "        # `prune_low_magnitude` requires a recompile.\n",
    "        model_for_pruning.compile(optimizer='adam',\n",
    "                      loss=combloss)\n",
    "\n",
    "        logdir = tempfile.mkdtemp()\n",
    "\n",
    "        callbacks = [\n",
    "          tfmot.sparsity.keras.UpdatePruningStep(),\n",
    "          tfmot.sparsity.keras.PruningSummaries(log_dir=logdir),\n",
    "        ]\n",
    "\n",
    "        model_for_pruning.fit(X_train, Y_train,\n",
    "                          batch_size=batch_size**2, epochs=5, validation_split=validation_split,\n",
    "                          callbacks=callbacks)\n",
    "        \n",
    "        model_for_export = tfmot.sparsity.keras.strip_pruning(model_for_pruning)\n",
    "        \n",
    "        pruned_weights = np.array([])\n",
    "        n_weights = 0\n",
    "        for layer in model_for_export.layers:\n",
    "            for w in layer.weights:\n",
    "                pruned_weights = np.concatenate( [w.numpy().flatten(), pruned_weights] )\n",
    "                n_weights += w.numpy().flatten().shape[0]\n",
    "\n",
    "        pruned_preds = model_for_export.predict(X, batch_size=1024)\n",
    "        pruned_yhat = sigmoid(pruned_preds[:,0])\n",
    "        pruned_x_reg = pruned_preds[:,1]*mult_fact\n",
    "        pruned_a_reg = pruned_preds[:,2]*mult_facta\n",
    "        \n",
    "        \n",
    "        tmsex = metrics.mean_squared_error(  data['ev_mu_x'][this_cut], pruned_x_reg[this_cut] )\n",
    "        tmsea = metrics.mean_squared_error( data['ev_mu_theta'][this_cut], pruned_a_reg[this_cut] )\n",
    "        tauc = metrics.roc_auc_score( Y_mu, pruned_yhat )\n",
    "        tfpr, ttpr, _ = metrics.roc_curve( Y_mu, pruned_yhat )\n",
    "        print(tmsex, tmsea, tauc)\n",
    "        \n",
    "        pruned_mod_msex_s.append(tmsex)\n",
    "        pruned_mod_msea_s.append(tmsea)\n",
    "        pruned_mod_auc_s.append(tauc)\n",
    "        \n",
    "        ncols, nrows = (4,1)\n",
    "        fig, axs = plt.subplots(ncols=ncols, nrows=nrows, figsize=(6*ncols,4*nrows))\n",
    "        axs = axs.flatten()\n",
    "        \n",
    "        axs[0].hist( keras_x_reg[this_cut] - data['ev_mu_x'][this_cut], histtype='stepfilled', bins=50, range=(-2,2) )\n",
    "        axs[0].hist( pruned_x_reg[this_cut] - data['ev_mu_x'][this_cut], histtype='step', bins=50, range=(-2,2) )\n",
    "        axs[0].plot( [0,0], [0,35000], 'g--' )\n",
    "        \n",
    "        axs[1].hist( keras_a_reg[this_cut] - data['ev_mu_theta'][this_cut], histtype='stepfilled', bins=50, range=(-0.02,0.02) )\n",
    "        axs[1].hist( pruned_a_reg[this_cut] - data['ev_mu_theta'][this_cut], histtype='step', bins=50, range=(-0.02,0.02) )\n",
    "        axs[1].plot( [0,0], [0,35000], 'g--' )\n",
    "        \n",
    "        axs[2].semilogy( keras_tpr, 1./keras_fpr, color='black' )\n",
    "        axs[2].semilogy( ttpr, 1./tfpr, color='red' )\n",
    "        \n",
    "        axs[3].hist( np.log2(np.abs(all_weights+1e-100)), histtype='step', bins=100, range=(-100,0), label=\"Pre\" )\n",
    "        axs[3].hist( np.log2(np.abs(pruned_weights+1e-100)), histtype='step', bins=100, range=(-100,0), label=f\"{n_weights}\" )\n",
    "        axs[3].set_yscale('log')\n",
    "        axs[3].legend()\n",
    "        \n",
    "        for ax in axs:\n",
    "            ax.set_title(f\"{isp} {fsp}\")\n",
    "        \n",
    "        plt.show()"
   ]
  },
  {
   "cell_type": "code",
   "execution_count": null,
   "id": "88bf70d6-7238-45fd-b85d-3e1c69fd0d06",
   "metadata": {},
   "outputs": [],
   "source": []
  },
  {
   "cell_type": "code",
   "execution_count": null,
   "id": "85c907d3-1a0a-42fe-85e2-e7212be10277",
   "metadata": {},
   "outputs": [],
   "source": []
  },
  {
   "cell_type": "code",
   "execution_count": null,
   "id": "e65860ad-f587-4d31-8d65-50ac2663d625",
   "metadata": {},
   "outputs": [],
   "source": []
  },
  {
   "cell_type": "code",
   "execution_count": null,
   "id": "09092e89-cf6d-4999-9886-904c4e9ef5ca",
   "metadata": {},
   "outputs": [],
   "source": []
  },
  {
   "cell_type": "code",
   "execution_count": null,
   "id": "cbb5d6d1-2dec-42fc-a825-6ace933480f8",
   "metadata": {},
   "outputs": [],
   "source": []
  },
  {
   "cell_type": "code",
   "execution_count": null,
   "id": "2dda8c5b-b5f7-44be-a045-d007054cc284",
   "metadata": {},
   "outputs": [],
   "source": []
  }
 ],
 "metadata": {
  "kernelspec": {
   "display_name": "Python 3",
   "language": "python",
   "name": "python3"
  },
  "language_info": {
   "codemirror_mode": {
    "name": "ipython",
    "version": 3
   },
   "file_extension": ".py",
   "mimetype": "text/x-python",
   "name": "python",
   "nbconvert_exporter": "python",
   "pygments_lexer": "ipython3",
   "version": "3.8.12"
  }
 },
 "nbformat": 4,
 "nbformat_minor": 5
}
