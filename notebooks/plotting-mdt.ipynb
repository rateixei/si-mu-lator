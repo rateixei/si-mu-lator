{
 "cells": [
  {
   "cell_type": "code",
   "execution_count": 1,
   "metadata": {},
   "outputs": [],
   "source": [
    "import sys\n",
    "import numpy as np\n",
    "import matplotlib as mpl\n",
    "import matplotlib.pyplot as plt"
   ]
  },
  {
   "cell_type": "code",
   "execution_count": 2,
   "metadata": {},
   "outputs": [],
   "source": [
    "from mpl_toolkits import mplot3d"
   ]
  },
  {
   "cell_type": "code",
   "execution_count": 3,
   "metadata": {},
   "outputs": [],
   "source": [
    "sys.path.insert(0, '../')"
   ]
  },
  {
   "cell_type": "raw",
   "metadata": {},
   "source": [
    "## Setup detector with card"
   ]
  },
  {
   "cell_type": "code",
   "execution_count": 4,
   "metadata": {},
   "outputs": [],
   "source": [
    "from detmodel import detector\n",
    "from detmodel import plane\n",
    "from detmodel import signal"
   ]
  },
  {
   "cell_type": "code",
   "execution_count": 5,
   "metadata": {},
   "outputs": [
    {
     "name": "stdout",
     "output_type": "stream",
     "text": [
      "-- Initializing detector --\n",
      "-- Reading card --\n"
     ]
    }
   ],
   "source": [
    "my_detector = detector.Detector()\n",
    "my_detector.read_card('../cards/atlas_mdt.yml')\n",
    "#my_detector.read_card('../cards/atlas_mdt_eml1.yml')"
   ]
  },
  {
   "cell_type": "markdown",
   "metadata": {},
   "source": [
    "## Pass muon"
   ]
  },
  {
   "cell_type": "code",
   "execution_count": 6,
   "metadata": {},
   "outputs": [
    {
     "data": {
      "text/plain": [
       "[1, 1, 1, 1, 1, 1]"
      ]
     },
     "execution_count": 6,
     "metadata": {},
     "output_type": "execute_result"
    }
   ],
   "source": [
    "my_detector.reset_planes()\n",
    "my_detector.add_muon(\n",
    "        mu_x=40., \n",
    "        mu_y=0., \n",
    "        mu_theta=0.2, \n",
    "        mu_phi=0, \n",
    "        mu_time=0\n",
    "    )"
   ]
  },
  {
   "cell_type": "markdown",
   "metadata": {},
   "source": [
    "## Add noise\n",
    "\n",
    "Noise rate in Hertz per plane. MM had a peak of 70kHz per strip, here we have 10 strips/plane.\n",
    "Noise rate for MDT EML1 is 150 kHz per tube @HL-LHC, rate per plane is # tubes/plane times that rate."
   ]
  },
  {
   "cell_type": "code",
   "execution_count": 7,
   "metadata": {},
   "outputs": [],
   "source": [
    "my_detector.add_noise('constant', 10*150*1e3)"
   ]
  },
  {
   "cell_type": "markdown",
   "metadata": {},
   "source": [
    "## Process signal"
   ]
  },
  {
   "cell_type": "code",
   "execution_count": 8,
   "metadata": {},
   "outputs": [
    {
     "name": "stdout",
     "output_type": "stream",
     "text": [
      "Total number of hits: 2\n",
      "Total number of hits: 3\n",
      "Total number of hits: 2\n",
      "Total number of hits: 1\n",
      "Total number of hits: 4\n",
      "Total number of hits: 1\n"
     ]
    }
   ],
   "source": [
    "sigs = my_detector.get_signals(summary=True)"
   ]
  },
  {
   "cell_type": "markdown",
   "metadata": {},
   "source": [
    "## Plot detector volume"
   ]
  },
  {
   "cell_type": "code",
   "execution_count": 9,
   "metadata": {},
   "outputs": [],
   "source": [
    "from plotting import plotting"
   ]
  },
  {
   "cell_type": "code",
   "execution_count": 10,
   "metadata": {},
   "outputs": [
    {
     "data": {
      "text/plain": [
       "<module 'plotting.plotting' from '../plotting/plotting.py'>"
      ]
     },
     "execution_count": 10,
     "metadata": {},
     "output_type": "execute_result"
    }
   ],
   "source": [
    "import importlib\n",
    "importlib.reload(plotting)"
   ]
  },
  {
   "cell_type": "code",
   "execution_count": 11,
   "metadata": {},
   "outputs": [],
   "source": [
    "%matplotlib widget"
   ]
  },
  {
   "cell_type": "code",
   "execution_count": 12,
   "metadata": {},
   "outputs": [
    {
     "data": {
      "application/vnd.jupyter.widget-view+json": {
       "model_id": "8eddf556bc2842a09299e0017b6fd832",
       "version_major": 2,
       "version_minor": 0
      },
      "text/plain": [
       "Canvas(toolbar=Toolbar(toolitems=[('Home', 'Reset original view', 'home', 'home'), ('Back', 'Back to previous …"
      ]
     },
     "metadata": {},
     "output_type": "display_data"
    },
    {
     "name": "stdout",
     "output_type": "stream",
     "text": [
      "Found muon signal, plane  0  xseg  6  time  14.169115490406776\n",
      "Found muon signal, plane  1  xseg  6  time  -198.22018267450355\n",
      "Found muon signal, plane  2  xseg  6  time  -8.319829324194565\n",
      "Found muon signal, plane  3  xseg  8  time  -10.400185363650863\n",
      "Found muon signal, plane  4  xseg  7  time  1.935083102486576\n",
      "Found muon signal, plane  5  xseg  8  time  3.4947328515494838\n",
      "[Point3D(40, 0, 0)] [Point3D(51388424484040840/490033288920621, 0, 320)]\n"
     ]
    }
   ],
   "source": [
    "fig = plt.figure()\n",
    "ax = plt.axes(projection='3d')\n",
    "plotting.plot_det_volume(my_detector, ax, draw_muon=1)\n",
    "plt.show()"
   ]
  },
  {
   "cell_type": "code",
   "execution_count": 13,
   "metadata": {},
   "outputs": [
    {
     "data": {
      "application/vnd.jupyter.widget-view+json": {
       "model_id": "1c1d67a8280b41c09d7dfec83002af70",
       "version_major": 2,
       "version_minor": 0
      },
      "text/plain": [
       "Canvas(toolbar=Toolbar(toolitems=[('Home', 'Reset original view', 'home', 'home'), ('Back', 'Back to previous …"
      ]
     },
     "metadata": {},
     "output_type": "display_data"
    },
    {
     "name": "stdout",
     "output_type": "stream",
     "text": [
      "skip hit 2\n",
      "skip hit 1\n",
      "[Point3D(18607984902849340/490033288920621, 0, -10)] [Point3D(53772456453582040/490033288920621, 0, 344)]\n"
     ]
    }
   ],
   "source": [
    "fig2 = plt.figure(figsize=(6,6*1.18))\n",
    "ax2 = plt.axes()\n",
    "plotting.plot_det_xz(my_detector, ax2, draw_muon=True, draw_allhits=False)\n",
    "plt.show()"
   ]
  },
  {
   "cell_type": "code",
   "execution_count": 14,
   "metadata": {},
   "outputs": [
    {
     "data": {
      "application/vnd.jupyter.widget-view+json": {
       "model_id": "dfc8fa1811664bc8bf0b1d62f2485a59",
       "version_major": 2,
       "version_minor": 0
      },
      "text/plain": [
       "Canvas(toolbar=Toolbar(toolitems=[('Home', 'Reset original view', 'home', 'home'), ('Back', 'Back to previous …"
      ]
     },
     "metadata": {},
     "output_type": "display_data"
    },
    {
     "name": "stdout",
     "output_type": "stream",
     "text": [
      "[Point3D(18607984902849340/490033288920621, 0, -10)] [Point3D(53772456453582040/490033288920621, 0, 344)]\n"
     ]
    }
   ],
   "source": [
    "fig3 = plt.figure(figsize=(6,6*1.18))  # good for 10-tube wide atlas_mdt.yml\n",
    "#fig3 = plt.figure(figsize=(28,6))   # good for 56-tube wide atlas_mdt_eml1.yml\n",
    "ax3 = plt.axes()\n",
    "plotting.plot_det_xz(my_detector, ax3, draw_muon=True, draw_allhits=True)\n",
    "plt.show()"
   ]
  }
 ],
 "metadata": {
  "kernelspec": {
   "display_name": "Python 3",
   "language": "python",
   "name": "python3"
  },
  "language_info": {
   "codemirror_mode": {
    "name": "ipython",
    "version": 3
   },
   "file_extension": ".py",
   "mimetype": "text/x-python",
   "name": "python",
   "nbconvert_exporter": "python",
   "pygments_lexer": "ipython3",
   "version": "3.6.9"
  }
 },
 "nbformat": 4,
 "nbformat_minor": 4
}
