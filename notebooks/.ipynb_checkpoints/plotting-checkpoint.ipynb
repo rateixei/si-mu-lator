{
 "cells": [
  {
   "cell_type": "code",
   "execution_count": 1,
   "metadata": {},
   "outputs": [],
   "source": [
    "import sys\n",
    "import numpy as np\n",
    "import matplotlib as mpl\n",
    "import matplotlib.pyplot as plt"
   ]
  },
  {
   "cell_type": "code",
   "execution_count": 2,
   "metadata": {},
   "outputs": [],
   "source": [
    "from mpl_toolkits import mplot3d"
   ]
  },
  {
   "cell_type": "code",
   "execution_count": 3,
   "metadata": {},
   "outputs": [],
   "source": [
    "sys.path.insert(0, '../')"
   ]
  },
  {
   "cell_type": "markdown",
   "metadata": {},
   "source": [
    "## Setup detector with card"
   ]
  },
  {
   "cell_type": "code",
   "execution_count": 4,
   "metadata": {},
   "outputs": [],
   "source": [
    "from detmodel import detector\n",
    "from detmodel import plane\n",
    "from detmodel import signal"
   ]
  },
  {
   "cell_type": "code",
   "execution_count": 5,
   "metadata": {},
   "outputs": [
    {
     "name": "stdout",
     "output_type": "stream",
     "text": [
      "-- Initializing detector --\n",
      "-- Reading card --\n"
     ]
    }
   ],
   "source": [
    "my_detector = detector.Detector()\n",
    "#my_detector.read_card('../cards/atlas_nsw.yml')\n",
    "my_detector.read_card('../cards/atlas_nsw_large.yml')"
   ]
  },
  {
   "cell_type": "markdown",
   "metadata": {},
   "source": [
    "## Pass muon"
   ]
  },
  {
   "cell_type": "code",
   "execution_count": 6,
   "metadata": {},
   "outputs": [
    {
     "data": {
      "text/plain": [
       "[1, 1, 1, 1, 1, 1, 1, 1, 1, 1, 1, 1, 1, 1, 1, 1]"
      ]
     },
     "execution_count": 6,
     "metadata": {},
     "output_type": "execute_result"
    }
   ],
   "source": [
    "my_detector.reset_planes()\n",
    "my_detector.add_muon(\n",
    "        mu_x=-1100, \n",
    "        mu_y=0, \n",
    "        mu_theta=0.140, \n",
    "        mu_phi=0, \n",
    "        mu_time=0\n",
    "    )"
   ]
  },
  {
   "cell_type": "markdown",
   "metadata": {},
   "source": [
    "## Add noise\n",
    "\n",
    "Noise rate in Hertz per strip is set in detector cards. Second argument here is a multiplicative scale factor."
   ]
  },
  {
   "cell_type": "code",
   "execution_count": 7,
   "metadata": {},
   "outputs": [],
   "source": [
    "my_detector.add_noise('constant', 1)"
   ]
  },
  {
   "cell_type": "markdown",
   "metadata": {},
   "source": [
    "## Process signal"
   ]
  },
  {
   "cell_type": "code",
   "execution_count": null,
   "metadata": {},
   "outputs": [
    {
     "name": "stdout",
     "output_type": "stream",
     "text": [
      "Signal information:\n",
      "\t\n",
      "{'is_muon': False, 'x': -26.798506777877275, 'y': 28.315718295195914, 'z': 7460.5, 'ptype': 2, 'ptilt': 0, 'poffset': 1.6, 'time': -9.807241644137557, 'projX_at_rightend_x': -25.6, 'projX_at_rightend_y': 57.6, 'projX_at_middle_x': -25.6, 'projX_at_middle_y': 0.0, 'projY_at_topend_x': 57.6, 'projY_at_topend_y': -57.6, 'projY_at_middle_x': 0.0, 'projY_at_middle_y': -57.6, 'seg_ix': 9, 'rdrift': 1.4737490251255752}\n",
      "Signal information:\n",
      "\t\n",
      "{'is_muon': False, 'x': -17.682554263087184, 'y': -43.99429137179755, 'z': 7460.5, 'ptype': 2, 'ptilt': 0, 'poffset': 1.6, 'time': -4.11231986506956, 'projX_at_rightend_x': -19.2, 'projX_at_rightend_y': 57.6, 'projX_at_middle_x': -19.2, 'projX_at_middle_y': 0.0, 'projY_at_topend_x': 57.6, 'projY_at_topend_y': -57.6, 'projY_at_middle_x': 0.0, 'projY_at_middle_y': -57.6, 'seg_ix': 11, 'rdrift': 0.943799101403784}\n",
      "Signal information:\n",
      "\t\n",
      "{'is_muon': False, 'x': 53.104785807170124, 'y': 3.756494620743041, 'z': 7460.5, 'ptype': 2, 'ptilt': 0, 'poffset': 1.6, 'time': -1.5307322123198244, 'projX_at_rightend_x': 54.4, 'projX_at_rightend_y': 57.6, 'projX_at_middle_x': 54.4, 'projX_at_middle_y': 0.0, 'projY_at_topend_x': 57.6, 'projY_at_topend_y': -57.6, 'projY_at_middle_x': 0.0, 'projY_at_middle_y': -57.6, 'seg_ix': 34, 'rdrift': 1.4334704094474224}\n"
     ]
    }
   ],
   "source": [
    "sigs = my_detector.get_signals()"
   ]
  },
  {
   "cell_type": "markdown",
   "metadata": {},
   "source": [
    "## Plot detector volume"
   ]
  },
  {
   "cell_type": "code",
   "execution_count": null,
   "metadata": {},
   "outputs": [],
   "source": [
    "from plotting import plotting"
   ]
  },
  {
   "cell_type": "code",
   "execution_count": null,
   "metadata": {},
   "outputs": [],
   "source": [
    "import importlib\n",
    "importlib.reload(plotting)"
   ]
  },
  {
   "cell_type": "code",
   "execution_count": null,
   "metadata": {},
   "outputs": [],
   "source": [
    "%matplotlib widget"
   ]
  },
  {
   "cell_type": "code",
   "execution_count": null,
   "metadata": {},
   "outputs": [],
   "source": [
    "fig = plt.figure(figsize=(8,12))\n",
    "ax = plt.axes(projection='3d')\n",
    "plotting.plot_det_volume(my_detector, ax, draw_muon=1)"
   ]
  },
  {
   "cell_type": "code",
   "execution_count": null,
   "metadata": {},
   "outputs": [],
   "source": []
  },
  {
   "cell_type": "code",
   "execution_count": null,
   "metadata": {},
   "outputs": [],
   "source": []
  }
 ],
 "metadata": {
  "kernelspec": {
   "display_name": "Python 3 (ipykernel)",
   "language": "python",
   "name": "python3"
  },
  "language_info": {
   "codemirror_mode": {
    "name": "ipython",
    "version": 3
   },
   "file_extension": ".py",
   "mimetype": "text/x-python",
   "name": "python",
   "nbconvert_exporter": "python",
   "pygments_lexer": "ipython3",
   "version": "3.8.8"
  }
 },
 "nbformat": 4,
 "nbformat_minor": 4
}
