{
 "cells": [
  {
   "cell_type": "code",
   "execution_count": 1,
   "metadata": {},
   "outputs": [],
   "source": [
    "import numpy as np\n",
    "import matplotlib as mpl\n",
    "from matplotlib import pyplot as plt\n",
    "import h5py"
   ]
  },
  {
   "cell_type": "markdown",
   "metadata": {},
   "source": [
    "## Find all files"
   ]
  },
  {
   "cell_type": "code",
   "execution_count": 2,
   "metadata": {},
   "outputs": [],
   "source": [
    "from glob import glob"
   ]
  },
  {
   "cell_type": "code",
   "execution_count": 3,
   "metadata": {},
   "outputs": [],
   "source": [
    "#files_loc = \"/gpfs/slac/atlas/fs1/u/rafaeltl/Muon/toy_sim/si-mu-lator/out_files/\"\n",
    "files_loc = \"/sdf/home/w/willocq/muons4ML/si-mu-lator/run/\""
   ]
  },
  {
   "cell_type": "code",
   "execution_count": 4,
   "metadata": {},
   "outputs": [],
   "source": [
    "files_nobkg = glob(files_loc+'*_bkg0_*.h5')\n",
    "#files_bkg = glob(files_loc+'*bkg1*.h5')\n",
    "#files_bkg = glob(files_loc+'mdt_n5.dat')\n",
    "files_bkg = glob(files_loc+'mdt_n1k_b5e6_new.dat')"
   ]
  },
  {
   "cell_type": "markdown",
   "metadata": {},
   "source": [
    "## Open one file"
   ]
  },
  {
   "cell_type": "code",
   "execution_count": 5,
   "metadata": {},
   "outputs": [],
   "source": [
    "f5 = h5py.File( files_bkg[0], 'r' )"
   ]
  },
  {
   "cell_type": "code",
   "execution_count": 6,
   "metadata": {},
   "outputs": [
    {
     "data": {
      "text/plain": [
       "<KeysViewHDF5 ['ev_mu_phi', 'ev_mu_theta', 'ev_mu_time', 'ev_mu_x', 'ev_mu_y', 'ev_n_mu_signals', 'ev_n_signals', 'signal_keys', 'signals']>"
      ]
     },
     "execution_count": 6,
     "metadata": {},
     "output_type": "execute_result"
    }
   ],
   "source": [
    "f5.keys()"
   ]
  },
  {
   "cell_type": "markdown",
   "metadata": {},
   "source": [
    "### File structure\n",
    "\n",
    "The file is structured as follows:\n",
    "\n",
    "- Each row is an event (a full readout of the detector module within a given time window specified in the detector card)\n",
    "- For each event, you have the truth information of the one incoming muon (if there is one, specified in the file production step)\n",
    "- For each event, you have a set of signal readouts\n",
    "\n",
    "The arrays in the file are:\n",
    "- 'ev_mu_phi', 'ev_mu_theta', 'ev_mu_time', 'ev_mu_x', 'ev_mu_y': muon truth\n",
    "- 'ev_n_mu_signals', 'ev_n_signals': number of signals that were left by a muon, number of total signals\n",
    "- 'signal_keys': array of names of signal variables\n",
    "- 'signals': array of signals"
   ]
  },
  {
   "cell_type": "markdown",
   "metadata": {},
   "source": [
    "#### The signals array corresponds to the output of the `get_info_wrt_plane` function in class `Signal`:\n",
    "```\n",
    "           hit_dict = {'is_muon': self.is_muon,\n",
    "                    'z': plane.z,\n",
    "                    'ptype': plane.p_type.asint(),\n",
    "                    'ptilt': plane.tilt,\n",
    "                    'poffset': plane.offset,\n",
    "                    'time': self.time,\n",
    "                    'projX_at_rightend_x': float(x_rightend.x),\n",
    "                    'projX_at_rightend_y': float(x_rightend.y),\n",
    "                    'projX_at_middle_x': float(x_middle.x),\n",
    "                    'projX_at_middle_y': float(x_middle.y),\n",
    "                    'projY_at_topend_x': float(y_topend.x),\n",
    "                    'projY_at_topend_y': float(y_topend.y),\n",
    "                    'projY_at_middle_x': float(y_middle.x),\n",
    "                    'projY_at_middle_y': float(y_middle.y),\n",
    "                    'seg_ix': self.seg_ix,\n",
    "                    'rdrift': self.rdrift\n",
    "                   }\n",
    "\n",
    "```"
   ]
  },
  {
   "cell_type": "code",
   "execution_count": 7,
   "metadata": {},
   "outputs": [],
   "source": [
    "sig_vars = [  'is_muon',\n",
    "                   'z',\n",
    "                   'ptype',\n",
    "                   'ptilt',\n",
    "                   'poffset',\n",
    "                   'time',\n",
    "                   'projX_at_rightend_x',\n",
    "                   'projX_at_rightend_y',\n",
    "                   'projX_at_middle_x',\n",
    "                   'projX_at_middle_y',\n",
    "                   'projY_at_topend_x',\n",
    "                   'projY_at_topend_y',\n",
    "                   'projY_at_middle_x',\n",
    "                   'projY_at_middle_y',\n",
    "                   'seg_ix',\n",
    "                   'rdrift']"
   ]
  },
  {
   "cell_type": "markdown",
   "metadata": {},
   "source": [
    "### Transform objects in arrays"
   ]
  },
  {
   "cell_type": "code",
   "execution_count": 8,
   "metadata": {},
   "outputs": [],
   "source": [
    "data = {}\n",
    "for kk in f5.keys():\n",
    "    data[kk] = np.array( f5[kk] )"
   ]
  },
  {
   "cell_type": "code",
   "execution_count": 9,
   "metadata": {},
   "outputs": [
    {
     "name": "stdout",
     "output_type": "stream",
     "text": [
      "mu x [-25.09197623 -76.98908672  66.96842973  97.8023027   56.76647016] \n",
      " mu theta [ 0.22535715  0.05453327 -0.19760195  0.02477236  0.06741685] \n",
      " n mu signals [4 5 6 4 6] \n",
      " n signals [19 21 24 29 23] \n",
      "\n"
     ]
    }
   ],
   "source": [
    "# show first five events\n",
    "print(\n",
    "    'mu x', data['ev_mu_x'][:5], '\\n',\n",
    "    'mu theta', data['ev_mu_theta'][:5], '\\n',\n",
    "    'n mu signals', data['ev_n_mu_signals'][:5], '\\n',\n",
    "    'n signals', data['ev_n_signals'][:5], '\\n',\n",
    ")\n"
   ]
  },
  {
   "cell_type": "code",
   "execution_count": 10,
   "metadata": {},
   "outputs": [
    {
     "data": {
      "text/plain": [
       "(1000, 35, 16)"
      ]
     },
     "execution_count": 10,
     "metadata": {},
     "output_type": "execute_result"
    }
   ],
   "source": [
    "data['signals'].shape"
   ]
  },
  {
   "cell_type": "markdown",
   "metadata": {},
   "source": [
    "Note that the shape of the signals is (1000, 39, 13). This means that there are 1000 events, the maximum number of signals in this file is 39, and for each signal there are 16 features."
   ]
  },
  {
   "cell_type": "code",
   "execution_count": 11,
   "metadata": {},
   "outputs": [
    {
     "data": {
      "text/plain": [
       "array([ 15.,  41.,  41., ..., -99., -99., -99.])"
      ]
     },
     "execution_count": 11,
     "metadata": {},
     "output_type": "execute_result"
    }
   ],
   "source": [
    "idx_mu = sig_vars.index('is_muon')\n",
    "idx_z = sig_vars.index('z')\n",
    "idx_rdrift = sig_vars.index('rdrift')\n",
    "data['signals'][:, :, idx_z].flatten() # show variable z for all signals from all events"
   ]
  },
  {
   "cell_type": "code",
   "execution_count": 12,
   "metadata": {},
   "outputs": [
    {
     "name": "stdout",
     "output_type": "stream",
     "text": [
      "0.001172666684355339 14.99926029374184\n"
     ]
    },
    {
     "data": {
      "image/png": "[encoded data removed]",
      "text/plain": [
       "<Figure size 1008x1008 with 16 Axes>"
      ]
     },
     "metadata": {
      "needs_background": "light"
     },
     "output_type": "display_data"
    }
   ],
   "source": [
    "fig, axs = plt.subplots(4, 4, figsize=(14, 14), gridspec_kw={'wspace':0.5, 'hspace': 0.5})\n",
    "axs = axs.flatten()\n",
    "\n",
    "mu_hits = data['signals'][:, :, idx_mu].flatten() == 1\n",
    "empty_hits = data['signals'][:, :, idx_mu].flatten() == -99  # not a signal\n",
    "\n",
    "for iv in range(data['signals'].shape[2]):\n",
    "    ivar = data['signals'][:, :, iv].flatten()\n",
    "    maxvar = np.max( ivar[(~empty_hits)] )\n",
    "    minvar = np.min( ivar[(~empty_hits)] )\n",
    "    \n",
    "    axs[iv].hist( ivar[(mu_hits)&(~empty_hits)], histtype='step', range=(minvar, maxvar), bins=20, label='muon hits' )\n",
    "    axs[iv].hist( ivar[(~mu_hits)&(~empty_hits)], histtype='step', range=(minvar, maxvar), bins=20, label='bkg hits' )\n",
    "    \n",
    "    axs[iv].set_xlabel(sig_vars[iv])\n",
    "\n",
    "axs[0].legend()\n",
    "plt.show()\n",
    "    "
   ]
  },
  {
   "cell_type": "code",
   "execution_count": null,
   "metadata": {},
   "outputs": [],
   "source": []
  }
 ],
 "metadata": {
  "kernelspec": {
   "display_name": "Python 3",
   "language": "python",
   "name": "python3"
  },
  "language_info": {
   "codemirror_mode": {
    "name": "ipython",
    "version": 3
   },
   "file_extension": ".py",
   "mimetype": "text/x-python",
   "name": "python",
   "nbconvert_exporter": "python",
   "pygments_lexer": "ipython3",
   "version": "3.6.9"
  }
 },
 "nbformat": 4,
 "nbformat_minor": 4
}
