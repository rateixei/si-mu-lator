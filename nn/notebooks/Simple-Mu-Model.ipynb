{
 "cells": [
  {
   "cell_type": "code",
   "execution_count": 1,
   "metadata": {},
   "outputs": [],
   "source": [
    "import numpy as np\n",
    "import matplotlib as mpl\n",
    "from matplotlib import pyplot as plt\n",
    "import h5py"
   ]
  },
  {
   "cell_type": "code",
   "execution_count": 2,
   "metadata": {},
   "outputs": [
    {
     "name": "stdout",
     "output_type": "stream",
     "text": [
      "Num GPUs Available:  1\n"
     ]
    }
   ],
   "source": [
    "import tensorflow as tf\n",
    "print(\"Num GPUs Available: \", len(tf.config.list_physical_devices('GPU')))"
   ]
  },
  {
   "cell_type": "code",
   "execution_count": 3,
   "metadata": {},
   "outputs": [],
   "source": [
    "%load_ext autoreload\n",
    "%autoreload 2"
   ]
  },
  {
   "cell_type": "code",
   "execution_count": 4,
   "metadata": {},
   "outputs": [],
   "source": [
    "import importlib"
   ]
  },
  {
   "cell_type": "markdown",
   "metadata": {},
   "source": [
    "## Set Training Label"
   ]
  },
  {
   "cell_type": "code",
   "execution_count": 5,
   "metadata": {},
   "outputs": [],
   "source": [
    "label = 'NewSim_TypeSelfAttention'"
   ]
  },
  {
   "cell_type": "markdown",
   "metadata": {},
   "source": [
    "## Find all files"
   ]
  },
  {
   "cell_type": "code",
   "execution_count": 6,
   "metadata": {},
   "outputs": [],
   "source": [
    "from glob import glob"
   ]
  },
  {
   "cell_type": "code",
   "execution_count": 11,
   "metadata": {},
   "outputs": [],
   "source": [
    "# files_loc = \"/sdf/home/r/rafaeltl/home/rafaeltl/Muon/Feb15/si-mu-lator/batch_slac/out_files/March24_bkgr_2375000/\"\n",
    "files_loc = \"/gpfs/slac/atlas/fs1/u/rafaeltl/Muon/Apr2022/si-mu-lator/batch_slac/out_files/bkgr_1/\""
   ]
  },
  {
   "cell_type": "code",
   "execution_count": 12,
   "metadata": {},
   "outputs": [],
   "source": [
    "# files_bkg = glob(files_loc+'*Muon*bkgr*70000.0*.h5')\n",
    "files_bkg = glob(files_loc+'*NoMuon*.h5')\n",
    "files_sig = glob(files_loc+'*WithMuon*.h5')\n",
    "all_files = files_bkg+files_sig"
   ]
  },
  {
   "cell_type": "markdown",
   "metadata": {},
   "source": [
    "## Open files"
   ]
  },
  {
   "cell_type": "code",
   "execution_count": 13,
   "metadata": {},
   "outputs": [
    {
     "data": {
      "text/plain": [
       "<module 'dataprep' from '/gpfs/slac/atlas/fs1/u/rafaeltl/Muon/Feb15/si-mu-lator/nn/notebooks/dataprep.py'>"
      ]
     },
     "execution_count": 13,
     "metadata": {},
     "output_type": "execute_result"
    }
   ],
   "source": [
    "import dataprep\n",
    "importlib.reload(dataprep)"
   ]
  },
  {
   "cell_type": "code",
   "execution_count": 14,
   "metadata": {
    "collapsed": true,
    "jupyter": {
     "outputs_hidden": true
    },
    "tags": []
   },
   "outputs": [
    {
     "name": "stdout",
     "output_type": "stream",
     "text": [
      "/gpfs/slac/atlas/fs1/u/rafaeltl/Muon/Apr2022/si-mu-lator/batch_slac/out_files/bkgr_1/NoMuon.atlas_mm_road.nevs_1000.bkgr_1_Rnd780520.h5\n",
      "['is_muon', 'x', 'y', 'z', 'ptype', 'ptilt', 'poffset', 'time', 'projX_at_rightend_x', 'projX_at_rightend_y', 'projX_at_middle_x', 'projX_at_middle_y', 'projY_at_topend_x', 'projY_at_topend_y', 'projY_at_middle_x', 'projY_at_middle_y', 'seg_ix', 'rdrift']\n",
      "/gpfs/slac/atlas/fs1/u/rafaeltl/Muon/Apr2022/si-mu-lator/batch_slac/out_files/bkgr_1/NoMuon.atlas_mm_road.nevs_1000.bkgr_1_Rnd780564.h5\n",
      "/gpfs/slac/atlas/fs1/u/rafaeltl/Muon/Apr2022/si-mu-lator/batch_slac/out_files/bkgr_1/NoMuon.atlas_mm_road.nevs_1000.bkgr_1_Rnd780552.h5\n",
      "/gpfs/slac/atlas/fs1/u/rafaeltl/Muon/Apr2022/si-mu-lator/batch_slac/out_files/bkgr_1/NoMuon.atlas_mm_road.nevs_1000.bkgr_1_Rnd780470.h5\n",
      "/gpfs/slac/atlas/fs1/u/rafaeltl/Muon/Apr2022/si-mu-lator/batch_slac/out_files/bkgr_1/NoMuon.atlas_mm_road.nevs_1000.bkgr_1_Rnd780551.h5\n",
      "/gpfs/slac/atlas/fs1/u/rafaeltl/Muon/Apr2022/si-mu-lator/batch_slac/out_files/bkgr_1/NoMuon.atlas_mm_road.nevs_1000.bkgr_1_Rnd780555.h5\n",
      "/gpfs/slac/atlas/fs1/u/rafaeltl/Muon/Apr2022/si-mu-lator/batch_slac/out_files/bkgr_1/NoMuon.atlas_mm_road.nevs_1000.bkgr_1_Rnd780556.h5\n",
      "/gpfs/slac/atlas/fs1/u/rafaeltl/Muon/Apr2022/si-mu-lator/batch_slac/out_files/bkgr_1/NoMuon.atlas_mm_road.nevs_1000.bkgr_1_Rnd780547.h5\n",
      "/gpfs/slac/atlas/fs1/u/rafaeltl/Muon/Apr2022/si-mu-lator/batch_slac/out_files/bkgr_1/NoMuon.atlas_mm_road.nevs_1000.bkgr_1_Rnd780479.h5\n",
      "/gpfs/slac/atlas/fs1/u/rafaeltl/Muon/Apr2022/si-mu-lator/batch_slac/out_files/bkgr_1/NoMuon.atlas_mm_road.nevs_1000.bkgr_1_Rnd780553.h5\n",
      "/gpfs/slac/atlas/fs1/u/rafaeltl/Muon/Apr2022/si-mu-lator/batch_slac/out_files/bkgr_1/NoMuon.atlas_mm_road.nevs_1000.bkgr_1_Rnd780499.h5\n",
      "/gpfs/slac/atlas/fs1/u/rafaeltl/Muon/Apr2022/si-mu-lator/batch_slac/out_files/bkgr_1/NoMuon.atlas_mm_road.nevs_1000.bkgr_1_Rnd780544.h5\n",
      "/gpfs/slac/atlas/fs1/u/rafaeltl/Muon/Apr2022/si-mu-lator/batch_slac/out_files/bkgr_1/NoMuon.atlas_mm_road.nevs_1000.bkgr_1_Rnd780483.h5\n",
      "/gpfs/slac/atlas/fs1/u/rafaeltl/Muon/Apr2022/si-mu-lator/batch_slac/out_files/bkgr_1/NoMuon.atlas_mm_road.nevs_1000.bkgr_1_Rnd780559.h5\n",
      "/gpfs/slac/atlas/fs1/u/rafaeltl/Muon/Apr2022/si-mu-lator/batch_slac/out_files/bkgr_1/NoMuon.atlas_mm_road.nevs_1000.bkgr_1_Rnd780476.h5\n",
      "/gpfs/slac/atlas/fs1/u/rafaeltl/Muon/Apr2022/si-mu-lator/batch_slac/out_files/bkgr_1/NoMuon.atlas_mm_road.nevs_1000.bkgr_1_Rnd780563.h5\n",
      "/gpfs/slac/atlas/fs1/u/rafaeltl/Muon/Apr2022/si-mu-lator/batch_slac/out_files/bkgr_1/NoMuon.atlas_mm_road.nevs_1000.bkgr_1_Rnd780514.h5\n",
      "/gpfs/slac/atlas/fs1/u/rafaeltl/Muon/Apr2022/si-mu-lator/batch_slac/out_files/bkgr_1/NoMuon.atlas_mm_road.nevs_1000.bkgr_1_Rnd780482.h5\n",
      "/gpfs/slac/atlas/fs1/u/rafaeltl/Muon/Apr2022/si-mu-lator/batch_slac/out_files/bkgr_1/NoMuon.atlas_mm_road.nevs_1000.bkgr_1_Rnd780528.h5\n",
      "/gpfs/slac/atlas/fs1/u/rafaeltl/Muon/Apr2022/si-mu-lator/batch_slac/out_files/bkgr_1/NoMuon.atlas_mm_road.nevs_1000.bkgr_1_Rnd780480.h5\n",
      "/gpfs/slac/atlas/fs1/u/rafaeltl/Muon/Apr2022/si-mu-lator/batch_slac/out_files/bkgr_1/NoMuon.atlas_mm_road.nevs_1000.bkgr_1_Rnd780503.h5\n",
      "/gpfs/slac/atlas/fs1/u/rafaeltl/Muon/Apr2022/si-mu-lator/batch_slac/out_files/bkgr_1/NoMuon.atlas_mm_road.nevs_1000.bkgr_1_Rnd780510.h5\n",
      "/gpfs/slac/atlas/fs1/u/rafaeltl/Muon/Apr2022/si-mu-lator/batch_slac/out_files/bkgr_1/NoMuon.atlas_mm_road.nevs_1000.bkgr_1_Rnd780513.h5\n",
      "/gpfs/slac/atlas/fs1/u/rafaeltl/Muon/Apr2022/si-mu-lator/batch_slac/out_files/bkgr_1/NoMuon.atlas_mm_road.nevs_1000.bkgr_1_Rnd780526.h5\n",
      "/gpfs/slac/atlas/fs1/u/rafaeltl/Muon/Apr2022/si-mu-lator/batch_slac/out_files/bkgr_1/NoMuon.atlas_mm_road.nevs_1000.bkgr_1_Rnd780529.h5\n",
      "/gpfs/slac/atlas/fs1/u/rafaeltl/Muon/Apr2022/si-mu-lator/batch_slac/out_files/bkgr_1/NoMuon.atlas_mm_road.nevs_1000.bkgr_1_Rnd780475.h5\n",
      "/gpfs/slac/atlas/fs1/u/rafaeltl/Muon/Apr2022/si-mu-lator/batch_slac/out_files/bkgr_1/NoMuon.atlas_mm_road.nevs_1000.bkgr_1_Rnd780568.h5\n",
      "/gpfs/slac/atlas/fs1/u/rafaeltl/Muon/Apr2022/si-mu-lator/batch_slac/out_files/bkgr_1/NoMuon.atlas_mm_road.nevs_1000.bkgr_1_Rnd780506.h5\n",
      "/gpfs/slac/atlas/fs1/u/rafaeltl/Muon/Apr2022/si-mu-lator/batch_slac/out_files/bkgr_1/NoMuon.atlas_mm_road.nevs_1000.bkgr_1_Rnd780486.h5\n",
      "/gpfs/slac/atlas/fs1/u/rafaeltl/Muon/Apr2022/si-mu-lator/batch_slac/out_files/bkgr_1/NoMuon.atlas_mm_road.nevs_1000.bkgr_1_Rnd780546.h5\n",
      "/gpfs/slac/atlas/fs1/u/rafaeltl/Muon/Apr2022/si-mu-lator/batch_slac/out_files/bkgr_1/NoMuon.atlas_mm_road.nevs_1000.bkgr_1_Rnd780509.h5\n",
      "/gpfs/slac/atlas/fs1/u/rafaeltl/Muon/Apr2022/si-mu-lator/batch_slac/out_files/bkgr_1/NoMuon.atlas_mm_road.nevs_1000.bkgr_1_Rnd780527.h5\n",
      "/gpfs/slac/atlas/fs1/u/rafaeltl/Muon/Apr2022/si-mu-lator/batch_slac/out_files/bkgr_1/NoMuon.atlas_mm_road.nevs_1000.bkgr_1_Rnd780508.h5\n",
      "/gpfs/slac/atlas/fs1/u/rafaeltl/Muon/Apr2022/si-mu-lator/batch_slac/out_files/bkgr_1/NoMuon.atlas_mm_road.nevs_1000.bkgr_1_Rnd780481.h5\n",
      "/gpfs/slac/atlas/fs1/u/rafaeltl/Muon/Apr2022/si-mu-lator/batch_slac/out_files/bkgr_1/NoMuon.atlas_mm_road.nevs_1000.bkgr_1_Rnd780474.h5\n",
      "/gpfs/slac/atlas/fs1/u/rafaeltl/Muon/Apr2022/si-mu-lator/batch_slac/out_files/bkgr_1/NoMuon.atlas_mm_road.nevs_1000.bkgr_1_Rnd780530.h5\n",
      "/gpfs/slac/atlas/fs1/u/rafaeltl/Muon/Apr2022/si-mu-lator/batch_slac/out_files/bkgr_1/NoMuon.atlas_mm_road.nevs_1000.bkgr_1_Rnd780489.h5\n",
      "/gpfs/slac/atlas/fs1/u/rafaeltl/Muon/Apr2022/si-mu-lator/batch_slac/out_files/bkgr_1/NoMuon.atlas_mm_road.nevs_1000.bkgr_1_Rnd780539.h5\n",
      "/gpfs/slac/atlas/fs1/u/rafaeltl/Muon/Apr2022/si-mu-lator/batch_slac/out_files/bkgr_1/NoMuon.atlas_mm_road.nevs_1000.bkgr_1_Rnd780565.h5\n",
      "/gpfs/slac/atlas/fs1/u/rafaeltl/Muon/Apr2022/si-mu-lator/batch_slac/out_files/bkgr_1/NoMuon.atlas_mm_road.nevs_1000.bkgr_1_Rnd780473.h5\n",
      "/gpfs/slac/atlas/fs1/u/rafaeltl/Muon/Apr2022/si-mu-lator/batch_slac/out_files/bkgr_1/NoMuon.atlas_mm_road.nevs_1000.bkgr_1_Rnd780491.h5\n",
      "/gpfs/slac/atlas/fs1/u/rafaeltl/Muon/Apr2022/si-mu-lator/batch_slac/out_files/bkgr_1/NoMuon.atlas_mm_road.nevs_1000.bkgr_1_Rnd780567.h5\n",
      "/gpfs/slac/atlas/fs1/u/rafaeltl/Muon/Apr2022/si-mu-lator/batch_slac/out_files/bkgr_1/NoMuon.atlas_mm_road.nevs_1000.bkgr_1_Rnd780484.h5\n",
      "/gpfs/slac/atlas/fs1/u/rafaeltl/Muon/Apr2022/si-mu-lator/batch_slac/out_files/bkgr_1/NoMuon.atlas_mm_road.nevs_1000.bkgr_1_Rnd780554.h5\n",
      "/gpfs/slac/atlas/fs1/u/rafaeltl/Muon/Apr2022/si-mu-lator/batch_slac/out_files/bkgr_1/NoMuon.atlas_mm_road.nevs_1000.bkgr_1_Rnd780505.h5\n",
      "/gpfs/slac/atlas/fs1/u/rafaeltl/Muon/Apr2022/si-mu-lator/batch_slac/out_files/bkgr_1/NoMuon.atlas_mm_road.nevs_1000.bkgr_1_Rnd780478.h5\n",
      "/gpfs/slac/atlas/fs1/u/rafaeltl/Muon/Apr2022/si-mu-lator/batch_slac/out_files/bkgr_1/NoMuon.atlas_mm_road.nevs_1000.bkgr_1_Rnd780487.h5\n",
      "/gpfs/slac/atlas/fs1/u/rafaeltl/Muon/Apr2022/si-mu-lator/batch_slac/out_files/bkgr_1/NoMuon.atlas_mm_road.nevs_1000.bkgr_1_Rnd780548.h5\n",
      "/gpfs/slac/atlas/fs1/u/rafaeltl/Muon/Apr2022/si-mu-lator/batch_slac/out_files/bkgr_1/NoMuon.atlas_mm_road.nevs_1000.bkgr_1_Rnd780519.h5\n",
      "/gpfs/slac/atlas/fs1/u/rafaeltl/Muon/Apr2022/si-mu-lator/batch_slac/out_files/bkgr_1/NoMuon.atlas_mm_road.nevs_1000.bkgr_1_Rnd780472.h5\n",
      "/gpfs/slac/atlas/fs1/u/rafaeltl/Muon/Apr2022/si-mu-lator/batch_slac/out_files/bkgr_1/NoMuon.atlas_mm_road.nevs_1000.bkgr_1_Rnd780490.h5\n",
      "/gpfs/slac/atlas/fs1/u/rafaeltl/Muon/Apr2022/si-mu-lator/batch_slac/out_files/bkgr_1/NoMuon.atlas_mm_road.nevs_1000.bkgr_1_Rnd780515.h5\n",
      "/gpfs/slac/atlas/fs1/u/rafaeltl/Muon/Apr2022/si-mu-lator/batch_slac/out_files/bkgr_1/NoMuon.atlas_mm_road.nevs_1000.bkgr_1_Rnd780522.h5\n",
      "/gpfs/slac/atlas/fs1/u/rafaeltl/Muon/Apr2022/si-mu-lator/batch_slac/out_files/bkgr_1/NoMuon.atlas_mm_road.nevs_1000.bkgr_1_Rnd780469.h5\n",
      "/gpfs/slac/atlas/fs1/u/rafaeltl/Muon/Apr2022/si-mu-lator/batch_slac/out_files/bkgr_1/NoMuon.atlas_mm_road.nevs_1000.bkgr_1_Rnd780477.h5\n",
      "/gpfs/slac/atlas/fs1/u/rafaeltl/Muon/Apr2022/si-mu-lator/batch_slac/out_files/bkgr_1/NoMuon.atlas_mm_road.nevs_1000.bkgr_1_Rnd780538.h5\n",
      "/gpfs/slac/atlas/fs1/u/rafaeltl/Muon/Apr2022/si-mu-lator/batch_slac/out_files/bkgr_1/NoMuon.atlas_mm_road.nevs_1000.bkgr_1_Rnd780531.h5\n",
      "/gpfs/slac/atlas/fs1/u/rafaeltl/Muon/Apr2022/si-mu-lator/batch_slac/out_files/bkgr_1/NoMuon.atlas_mm_road.nevs_1000.bkgr_1_Rnd780557.h5\n",
      "/gpfs/slac/atlas/fs1/u/rafaeltl/Muon/Apr2022/si-mu-lator/batch_slac/out_files/bkgr_1/NoMuon.atlas_mm_road.nevs_1000.bkgr_1_Rnd780516.h5\n",
      "/gpfs/slac/atlas/fs1/u/rafaeltl/Muon/Apr2022/si-mu-lator/batch_slac/out_files/bkgr_1/NoMuon.atlas_mm_road.nevs_1000.bkgr_1_Rnd780532.h5\n",
      "/gpfs/slac/atlas/fs1/u/rafaeltl/Muon/Apr2022/si-mu-lator/batch_slac/out_files/bkgr_1/NoMuon.atlas_mm_road.nevs_1000.bkgr_1_Rnd780560.h5\n",
      "/gpfs/slac/atlas/fs1/u/rafaeltl/Muon/Apr2022/si-mu-lator/batch_slac/out_files/bkgr_1/NoMuon.atlas_mm_road.nevs_1000.bkgr_1_Rnd780488.h5\n",
      "/gpfs/slac/atlas/fs1/u/rafaeltl/Muon/Apr2022/si-mu-lator/batch_slac/out_files/bkgr_1/NoMuon.atlas_mm_road.nevs_1000.bkgr_1_Rnd780537.h5\n",
      "/gpfs/slac/atlas/fs1/u/rafaeltl/Muon/Apr2022/si-mu-lator/batch_slac/out_files/bkgr_1/NoMuon.atlas_mm_road.nevs_1000.bkgr_1_Rnd780533.h5\n",
      "/gpfs/slac/atlas/fs1/u/rafaeltl/Muon/Apr2022/si-mu-lator/batch_slac/out_files/bkgr_1/NoMuon.atlas_mm_road.nevs_1000.bkgr_1_Rnd780507.h5\n",
      "/gpfs/slac/atlas/fs1/u/rafaeltl/Muon/Apr2022/si-mu-lator/batch_slac/out_files/bkgr_1/NoMuon.atlas_mm_road.nevs_1000.bkgr_1_Rnd780524.h5\n",
      "/gpfs/slac/atlas/fs1/u/rafaeltl/Muon/Apr2022/si-mu-lator/batch_slac/out_files/bkgr_1/NoMuon.atlas_mm_road.nevs_1000.bkgr_1_Rnd780549.h5\n",
      "/gpfs/slac/atlas/fs1/u/rafaeltl/Muon/Apr2022/si-mu-lator/batch_slac/out_files/bkgr_1/NoMuon.atlas_mm_road.nevs_1000.bkgr_1_Rnd780542.h5\n",
      "/gpfs/slac/atlas/fs1/u/rafaeltl/Muon/Apr2022/si-mu-lator/batch_slac/out_files/bkgr_1/NoMuon.atlas_mm_road.nevs_1000.bkgr_1_Rnd780485.h5\n",
      "/gpfs/slac/atlas/fs1/u/rafaeltl/Muon/Apr2022/si-mu-lator/batch_slac/out_files/bkgr_1/NoMuon.atlas_mm_road.nevs_1000.bkgr_1_Rnd780504.h5\n",
      "/gpfs/slac/atlas/fs1/u/rafaeltl/Muon/Apr2022/si-mu-lator/batch_slac/out_files/bkgr_1/NoMuon.atlas_mm_road.nevs_1000.bkgr_1_Rnd780518.h5\n",
      "/gpfs/slac/atlas/fs1/u/rafaeltl/Muon/Apr2022/si-mu-lator/batch_slac/out_files/bkgr_1/NoMuon.atlas_mm_road.nevs_1000.bkgr_1_Rnd780523.h5\n",
      "/gpfs/slac/atlas/fs1/u/rafaeltl/Muon/Apr2022/si-mu-lator/batch_slac/out_files/bkgr_1/NoMuon.atlas_mm_road.nevs_1000.bkgr_1_Rnd780494.h5\n",
      "/gpfs/slac/atlas/fs1/u/rafaeltl/Muon/Apr2022/si-mu-lator/batch_slac/out_files/bkgr_1/NoMuon.atlas_mm_road.nevs_1000.bkgr_1_Rnd780495.h5\n",
      "/gpfs/slac/atlas/fs1/u/rafaeltl/Muon/Apr2022/si-mu-lator/batch_slac/out_files/bkgr_1/NoMuon.atlas_mm_road.nevs_1000.bkgr_1_Rnd780501.h5\n",
      "/gpfs/slac/atlas/fs1/u/rafaeltl/Muon/Apr2022/si-mu-lator/batch_slac/out_files/bkgr_1/NoMuon.atlas_mm_road.nevs_1000.bkgr_1_Rnd780496.h5\n",
      "/gpfs/slac/atlas/fs1/u/rafaeltl/Muon/Apr2022/si-mu-lator/batch_slac/out_files/bkgr_1/NoMuon.atlas_mm_road.nevs_1000.bkgr_1_Rnd780558.h5\n",
      "/gpfs/slac/atlas/fs1/u/rafaeltl/Muon/Apr2022/si-mu-lator/batch_slac/out_files/bkgr_1/NoMuon.atlas_mm_road.nevs_1000.bkgr_1_Rnd780561.h5\n",
      "/gpfs/slac/atlas/fs1/u/rafaeltl/Muon/Apr2022/si-mu-lator/batch_slac/out_files/bkgr_1/NoMuon.atlas_mm_road.nevs_1000.bkgr_1_Rnd780502.h5\n",
      "/gpfs/slac/atlas/fs1/u/rafaeltl/Muon/Apr2022/si-mu-lator/batch_slac/out_files/bkgr_1/NoMuon.atlas_mm_road.nevs_1000.bkgr_1_Rnd780562.h5\n",
      "/gpfs/slac/atlas/fs1/u/rafaeltl/Muon/Apr2022/si-mu-lator/batch_slac/out_files/bkgr_1/NoMuon.atlas_mm_road.nevs_1000.bkgr_1_Rnd780521.h5\n",
      "/gpfs/slac/atlas/fs1/u/rafaeltl/Muon/Apr2022/si-mu-lator/batch_slac/out_files/bkgr_1/NoMuon.atlas_mm_road.nevs_1000.bkgr_1_Rnd780540.h5\n",
      "/gpfs/slac/atlas/fs1/u/rafaeltl/Muon/Apr2022/si-mu-lator/batch_slac/out_files/bkgr_1/WithMuon.atlas_mm_road.nevs_1000.bkgr_1.mux.-2.0.2.0_Rnd535837.h5\n",
      "/gpfs/slac/atlas/fs1/u/rafaeltl/Muon/Apr2022/si-mu-lator/batch_slac/out_files/bkgr_1/WithMuon.atlas_mm_road.nevs_1000.bkgr_1.mux.-2.0.2.0_Rnd535845.h5\n",
      "/gpfs/slac/atlas/fs1/u/rafaeltl/Muon/Apr2022/si-mu-lator/batch_slac/out_files/bkgr_1/WithMuon.atlas_mm_road.nevs_1000.bkgr_1.mux.-2.0.2.0_Rnd535870.h5\n",
      "/gpfs/slac/atlas/fs1/u/rafaeltl/Muon/Apr2022/si-mu-lator/batch_slac/out_files/bkgr_1/WithMuon.atlas_mm_road.nevs_1000.bkgr_1.mux.-2.0.2.0_Rnd535813.h5\n",
      "/gpfs/slac/atlas/fs1/u/rafaeltl/Muon/Apr2022/si-mu-lator/batch_slac/out_files/bkgr_1/WithMuon.atlas_mm_road.nevs_1000.bkgr_1.mux.-2.0.2.0_Rnd535907.h5\n",
      "/gpfs/slac/atlas/fs1/u/rafaeltl/Muon/Apr2022/si-mu-lator/batch_slac/out_files/bkgr_1/WithMuon.atlas_mm_road.nevs_1000.bkgr_1.mux.-2.0.2.0_Rnd535856.h5\n",
      "/gpfs/slac/atlas/fs1/u/rafaeltl/Muon/Apr2022/si-mu-lator/batch_slac/out_files/bkgr_1/WithMuon.atlas_mm_road.nevs_1000.bkgr_1.mux.-2.0.2.0_Rnd535879.h5\n",
      "/gpfs/slac/atlas/fs1/u/rafaeltl/Muon/Apr2022/si-mu-lator/batch_slac/out_files/bkgr_1/WithMuon.atlas_mm_road.nevs_1000.bkgr_1.mux.-2.0.2.0_Rnd535896.h5\n",
      "/gpfs/slac/atlas/fs1/u/rafaeltl/Muon/Apr2022/si-mu-lator/batch_slac/out_files/bkgr_1/WithMuon.atlas_mm_road.nevs_1000.bkgr_1.mux.-2.0.2.0_Rnd535848.h5\n",
      "/gpfs/slac/atlas/fs1/u/rafaeltl/Muon/Apr2022/si-mu-lator/batch_slac/out_files/bkgr_1/WithMuon.atlas_mm_road.nevs_1000.bkgr_1.mux.-2.0.2.0_Rnd535873.h5\n",
      "/gpfs/slac/atlas/fs1/u/rafaeltl/Muon/Apr2022/si-mu-lator/batch_slac/out_files/bkgr_1/WithMuon.atlas_mm_road.nevs_1000.bkgr_1.mux.-2.0.2.0_Rnd535822.h5\n",
      "/gpfs/slac/atlas/fs1/u/rafaeltl/Muon/Apr2022/si-mu-lator/batch_slac/out_files/bkgr_1/WithMuon.atlas_mm_road.nevs_1000.bkgr_1.mux.-2.0.2.0_Rnd535891.h5\n",
      "/gpfs/slac/atlas/fs1/u/rafaeltl/Muon/Apr2022/si-mu-lator/batch_slac/out_files/bkgr_1/WithMuon.atlas_mm_road.nevs_1000.bkgr_1.mux.-2.0.2.0_Rnd535881.h5\n",
      "/gpfs/slac/atlas/fs1/u/rafaeltl/Muon/Apr2022/si-mu-lator/batch_slac/out_files/bkgr_1/WithMuon.atlas_mm_road.nevs_1000.bkgr_1.mux.-2.0.2.0_Rnd535833.h5\n",
      "/gpfs/slac/atlas/fs1/u/rafaeltl/Muon/Apr2022/si-mu-lator/batch_slac/out_files/bkgr_1/WithMuon.atlas_mm_road.nevs_1000.bkgr_1.mux.-2.0.2.0_Rnd535867.h5\n",
      "/gpfs/slac/atlas/fs1/u/rafaeltl/Muon/Apr2022/si-mu-lator/batch_slac/out_files/bkgr_1/WithMuon.atlas_mm_road.nevs_1000.bkgr_1.mux.-2.0.2.0_Rnd535843.h5\n",
      "/gpfs/slac/atlas/fs1/u/rafaeltl/Muon/Apr2022/si-mu-lator/batch_slac/out_files/bkgr_1/WithMuon.atlas_mm_road.nevs_1000.bkgr_1.mux.-2.0.2.0_Rnd535865.h5\n",
      "/gpfs/slac/atlas/fs1/u/rafaeltl/Muon/Apr2022/si-mu-lator/batch_slac/out_files/bkgr_1/WithMuon.atlas_mm_road.nevs_1000.bkgr_1.mux.-2.0.2.0_Rnd535911.h5\n",
      "/gpfs/slac/atlas/fs1/u/rafaeltl/Muon/Apr2022/si-mu-lator/batch_slac/out_files/bkgr_1/WithMuon.atlas_mm_road.nevs_1000.bkgr_1.mux.-2.0.2.0_Rnd535819.h5\n",
      "/gpfs/slac/atlas/fs1/u/rafaeltl/Muon/Apr2022/si-mu-lator/batch_slac/out_files/bkgr_1/WithMuon.atlas_mm_road.nevs_1000.bkgr_1.mux.-2.0.2.0_Rnd535901.h5\n",
      "/gpfs/slac/atlas/fs1/u/rafaeltl/Muon/Apr2022/si-mu-lator/batch_slac/out_files/bkgr_1/WithMuon.atlas_mm_road.nevs_1000.bkgr_1.mux.-2.0.2.0_Rnd535831.h5\n",
      "/gpfs/slac/atlas/fs1/u/rafaeltl/Muon/Apr2022/si-mu-lator/batch_slac/out_files/bkgr_1/WithMuon.atlas_mm_road.nevs_1000.bkgr_1.mux.-2.0.2.0_Rnd535860.h5\n",
      "/gpfs/slac/atlas/fs1/u/rafaeltl/Muon/Apr2022/si-mu-lator/batch_slac/out_files/bkgr_1/WithMuon.atlas_mm_road.nevs_1000.bkgr_1.mux.-2.0.2.0_Rnd535849.h5\n",
      "/gpfs/slac/atlas/fs1/u/rafaeltl/Muon/Apr2022/si-mu-lator/batch_slac/out_files/bkgr_1/WithMuon.atlas_mm_road.nevs_1000.bkgr_1.mux.-2.0.2.0_Rnd535900.h5\n",
      "/gpfs/slac/atlas/fs1/u/rafaeltl/Muon/Apr2022/si-mu-lator/batch_slac/out_files/bkgr_1/WithMuon.atlas_mm_road.nevs_1000.bkgr_1.mux.-2.0.2.0_Rnd535877.h5\n",
      "/gpfs/slac/atlas/fs1/u/rafaeltl/Muon/Apr2022/si-mu-lator/batch_slac/out_files/bkgr_1/WithMuon.atlas_mm_road.nevs_1000.bkgr_1.mux.-2.0.2.0_Rnd535903.h5\n",
      "/gpfs/slac/atlas/fs1/u/rafaeltl/Muon/Apr2022/si-mu-lator/batch_slac/out_files/bkgr_1/WithMuon.atlas_mm_road.nevs_1000.bkgr_1.mux.-2.0.2.0_Rnd535850.h5\n",
      "/gpfs/slac/atlas/fs1/u/rafaeltl/Muon/Apr2022/si-mu-lator/batch_slac/out_files/bkgr_1/WithMuon.atlas_mm_road.nevs_1000.bkgr_1.mux.-2.0.2.0_Rnd535844.h5\n",
      "/gpfs/slac/atlas/fs1/u/rafaeltl/Muon/Apr2022/si-mu-lator/batch_slac/out_files/bkgr_1/WithMuon.atlas_mm_road.nevs_1000.bkgr_1.mux.-2.0.2.0_Rnd535861.h5\n",
      "/gpfs/slac/atlas/fs1/u/rafaeltl/Muon/Apr2022/si-mu-lator/batch_slac/out_files/bkgr_1/WithMuon.atlas_mm_road.nevs_1000.bkgr_1.mux.-2.0.2.0_Rnd535864.h5\n",
      "/gpfs/slac/atlas/fs1/u/rafaeltl/Muon/Apr2022/si-mu-lator/batch_slac/out_files/bkgr_1/WithMuon.atlas_mm_road.nevs_1000.bkgr_1.mux.-2.0.2.0_Rnd535904.h5\n",
      "/gpfs/slac/atlas/fs1/u/rafaeltl/Muon/Apr2022/si-mu-lator/batch_slac/out_files/bkgr_1/WithMuon.atlas_mm_road.nevs_1000.bkgr_1.mux.-2.0.2.0_Rnd535893.h5\n",
      "/gpfs/slac/atlas/fs1/u/rafaeltl/Muon/Apr2022/si-mu-lator/batch_slac/out_files/bkgr_1/WithMuon.atlas_mm_road.nevs_1000.bkgr_1.mux.-2.0.2.0_Rnd535887.h5\n",
      "/gpfs/slac/atlas/fs1/u/rafaeltl/Muon/Apr2022/si-mu-lator/batch_slac/out_files/bkgr_1/WithMuon.atlas_mm_road.nevs_1000.bkgr_1.mux.-2.0.2.0_Rnd535855.h5\n",
      "/gpfs/slac/atlas/fs1/u/rafaeltl/Muon/Apr2022/si-mu-lator/batch_slac/out_files/bkgr_1/WithMuon.atlas_mm_road.nevs_1000.bkgr_1.mux.-2.0.2.0_Rnd535840.h5\n",
      "/gpfs/slac/atlas/fs1/u/rafaeltl/Muon/Apr2022/si-mu-lator/batch_slac/out_files/bkgr_1/WithMuon.atlas_mm_road.nevs_1000.bkgr_1.mux.-2.0.2.0_Rnd535815.h5\n",
      "/gpfs/slac/atlas/fs1/u/rafaeltl/Muon/Apr2022/si-mu-lator/batch_slac/out_files/bkgr_1/WithMuon.atlas_mm_road.nevs_1000.bkgr_1.mux.-2.0.2.0_Rnd535902.h5\n",
      "/gpfs/slac/atlas/fs1/u/rafaeltl/Muon/Apr2022/si-mu-lator/batch_slac/out_files/bkgr_1/WithMuon.atlas_mm_road.nevs_1000.bkgr_1.mux.-2.0.2.0_Rnd535836.h5\n",
      "/gpfs/slac/atlas/fs1/u/rafaeltl/Muon/Apr2022/si-mu-lator/batch_slac/out_files/bkgr_1/WithMuon.atlas_mm_road.nevs_1000.bkgr_1.mux.-2.0.2.0_Rnd535824.h5\n",
      "/gpfs/slac/atlas/fs1/u/rafaeltl/Muon/Apr2022/si-mu-lator/batch_slac/out_files/bkgr_1/WithMuon.atlas_mm_road.nevs_1000.bkgr_1.mux.-2.0.2.0_Rnd535839.h5\n",
      "/gpfs/slac/atlas/fs1/u/rafaeltl/Muon/Apr2022/si-mu-lator/batch_slac/out_files/bkgr_1/WithMuon.atlas_mm_road.nevs_1000.bkgr_1.mux.-2.0.2.0_Rnd535910.h5\n",
      "/gpfs/slac/atlas/fs1/u/rafaeltl/Muon/Apr2022/si-mu-lator/batch_slac/out_files/bkgr_1/WithMuon.atlas_mm_road.nevs_1000.bkgr_1.mux.-2.0.2.0_Rnd535828.h5\n",
      "/gpfs/slac/atlas/fs1/u/rafaeltl/Muon/Apr2022/si-mu-lator/batch_slac/out_files/bkgr_1/WithMuon.atlas_mm_road.nevs_1000.bkgr_1.mux.-2.0.2.0_Rnd535830.h5\n",
      "/gpfs/slac/atlas/fs1/u/rafaeltl/Muon/Apr2022/si-mu-lator/batch_slac/out_files/bkgr_1/WithMuon.atlas_mm_road.nevs_1000.bkgr_1.mux.-2.0.2.0_Rnd535853.h5\n",
      "/gpfs/slac/atlas/fs1/u/rafaeltl/Muon/Apr2022/si-mu-lator/batch_slac/out_files/bkgr_1/WithMuon.atlas_mm_road.nevs_1000.bkgr_1.mux.-2.0.2.0_Rnd535898.h5\n",
      "/gpfs/slac/atlas/fs1/u/rafaeltl/Muon/Apr2022/si-mu-lator/batch_slac/out_files/bkgr_1/WithMuon.atlas_mm_road.nevs_1000.bkgr_1.mux.-2.0.2.0_Rnd535821.h5\n",
      "/gpfs/slac/atlas/fs1/u/rafaeltl/Muon/Apr2022/si-mu-lator/batch_slac/out_files/bkgr_1/WithMuon.atlas_mm_road.nevs_1000.bkgr_1.mux.-2.0.2.0_Rnd535875.h5\n",
      "/gpfs/slac/atlas/fs1/u/rafaeltl/Muon/Apr2022/si-mu-lator/batch_slac/out_files/bkgr_1/WithMuon.atlas_mm_road.nevs_1000.bkgr_1.mux.-2.0.2.0_Rnd535883.h5\n",
      "/gpfs/slac/atlas/fs1/u/rafaeltl/Muon/Apr2022/si-mu-lator/batch_slac/out_files/bkgr_1/WithMuon.atlas_mm_road.nevs_1000.bkgr_1.mux.-2.0.2.0_Rnd535858.h5\n",
      "/gpfs/slac/atlas/fs1/u/rafaeltl/Muon/Apr2022/si-mu-lator/batch_slac/out_files/bkgr_1/WithMuon.atlas_mm_road.nevs_1000.bkgr_1.mux.-2.0.2.0_Rnd535847.h5\n",
      "/gpfs/slac/atlas/fs1/u/rafaeltl/Muon/Apr2022/si-mu-lator/batch_slac/out_files/bkgr_1/WithMuon.atlas_mm_road.nevs_1000.bkgr_1.mux.-2.0.2.0_Rnd535871.h5\n",
      "/gpfs/slac/atlas/fs1/u/rafaeltl/Muon/Apr2022/si-mu-lator/batch_slac/out_files/bkgr_1/WithMuon.atlas_mm_road.nevs_1000.bkgr_1.mux.-2.0.2.0_Rnd535825.h5\n",
      "/gpfs/slac/atlas/fs1/u/rafaeltl/Muon/Apr2022/si-mu-lator/batch_slac/out_files/bkgr_1/WithMuon.atlas_mm_road.nevs_1000.bkgr_1.mux.-2.0.2.0_Rnd535846.h5\n",
      "/gpfs/slac/atlas/fs1/u/rafaeltl/Muon/Apr2022/si-mu-lator/batch_slac/out_files/bkgr_1/WithMuon.atlas_mm_road.nevs_1000.bkgr_1.mux.-2.0.2.0_Rnd535912.h5\n",
      "/gpfs/slac/atlas/fs1/u/rafaeltl/Muon/Apr2022/si-mu-lator/batch_slac/out_files/bkgr_1/WithMuon.atlas_mm_road.nevs_1000.bkgr_1.mux.-2.0.2.0_Rnd535894.h5\n",
      "/gpfs/slac/atlas/fs1/u/rafaeltl/Muon/Apr2022/si-mu-lator/batch_slac/out_files/bkgr_1/WithMuon.atlas_mm_road.nevs_1000.bkgr_1.mux.-2.0.2.0_Rnd535905.h5\n",
      "/gpfs/slac/atlas/fs1/u/rafaeltl/Muon/Apr2022/si-mu-lator/batch_slac/out_files/bkgr_1/WithMuon.atlas_mm_road.nevs_1000.bkgr_1.mux.-2.0.2.0_Rnd535876.h5\n",
      "/gpfs/slac/atlas/fs1/u/rafaeltl/Muon/Apr2022/si-mu-lator/batch_slac/out_files/bkgr_1/WithMuon.atlas_mm_road.nevs_1000.bkgr_1.mux.-2.0.2.0_Rnd535868.h5\n",
      "/gpfs/slac/atlas/fs1/u/rafaeltl/Muon/Apr2022/si-mu-lator/batch_slac/out_files/bkgr_1/WithMuon.atlas_mm_road.nevs_1000.bkgr_1.mux.-2.0.2.0_Rnd535852.h5\n",
      "/gpfs/slac/atlas/fs1/u/rafaeltl/Muon/Apr2022/si-mu-lator/batch_slac/out_files/bkgr_1/WithMuon.atlas_mm_road.nevs_1000.bkgr_1.mux.-2.0.2.0_Rnd535827.h5\n",
      "/gpfs/slac/atlas/fs1/u/rafaeltl/Muon/Apr2022/si-mu-lator/batch_slac/out_files/bkgr_1/WithMuon.atlas_mm_road.nevs_1000.bkgr_1.mux.-2.0.2.0_Rnd535895.h5\n",
      "/gpfs/slac/atlas/fs1/u/rafaeltl/Muon/Apr2022/si-mu-lator/batch_slac/out_files/bkgr_1/WithMuon.atlas_mm_road.nevs_1000.bkgr_1.mux.-2.0.2.0_Rnd535866.h5\n",
      "/gpfs/slac/atlas/fs1/u/rafaeltl/Muon/Apr2022/si-mu-lator/batch_slac/out_files/bkgr_1/WithMuon.atlas_mm_road.nevs_1000.bkgr_1.mux.-2.0.2.0_Rnd535818.h5\n",
      "/gpfs/slac/atlas/fs1/u/rafaeltl/Muon/Apr2022/si-mu-lator/batch_slac/out_files/bkgr_1/WithMuon.atlas_mm_road.nevs_1000.bkgr_1.mux.-2.0.2.0_Rnd535851.h5\n",
      "/gpfs/slac/atlas/fs1/u/rafaeltl/Muon/Apr2022/si-mu-lator/batch_slac/out_files/bkgr_1/WithMuon.atlas_mm_road.nevs_1000.bkgr_1.mux.-2.0.2.0_Rnd535859.h5\n",
      "/gpfs/slac/atlas/fs1/u/rafaeltl/Muon/Apr2022/si-mu-lator/batch_slac/out_files/bkgr_1/WithMuon.atlas_mm_road.nevs_1000.bkgr_1.mux.-2.0.2.0_Rnd535888.h5\n",
      "/gpfs/slac/atlas/fs1/u/rafaeltl/Muon/Apr2022/si-mu-lator/batch_slac/out_files/bkgr_1/WithMuon.atlas_mm_road.nevs_1000.bkgr_1.mux.-2.0.2.0_Rnd535869.h5\n",
      "/gpfs/slac/atlas/fs1/u/rafaeltl/Muon/Apr2022/si-mu-lator/batch_slac/out_files/bkgr_1/WithMuon.atlas_mm_road.nevs_1000.bkgr_1.mux.-2.0.2.0_Rnd535892.h5\n",
      "/gpfs/slac/atlas/fs1/u/rafaeltl/Muon/Apr2022/si-mu-lator/batch_slac/out_files/bkgr_1/WithMuon.atlas_mm_road.nevs_1000.bkgr_1.mux.-2.0.2.0_Rnd535835.h5\n",
      "/gpfs/slac/atlas/fs1/u/rafaeltl/Muon/Apr2022/si-mu-lator/batch_slac/out_files/bkgr_1/WithMuon.atlas_mm_road.nevs_1000.bkgr_1.mux.-2.0.2.0_Rnd535817.h5\n",
      "/gpfs/slac/atlas/fs1/u/rafaeltl/Muon/Apr2022/si-mu-lator/batch_slac/out_files/bkgr_1/WithMuon.atlas_mm_road.nevs_1000.bkgr_1.mux.-2.0.2.0_Rnd535832.h5\n",
      "/gpfs/slac/atlas/fs1/u/rafaeltl/Muon/Apr2022/si-mu-lator/batch_slac/out_files/bkgr_1/WithMuon.atlas_mm_road.nevs_1000.bkgr_1.mux.-2.0.2.0_Rnd535842.h5\n",
      "/gpfs/slac/atlas/fs1/u/rafaeltl/Muon/Apr2022/si-mu-lator/batch_slac/out_files/bkgr_1/WithMuon.atlas_mm_road.nevs_1000.bkgr_1.mux.-2.0.2.0_Rnd535890.h5\n",
      "/gpfs/slac/atlas/fs1/u/rafaeltl/Muon/Apr2022/si-mu-lator/batch_slac/out_files/bkgr_1/WithMuon.atlas_mm_road.nevs_1000.bkgr_1.mux.-2.0.2.0_Rnd535820.h5\n",
      "/gpfs/slac/atlas/fs1/u/rafaeltl/Muon/Apr2022/si-mu-lator/batch_slac/out_files/bkgr_1/WithMuon.atlas_mm_road.nevs_1000.bkgr_1.mux.-2.0.2.0_Rnd535838.h5\n",
      "/gpfs/slac/atlas/fs1/u/rafaeltl/Muon/Apr2022/si-mu-lator/batch_slac/out_files/bkgr_1/WithMuon.atlas_mm_road.nevs_1000.bkgr_1.mux.-2.0.2.0_Rnd535885.h5\n",
      "/gpfs/slac/atlas/fs1/u/rafaeltl/Muon/Apr2022/si-mu-lator/batch_slac/out_files/bkgr_1/WithMuon.atlas_mm_road.nevs_1000.bkgr_1.mux.-2.0.2.0_Rnd535884.h5\n",
      "/gpfs/slac/atlas/fs1/u/rafaeltl/Muon/Apr2022/si-mu-lator/batch_slac/out_files/bkgr_1/WithMuon.atlas_mm_road.nevs_1000.bkgr_1.mux.-2.0.2.0_Rnd535878.h5\n",
      "/gpfs/slac/atlas/fs1/u/rafaeltl/Muon/Apr2022/si-mu-lator/batch_slac/out_files/bkgr_1/WithMuon.atlas_mm_road.nevs_1000.bkgr_1.mux.-2.0.2.0_Rnd535889.h5\n",
      "/gpfs/slac/atlas/fs1/u/rafaeltl/Muon/Apr2022/si-mu-lator/batch_slac/out_files/bkgr_1/WithMuon.atlas_mm_road.nevs_1000.bkgr_1.mux.-2.0.2.0_Rnd535816.h5\n",
      "/gpfs/slac/atlas/fs1/u/rafaeltl/Muon/Apr2022/si-mu-lator/batch_slac/out_files/bkgr_1/WithMuon.atlas_mm_road.nevs_1000.bkgr_1.mux.-2.0.2.0_Rnd535880.h5\n",
      "/gpfs/slac/atlas/fs1/u/rafaeltl/Muon/Apr2022/si-mu-lator/batch_slac/out_files/bkgr_1/WithMuon.atlas_mm_road.nevs_1000.bkgr_1.mux.-2.0.2.0_Rnd535841.h5\n",
      "/gpfs/slac/atlas/fs1/u/rafaeltl/Muon/Apr2022/si-mu-lator/batch_slac/out_files/bkgr_1/WithMuon.atlas_mm_road.nevs_1000.bkgr_1.mux.-2.0.2.0_Rnd535857.h5\n",
      "/gpfs/slac/atlas/fs1/u/rafaeltl/Muon/Apr2022/si-mu-lator/batch_slac/out_files/bkgr_1/WithMuon.atlas_mm_road.nevs_1000.bkgr_1.mux.-2.0.2.0_Rnd535863.h5\n",
      "/gpfs/slac/atlas/fs1/u/rafaeltl/Muon/Apr2022/si-mu-lator/batch_slac/out_files/bkgr_1/WithMuon.atlas_mm_road.nevs_1000.bkgr_1.mux.-2.0.2.0_Rnd535826.h5\n",
      "/gpfs/slac/atlas/fs1/u/rafaeltl/Muon/Apr2022/si-mu-lator/batch_slac/out_files/bkgr_1/WithMuon.atlas_mm_road.nevs_1000.bkgr_1.mux.-2.0.2.0_Rnd535882.h5\n",
      "/gpfs/slac/atlas/fs1/u/rafaeltl/Muon/Apr2022/si-mu-lator/batch_slac/out_files/bkgr_1/WithMuon.atlas_mm_road.nevs_1000.bkgr_1.mux.-2.0.2.0_Rnd535906.h5\n",
      "/gpfs/slac/atlas/fs1/u/rafaeltl/Muon/Apr2022/si-mu-lator/batch_slac/out_files/bkgr_1/WithMuon.atlas_mm_road.nevs_1000.bkgr_1.mux.-2.0.2.0_Rnd535854.h5\n",
      "/gpfs/slac/atlas/fs1/u/rafaeltl/Muon/Apr2022/si-mu-lator/batch_slac/out_files/bkgr_1/WithMuon.atlas_mm_road.nevs_1000.bkgr_1.mux.-2.0.2.0_Rnd535814.h5\n",
      "/gpfs/slac/atlas/fs1/u/rafaeltl/Muon/Apr2022/si-mu-lator/batch_slac/out_files/bkgr_1/WithMuon.atlas_mm_road.nevs_1000.bkgr_1.mux.-2.0.2.0_Rnd535823.h5\n",
      "/gpfs/slac/atlas/fs1/u/rafaeltl/Muon/Apr2022/si-mu-lator/batch_slac/out_files/bkgr_1/WithMuon.atlas_mm_road.nevs_1000.bkgr_1.mux.-2.0.2.0_Rnd535909.h5\n",
      "/gpfs/slac/atlas/fs1/u/rafaeltl/Muon/Apr2022/si-mu-lator/batch_slac/out_files/bkgr_1/WithMuon.atlas_mm_road.nevs_1000.bkgr_1.mux.-2.0.2.0_Rnd535899.h5\n",
      "/gpfs/slac/atlas/fs1/u/rafaeltl/Muon/Apr2022/si-mu-lator/batch_slac/out_files/bkgr_1/WithMuon.atlas_mm_road.nevs_1000.bkgr_1.mux.-2.0.2.0_Rnd535829.h5\n",
      "/gpfs/slac/atlas/fs1/u/rafaeltl/Muon/Apr2022/si-mu-lator/batch_slac/out_files/bkgr_1/WithMuon.atlas_mm_road.nevs_1000.bkgr_1.mux.-2.0.2.0_Rnd535834.h5\n",
      "/gpfs/slac/atlas/fs1/u/rafaeltl/Muon/Apr2022/si-mu-lator/batch_slac/out_files/bkgr_1/WithMuon.atlas_mm_road.nevs_1000.bkgr_1.mux.-2.0.2.0_Rnd535886.h5\n",
      "/gpfs/slac/atlas/fs1/u/rafaeltl/Muon/Apr2022/si-mu-lator/batch_slac/out_files/bkgr_1/WithMuon.atlas_mm_road.nevs_1000.bkgr_1.mux.-2.0.2.0_Rnd535872.h5\n",
      "/gpfs/slac/atlas/fs1/u/rafaeltl/Muon/Apr2022/si-mu-lator/batch_slac/out_files/bkgr_1/WithMuon.atlas_mm_road.nevs_1000.bkgr_1.mux.-2.0.2.0_Rnd535897.h5\n",
      "/gpfs/slac/atlas/fs1/u/rafaeltl/Muon/Apr2022/si-mu-lator/batch_slac/out_files/bkgr_1/WithMuon.atlas_mm_road.nevs_1000.bkgr_1.mux.-2.0.2.0_Rnd535908.h5\n",
      "/gpfs/slac/atlas/fs1/u/rafaeltl/Muon/Apr2022/si-mu-lator/batch_slac/out_files/bkgr_1/WithMuon.atlas_mm_road.nevs_1000.bkgr_1.mux.-2.0.2.0_Rnd535874.h5\n",
      "/gpfs/slac/atlas/fs1/u/rafaeltl/Muon/Apr2022/si-mu-lator/batch_slac/out_files/bkgr_1/WithMuon.atlas_mm_road.nevs_1000.bkgr_1.mux.-2.0.2.0_Rnd535862.h5\n"
     ]
    }
   ],
   "source": [
    "data, dmat, Y, Y_mu, Y_hit, sig_keys = dataprep.make_data_matrix(all_files, max_files=500, sort_by='z')"
   ]
  },
  {
   "cell_type": "code",
   "execution_count": 15,
   "metadata": {},
   "outputs": [
    {
     "data": {
      "text/plain": [
       "(161770,)"
      ]
     },
     "execution_count": 15,
     "metadata": {},
     "output_type": "execute_result"
    }
   ],
   "source": [
    "Y_mu.shape"
   ]
  },
  {
   "cell_type": "code",
   "execution_count": 16,
   "metadata": {},
   "outputs": [
    {
     "data": {
      "text/plain": [
       "['is_muon',\n",
       " 'x',\n",
       " 'y',\n",
       " 'z',\n",
       " 'ptype',\n",
       " 'ptilt',\n",
       " 'poffset',\n",
       " 'time',\n",
       " 'projX_at_rightend_x',\n",
       " 'projX_at_rightend_y',\n",
       " 'projX_at_middle_x',\n",
       " 'projX_at_middle_y',\n",
       " 'projY_at_topend_x',\n",
       " 'projY_at_topend_y',\n",
       " 'projY_at_middle_x',\n",
       " 'projY_at_middle_y',\n",
       " 'seg_ix',\n",
       " 'rdrift']"
      ]
     },
     "execution_count": 16,
     "metadata": {},
     "output_type": "execute_result"
    }
   ],
   "source": [
    "sig_keys"
   ]
  },
  {
   "cell_type": "code",
   "execution_count": 17,
   "metadata": {},
   "outputs": [],
   "source": [
    "dmat[:,:,sig_keys.index('time')] = dmat[:,:,sig_keys.index('time')].astype(int)\n",
    "dmat[:,:,sig_keys.index('time')] = dmat[:,:,sig_keys.index('time')].astype(float)"
   ]
  },
  {
   "cell_type": "code",
   "execution_count": 18,
   "metadata": {},
   "outputs": [
    {
     "data": {
      "text/plain": [
       "array([[7728.1,  -99. ,  -99. , ...,  -99. ,  -99. ,  -99. ],\n",
       "       [7695. , 7728.1,  -99. , ...,  -99. ,  -99. ,  -99. ],\n",
       "       [7683.5,  -99. ,  -99. , ...,  -99. ,  -99. ,  -99. ],\n",
       "       ...,\n",
       "       [7552.5, 7564. , 7585.7, ..., 7695. , 7716.7, 7728.1],\n",
       "       [7552.5, 7564. , 7585.7, ..., 7695. , 7716.7, 7728.1],\n",
       "       [7552.5, 7564. , 7585.7, ..., 7695. , 7716.7, 7728.1]])"
      ]
     },
     "execution_count": 18,
     "metadata": {},
     "output_type": "execute_result"
    }
   ],
   "source": [
    "dmat[:,:,sig_keys.index('z')]"
   ]
  },
  {
   "cell_type": "code",
   "execution_count": 19,
   "metadata": {},
   "outputs": [
    {
     "data": {
      "text/plain": [
       "array([[  0., -99., -99., ..., -99., -99., -99.],\n",
       "       [  0.,   0., -99., ..., -99., -99., -99.],\n",
       "       [  0., -99., -99., ..., -99., -99., -99.],\n",
       "       ...,\n",
       "       [  1.,   1.,   1., ...,   0.,   1.,   1.],\n",
       "       [  1.,   1.,   1., ...,   1.,   1.,   1.],\n",
       "       [  1.,   1.,   1., ...,   1.,   1.,   1.]])"
      ]
     },
     "execution_count": 19,
     "metadata": {},
     "output_type": "execute_result"
    }
   ],
   "source": [
    "dmat[:,:,sig_keys.index('is_muon')]"
   ]
  },
  {
   "cell_type": "code",
   "execution_count": 20,
   "metadata": {
    "tags": []
   },
   "outputs": [
    {
     "ename": "IndexError",
     "evalue": "index 16 is out of bounds for axis 0 with size 16",
     "output_type": "error",
     "traceback": [
      "\u001b[0;31m---------------------------------------------------------------------------\u001b[0m",
      "\u001b[0;31mIndexError\u001b[0m                                Traceback (most recent call last)",
      "\u001b[0;32m<ipython-input-20-3b59e94635d1>\u001b[0m in \u001b[0;36m<module>\u001b[0;34m\u001b[0m\n\u001b[1;32m     13\u001b[0m     \u001b[0mthis_min\u001b[0m \u001b[0;34m=\u001b[0m \u001b[0mnp\u001b[0m\u001b[0;34m.\u001b[0m\u001b[0mmin\u001b[0m\u001b[0;34m(\u001b[0m\u001b[0;34m[\u001b[0m\u001b[0;34m*\u001b[0m\u001b[0mthis_var_mu\u001b[0m\u001b[0;34m,\u001b[0m \u001b[0;34m*\u001b[0m\u001b[0mthis_var_nomu\u001b[0m\u001b[0;34m]\u001b[0m\u001b[0;34m)\u001b[0m\u001b[0;34m\u001b[0m\u001b[0;34m\u001b[0m\u001b[0m\n\u001b[1;32m     14\u001b[0m \u001b[0;34m\u001b[0m\u001b[0m\n\u001b[0;32m---> 15\u001b[0;31m     \u001b[0maxs\u001b[0m\u001b[0;34m[\u001b[0m\u001b[0mivar\u001b[0m\u001b[0;34m]\u001b[0m\u001b[0;34m.\u001b[0m\u001b[0mhist\u001b[0m\u001b[0;34m(\u001b[0m \u001b[0mthis_var_nomu\u001b[0m\u001b[0;34m,\u001b[0m \u001b[0mhisttype\u001b[0m\u001b[0;34m=\u001b[0m\u001b[0;34m'step'\u001b[0m\u001b[0;34m,\u001b[0m \u001b[0mrange\u001b[0m\u001b[0;34m=\u001b[0m\u001b[0;34m(\u001b[0m\u001b[0mthis_min\u001b[0m\u001b[0;34m,\u001b[0m \u001b[0mthis_max\u001b[0m\u001b[0;34m)\u001b[0m\u001b[0;34m,\u001b[0m \u001b[0mbins\u001b[0m\u001b[0;34m=\u001b[0m\u001b[0;36m50\u001b[0m\u001b[0;34m,\u001b[0m \u001b[0mlabel\u001b[0m \u001b[0;34m=\u001b[0m \u001b[0;34m'No muon Evts'\u001b[0m  \u001b[0;34m)\u001b[0m\u001b[0;34m\u001b[0m\u001b[0;34m\u001b[0m\u001b[0m\n\u001b[0m\u001b[1;32m     16\u001b[0m     \u001b[0maxs\u001b[0m\u001b[0;34m[\u001b[0m\u001b[0mivar\u001b[0m\u001b[0;34m]\u001b[0m\u001b[0;34m.\u001b[0m\u001b[0mhist\u001b[0m\u001b[0;34m(\u001b[0m \u001b[0mthis_var_mu\u001b[0m\u001b[0;34m,\u001b[0m \u001b[0mhisttype\u001b[0m\u001b[0;34m=\u001b[0m\u001b[0;34m'step'\u001b[0m\u001b[0;34m,\u001b[0m \u001b[0mrange\u001b[0m\u001b[0;34m=\u001b[0m\u001b[0;34m(\u001b[0m\u001b[0mthis_min\u001b[0m\u001b[0;34m,\u001b[0m \u001b[0mthis_max\u001b[0m\u001b[0;34m)\u001b[0m\u001b[0;34m,\u001b[0m \u001b[0mbins\u001b[0m\u001b[0;34m=\u001b[0m\u001b[0;36m50\u001b[0m\u001b[0;34m,\u001b[0m \u001b[0mlabel\u001b[0m \u001b[0;34m=\u001b[0m \u001b[0;34m'Muon Evts'\u001b[0m \u001b[0;34m)\u001b[0m\u001b[0;34m\u001b[0m\u001b[0;34m\u001b[0m\u001b[0m\n\u001b[1;32m     17\u001b[0m \u001b[0;34m\u001b[0m\u001b[0m\n",
      "\u001b[0;31mIndexError\u001b[0m: index 16 is out of bounds for axis 0 with size 16"
     ]
    },
    {
     "data": {
      "image/png": "[encoded data removed]",
      "text/plain": [
       "<Figure size 1440x1440 with 16 Axes>"
      ]
     },
     "metadata": {
      "needs_background": "light"
     },
     "output_type": "display_data"
    }
   ],
   "source": [
    "fig, axs = plt.subplots(4, 4, figsize=(20,20))\n",
    "axs = axs.flatten()\n",
    "\n",
    "for ivar in range(dmat.shape[2]):\n",
    "\n",
    "    valid_hits_mu   = dmat[Y_mu == 1,:,sig_keys.index('is_muon')].flatten() > -90\n",
    "    valid_hits_nomu = dmat[Y_mu == 0,:,sig_keys.index('is_muon')].flatten() > -90\n",
    "\n",
    "    this_var_mu   = dmat[Y_mu == 1,:,ivar].flatten()[valid_hits_mu]\n",
    "    this_var_nomu = dmat[Y_mu == 0,:,ivar].flatten()[valid_hits_nomu]\n",
    "    \n",
    "    this_max = np.max([*this_var_mu, *this_var_nomu])\n",
    "    this_min = np.min([*this_var_mu, *this_var_nomu])\n",
    "        \n",
    "    axs[ivar].hist( this_var_nomu, histtype='step', range=(this_min, this_max), bins=50, label = 'No muon Evts'  )\n",
    "    axs[ivar].hist( this_var_mu, histtype='step', range=(this_min, this_max), bins=50, label = 'Muon Evts' )    \n",
    "\n",
    "    axs[ivar].set_xlabel(sig_keys[ivar])\n",
    "    \n",
    "    if ivar == dmat.shape[2] - 1:\n",
    "        axs[ivar].legend()\n",
    "    \n",
    "plt.show()"
   ]
  },
  {
   "cell_type": "code",
   "execution_count": 21,
   "metadata": {},
   "outputs": [],
   "source": [
    "vars_of_interest = np.zeros(dmat.shape[2], dtype=bool)\n",
    "\n",
    "training_vars = [ 'z', 'ptilt', 'time', 'projX_at_rightend_x', 'projX_at_middle_x' ]\n",
    "\n",
    "for tv in training_vars:\n",
    "    vars_of_interest[sig_keys.index(tv)] = 1"
   ]
  },
  {
   "cell_type": "code",
   "execution_count": 22,
   "metadata": {},
   "outputs": [],
   "source": [
    "X = dmat[:,:,vars_of_interest]"
   ]
  },
  {
   "cell_type": "code",
   "execution_count": 23,
   "metadata": {},
   "outputs": [
    {
     "data": {
      "text/plain": [
       "(161770, 8, 5)"
      ]
     },
     "execution_count": 23,
     "metadata": {},
     "output_type": "execute_result"
    }
   ],
   "source": [
    "X.shape"
   ]
  },
  {
   "cell_type": "code",
   "execution_count": 24,
   "metadata": {},
   "outputs": [
    {
     "data": {
      "text/plain": [
       "100000"
      ]
     },
     "execution_count": 24,
     "metadata": {},
     "output_type": "execute_result"
    }
   ],
   "source": [
    "Y_mu.sum()"
   ]
  },
  {
   "cell_type": "markdown",
   "metadata": {},
   "source": [
    "## Define network"
   ]
  },
  {
   "cell_type": "code",
   "execution_count": 25,
   "metadata": {},
   "outputs": [],
   "source": [
    "import sys"
   ]
  },
  {
   "cell_type": "code",
   "execution_count": 26,
   "metadata": {},
   "outputs": [],
   "source": [
    "sys.path.insert(0, '../')"
   ]
  },
  {
   "cell_type": "code",
   "execution_count": 27,
   "metadata": {},
   "outputs": [],
   "source": [
    "import models"
   ]
  },
  {
   "cell_type": "code",
   "execution_count": 28,
   "metadata": {},
   "outputs": [
    {
     "name": "stdout",
     "output_type": "stream",
     "text": [
      "Model: \"model\"\n",
      "__________________________________________________________________________________________________\n",
      "Layer (type)                    Output Shape         Param #     Connected to                     \n",
      "==================================================================================================\n",
      "inputs (InputLayer)             [(None, 8, 5)]       0                                            \n",
      "__________________________________________________________________________________________________\n",
      "masking_1 (Masking)             (None, 8, 5)         0           inputs[0][0]                     \n",
      "__________________________________________________________________________________________________\n",
      "batch_normalization (BatchNorma (None, 8, 5)         20          masking_1[0][0]                  \n",
      "__________________________________________________________________________________________________\n",
      "Phi_0_Dense (TimeDistributed)   (None, 8, 50)        300         batch_normalization[0][0]        \n",
      "__________________________________________________________________________________________________\n",
      "Phi_1_Dense (TimeDistributed)   (None, 8, 50)        2550        Phi_0_Dense[0][0]                \n",
      "__________________________________________________________________________________________________\n",
      "Phi_3_Dense (TimeDistributed)   (None, 8, 50)        2550        Phi_1_Dense[0][0]                \n",
      "__________________________________________________________________________________________________\n",
      "attention (Attention)           ((None, 8, 50), (Non 0           Phi_3_Dense[0][0]                \n",
      "                                                                 Phi_3_Dense[0][0]                \n",
      "__________________________________________________________________________________________________\n",
      "sum (Sum)                       (None, 50)           0           attention[0][0]                  \n",
      "__________________________________________________________________________________________________\n",
      "batch_normalization_1 (BatchNor (None, 50)           200         sum[0][0]                        \n",
      "__________________________________________________________________________________________________\n",
      "F_0_Dense (Dense)               (None, 50)           2550        batch_normalization_1[0][0]      \n",
      "__________________________________________________________________________________________________\n",
      "F_1_Dense (Dense)               (None, 20)           1020        F_0_Dense[0][0]                  \n",
      "__________________________________________________________________________________________________\n",
      "F_2_Dense (Dense)               (None, 10)           210         F_1_Dense[0][0]                  \n",
      "__________________________________________________________________________________________________\n",
      "F_Output (Dense)                (None, 1)            11          F_2_Dense[0][0]                  \n",
      "==================================================================================================\n",
      "Total params: 9,411\n",
      "Trainable params: 9,301\n",
      "Non-trainable params: 110\n",
      "__________________________________________________________________________________________________\n"
     ]
    }
   ],
   "source": [
    "lambs = [1]\n",
    "mymods = []\n",
    "\n",
    "for ll in lambs:\n",
    "    # mymodel = models.muon_nn_type2( (X.shape[1],X.shape[2]), ll)\n",
    "    # mymodel = models.muon_nn_selfatt( (X.shape[1],X.shape[2]), ll)\n",
    "    # mymodel = models.muon_nn_type0( (X.shape[1],X.shape[2]))\n",
    "    mymodel = models.muon_nn_selfatt_muonly( (X.shape[1],X.shape[2]))\n",
    "    # mymodel = models.recurrent_model( (X.shape[1],X.shape[2]))\n",
    "    mymods.append(mymodel)"
   ]
  },
  {
   "cell_type": "code",
   "execution_count": 29,
   "metadata": {},
   "outputs": [],
   "source": [
    "from sklearn.model_selection import train_test_split"
   ]
  },
  {
   "cell_type": "code",
   "execution_count": 30,
   "metadata": {},
   "outputs": [],
   "source": [
    "X_train, X_test, Y_train, Y_test = train_test_split(X, Y[:,0], test_size=0.33, random_state=42)"
   ]
  },
  {
   "cell_type": "code",
   "execution_count": 31,
   "metadata": {},
   "outputs": [],
   "source": [
    "from tensorflow.keras.callbacks import EarlyStopping, ModelCheckpoint"
   ]
  },
  {
   "cell_type": "code",
   "execution_count": 33,
   "metadata": {
    "tags": []
   },
   "outputs": [
    {
     "name": "stdout",
     "output_type": "stream",
     "text": [
      "Epoch 1/3000\n"
     ]
    },
    {
     "ename": "InternalError",
     "evalue": " Attempting to perform BLAS operation using StreamExecutor without BLAS support\n\t [[node model/Phi_0_Dense/dense/MatMul (defined at <ipython-input-32-6f1a7c82a160>:4) ]] [Op:__inference_train_function_1967]\n\nFunction call stack:\ntrain_function\n",
     "output_type": "error",
     "traceback": [
      "\u001b[0;31m---------------------------------------------------------------------------\u001b[0m",
      "\u001b[0;31mInternalError\u001b[0m                             Traceback (most recent call last)",
      "\u001b[0;32m<ipython-input-33-6f1a7c82a160>\u001b[0m in \u001b[0;36m<module>\u001b[0;34m\u001b[0m\n\u001b[1;32m      2\u001b[0m \u001b[0;34m\u001b[0m\u001b[0m\n\u001b[1;32m      3\u001b[0m \u001b[0;32mfor\u001b[0m \u001b[0mmod\u001b[0m\u001b[0;34m,\u001b[0m\u001b[0mll\u001b[0m \u001b[0;32min\u001b[0m \u001b[0mzip\u001b[0m\u001b[0;34m(\u001b[0m\u001b[0mmymods\u001b[0m\u001b[0;34m,\u001b[0m \u001b[0mlambs\u001b[0m\u001b[0;34m)\u001b[0m\u001b[0;34m:\u001b[0m\u001b[0;34m\u001b[0m\u001b[0;34m\u001b[0m\u001b[0m\n\u001b[0;32m----> 4\u001b[0;31m     history = mod.fit( X_train, Y_train,\n\u001b[0m\u001b[1;32m      5\u001b[0m                         callbacks = [\n\u001b[1;32m      6\u001b[0m                                 \u001b[0mEarlyStopping\u001b[0m\u001b[0;34m(\u001b[0m\u001b[0mmonitor\u001b[0m\u001b[0;34m=\u001b[0m\u001b[0;34m'val_loss'\u001b[0m\u001b[0;34m,\u001b[0m \u001b[0mpatience\u001b[0m\u001b[0;34m=\u001b[0m\u001b[0;36m1000\u001b[0m\u001b[0;34m,\u001b[0m \u001b[0mverbose\u001b[0m\u001b[0;34m=\u001b[0m\u001b[0;36m1\u001b[0m\u001b[0;34m)\u001b[0m\u001b[0;34m,\u001b[0m\u001b[0;34m\u001b[0m\u001b[0;34m\u001b[0m\u001b[0m\n",
      "\u001b[0;32m/opt/conda/envs/rapids/lib/python3.8/site-packages/keras/engine/training.py\u001b[0m in \u001b[0;36mfit\u001b[0;34m(self, x, y, batch_size, epochs, verbose, callbacks, validation_split, validation_data, shuffle, class_weight, sample_weight, initial_epoch, steps_per_epoch, validation_steps, validation_batch_size, validation_freq, max_queue_size, workers, use_multiprocessing)\u001b[0m\n\u001b[1;32m   1182\u001b[0m                 _r=1):\n\u001b[1;32m   1183\u001b[0m               \u001b[0mcallbacks\u001b[0m\u001b[0;34m.\u001b[0m\u001b[0mon_train_batch_begin\u001b[0m\u001b[0;34m(\u001b[0m\u001b[0mstep\u001b[0m\u001b[0;34m)\u001b[0m\u001b[0;34m\u001b[0m\u001b[0;34m\u001b[0m\u001b[0m\n\u001b[0;32m-> 1184\u001b[0;31m               \u001b[0mtmp_logs\u001b[0m \u001b[0;34m=\u001b[0m \u001b[0mself\u001b[0m\u001b[0;34m.\u001b[0m\u001b[0mtrain_function\u001b[0m\u001b[0;34m(\u001b[0m\u001b[0miterator\u001b[0m\u001b[0;34m)\u001b[0m\u001b[0;34m\u001b[0m\u001b[0;34m\u001b[0m\u001b[0m\n\u001b[0m\u001b[1;32m   1185\u001b[0m               \u001b[0;32mif\u001b[0m \u001b[0mdata_handler\u001b[0m\u001b[0;34m.\u001b[0m\u001b[0mshould_sync\u001b[0m\u001b[0;34m:\u001b[0m\u001b[0;34m\u001b[0m\u001b[0;34m\u001b[0m\u001b[0m\n\u001b[1;32m   1186\u001b[0m                 \u001b[0mcontext\u001b[0m\u001b[0;34m.\u001b[0m\u001b[0masync_wait\u001b[0m\u001b[0;34m(\u001b[0m\u001b[0;34m)\u001b[0m\u001b[0;34m\u001b[0m\u001b[0;34m\u001b[0m\u001b[0m\n",
      "\u001b[0;32m/opt/conda/envs/rapids/lib/python3.8/site-packages/tensorflow/python/eager/def_function.py\u001b[0m in \u001b[0;36m__call__\u001b[0;34m(self, *args, **kwds)\u001b[0m\n\u001b[1;32m    883\u001b[0m \u001b[0;34m\u001b[0m\u001b[0m\n\u001b[1;32m    884\u001b[0m       \u001b[0;32mwith\u001b[0m \u001b[0mOptionalXlaContext\u001b[0m\u001b[0;34m(\u001b[0m\u001b[0mself\u001b[0m\u001b[0;34m.\u001b[0m\u001b[0m_jit_compile\u001b[0m\u001b[0;34m)\u001b[0m\u001b[0;34m:\u001b[0m\u001b[0;34m\u001b[0m\u001b[0;34m\u001b[0m\u001b[0m\n\u001b[0;32m--> 885\u001b[0;31m         \u001b[0mresult\u001b[0m \u001b[0;34m=\u001b[0m \u001b[0mself\u001b[0m\u001b[0;34m.\u001b[0m\u001b[0m_call\u001b[0m\u001b[0;34m(\u001b[0m\u001b[0;34m*\u001b[0m\u001b[0margs\u001b[0m\u001b[0;34m,\u001b[0m \u001b[0;34m**\u001b[0m\u001b[0mkwds\u001b[0m\u001b[0;34m)\u001b[0m\u001b[0;34m\u001b[0m\u001b[0;34m\u001b[0m\u001b[0m\n\u001b[0m\u001b[1;32m    886\u001b[0m \u001b[0;34m\u001b[0m\u001b[0m\n\u001b[1;32m    887\u001b[0m       \u001b[0mnew_tracing_count\u001b[0m \u001b[0;34m=\u001b[0m \u001b[0mself\u001b[0m\u001b[0;34m.\u001b[0m\u001b[0mexperimental_get_tracing_count\u001b[0m\u001b[0;34m(\u001b[0m\u001b[0;34m)\u001b[0m\u001b[0;34m\u001b[0m\u001b[0;34m\u001b[0m\u001b[0m\n",
      "\u001b[0;32m/opt/conda/envs/rapids/lib/python3.8/site-packages/tensorflow/python/eager/def_function.py\u001b[0m in \u001b[0;36m_call\u001b[0;34m(self, *args, **kwds)\u001b[0m\n\u001b[1;32m    915\u001b[0m       \u001b[0;31m# In this case we have created variables on the first call, so we run the\u001b[0m\u001b[0;34m\u001b[0m\u001b[0;34m\u001b[0m\u001b[0;34m\u001b[0m\u001b[0m\n\u001b[1;32m    916\u001b[0m       \u001b[0;31m# defunned version which is guaranteed to never create variables.\u001b[0m\u001b[0;34m\u001b[0m\u001b[0;34m\u001b[0m\u001b[0;34m\u001b[0m\u001b[0m\n\u001b[0;32m--> 917\u001b[0;31m       \u001b[0;32mreturn\u001b[0m \u001b[0mself\u001b[0m\u001b[0;34m.\u001b[0m\u001b[0m_stateless_fn\u001b[0m\u001b[0;34m(\u001b[0m\u001b[0;34m*\u001b[0m\u001b[0margs\u001b[0m\u001b[0;34m,\u001b[0m \u001b[0;34m**\u001b[0m\u001b[0mkwds\u001b[0m\u001b[0;34m)\u001b[0m  \u001b[0;31m# pylint: disable=not-callable\u001b[0m\u001b[0;34m\u001b[0m\u001b[0;34m\u001b[0m\u001b[0m\n\u001b[0m\u001b[1;32m    918\u001b[0m     \u001b[0;32melif\u001b[0m \u001b[0mself\u001b[0m\u001b[0;34m.\u001b[0m\u001b[0m_stateful_fn\u001b[0m \u001b[0;32mis\u001b[0m \u001b[0;32mnot\u001b[0m \u001b[0;32mNone\u001b[0m\u001b[0;34m:\u001b[0m\u001b[0;34m\u001b[0m\u001b[0;34m\u001b[0m\u001b[0m\n\u001b[1;32m    919\u001b[0m       \u001b[0;31m# Release the lock early so that multiple threads can perform the call\u001b[0m\u001b[0;34m\u001b[0m\u001b[0;34m\u001b[0m\u001b[0;34m\u001b[0m\u001b[0m\n",
      "\u001b[0;32m/opt/conda/envs/rapids/lib/python3.8/site-packages/tensorflow/python/eager/function.py\u001b[0m in \u001b[0;36m__call__\u001b[0;34m(self, *args, **kwargs)\u001b[0m\n\u001b[1;32m   3037\u001b[0m       (graph_function,\n\u001b[1;32m   3038\u001b[0m        filtered_flat_args) = self._maybe_define_function(args, kwargs)\n\u001b[0;32m-> 3039\u001b[0;31m     return graph_function._call_flat(\n\u001b[0m\u001b[1;32m   3040\u001b[0m         filtered_flat_args, captured_inputs=graph_function.captured_inputs)  # pylint: disable=protected-access\n\u001b[1;32m   3041\u001b[0m \u001b[0;34m\u001b[0m\u001b[0m\n",
      "\u001b[0;32m/opt/conda/envs/rapids/lib/python3.8/site-packages/tensorflow/python/eager/function.py\u001b[0m in \u001b[0;36m_call_flat\u001b[0;34m(self, args, captured_inputs, cancellation_manager)\u001b[0m\n\u001b[1;32m   1961\u001b[0m         and executing_eagerly):\n\u001b[1;32m   1962\u001b[0m       \u001b[0;31m# No tape is watching; skip to running the function.\u001b[0m\u001b[0;34m\u001b[0m\u001b[0;34m\u001b[0m\u001b[0;34m\u001b[0m\u001b[0m\n\u001b[0;32m-> 1963\u001b[0;31m       return self._build_call_outputs(self._inference_function.call(\n\u001b[0m\u001b[1;32m   1964\u001b[0m           ctx, args, cancellation_manager=cancellation_manager))\n\u001b[1;32m   1965\u001b[0m     forward_backward = self._select_forward_and_backward_functions(\n",
      "\u001b[0;32m/opt/conda/envs/rapids/lib/python3.8/site-packages/tensorflow/python/eager/function.py\u001b[0m in \u001b[0;36mcall\u001b[0;34m(self, ctx, args, cancellation_manager)\u001b[0m\n\u001b[1;32m    589\u001b[0m       \u001b[0;32mwith\u001b[0m \u001b[0m_InterpolateFunctionError\u001b[0m\u001b[0;34m(\u001b[0m\u001b[0mself\u001b[0m\u001b[0;34m)\u001b[0m\u001b[0;34m:\u001b[0m\u001b[0;34m\u001b[0m\u001b[0;34m\u001b[0m\u001b[0m\n\u001b[1;32m    590\u001b[0m         \u001b[0;32mif\u001b[0m \u001b[0mcancellation_manager\u001b[0m \u001b[0;32mis\u001b[0m \u001b[0;32mNone\u001b[0m\u001b[0;34m:\u001b[0m\u001b[0;34m\u001b[0m\u001b[0;34m\u001b[0m\u001b[0m\n\u001b[0;32m--> 591\u001b[0;31m           outputs = execute.execute(\n\u001b[0m\u001b[1;32m    592\u001b[0m               \u001b[0mstr\u001b[0m\u001b[0;34m(\u001b[0m\u001b[0mself\u001b[0m\u001b[0;34m.\u001b[0m\u001b[0msignature\u001b[0m\u001b[0;34m.\u001b[0m\u001b[0mname\u001b[0m\u001b[0;34m)\u001b[0m\u001b[0;34m,\u001b[0m\u001b[0;34m\u001b[0m\u001b[0;34m\u001b[0m\u001b[0m\n\u001b[1;32m    593\u001b[0m               \u001b[0mnum_outputs\u001b[0m\u001b[0;34m=\u001b[0m\u001b[0mself\u001b[0m\u001b[0;34m.\u001b[0m\u001b[0m_num_outputs\u001b[0m\u001b[0;34m,\u001b[0m\u001b[0;34m\u001b[0m\u001b[0;34m\u001b[0m\u001b[0m\n",
      "\u001b[0;32m/opt/conda/envs/rapids/lib/python3.8/site-packages/tensorflow/python/eager/execute.py\u001b[0m in \u001b[0;36mquick_execute\u001b[0;34m(op_name, num_outputs, inputs, attrs, ctx, name)\u001b[0m\n\u001b[1;32m     57\u001b[0m   \u001b[0;32mtry\u001b[0m\u001b[0;34m:\u001b[0m\u001b[0;34m\u001b[0m\u001b[0;34m\u001b[0m\u001b[0m\n\u001b[1;32m     58\u001b[0m     \u001b[0mctx\u001b[0m\u001b[0;34m.\u001b[0m\u001b[0mensure_initialized\u001b[0m\u001b[0;34m(\u001b[0m\u001b[0;34m)\u001b[0m\u001b[0;34m\u001b[0m\u001b[0;34m\u001b[0m\u001b[0m\n\u001b[0;32m---> 59\u001b[0;31m     tensors = pywrap_tfe.TFE_Py_Execute(ctx._handle, device_name, op_name,\n\u001b[0m\u001b[1;32m     60\u001b[0m                                         inputs, attrs, num_outputs)\n\u001b[1;32m     61\u001b[0m   \u001b[0;32mexcept\u001b[0m \u001b[0mcore\u001b[0m\u001b[0;34m.\u001b[0m\u001b[0m_NotOkStatusException\u001b[0m \u001b[0;32mas\u001b[0m \u001b[0me\u001b[0m\u001b[0;34m:\u001b[0m\u001b[0;34m\u001b[0m\u001b[0;34m\u001b[0m\u001b[0m\n",
      "\u001b[0;31mInternalError\u001b[0m:  Attempting to perform BLAS operation using StreamExecutor without BLAS support\n\t [[node model/Phi_0_Dense/dense/MatMul (defined at <ipython-input-32-6f1a7c82a160>:4) ]] [Op:__inference_train_function_1967]\n\nFunction call stack:\ntrain_function\n"
     ]
    }
   ],
   "source": [
    "histories = []\n",
    "\n",
    "for mod,ll in zip(mymods, lambs):\n",
    "    history = mod.fit( X_train, Y_train,\n",
    "                        callbacks = [\n",
    "                                EarlyStopping(monitor='val_loss', patience=1000, verbose=1),\n",
    "                                ModelCheckpoint(f'weights/{label}_ll_{ll}.h5', monitor='val_loss', verbose=True, save_best_only=True) ],\n",
    "                        epochs=3000,\n",
    "                        validation_split = 0.1,\n",
    "                        batch_size=2**14,\n",
    "                        verbose=1\n",
    "                       )\n",
    "    \n",
    "    mod.load_weights(f'weights/{label}_ll_{ll}.h5')\n",
    "    histories.append(history)"
   ]
  },
  {
   "cell_type": "code",
   "execution_count": null,
   "metadata": {},
   "outputs": [],
   "source": [
    "for history,ll in zip(histories,lambs):\n",
    "    \n",
    "    plt.Figure()\n",
    "    for kk in history.history.keys():\n",
    "        plt.plot(history.history[kk], label=kk)\n",
    "    plt.legend()\n",
    "    plt.xlabel('Epochs')\n",
    "    plt.ylabel('Loss')\n",
    "    plt.title(f'Lambda = {ll}')\n",
    "    plt.savefig(f'plots/{label}_loss_ll_{ll}.pdf')\n",
    "    plt.show()"
   ]
  },
  {
   "cell_type": "code",
   "execution_count": null,
   "metadata": {},
   "outputs": [],
   "source": [
    "Y_test.shape"
   ]
  },
  {
   "cell_type": "code",
   "execution_count": null,
   "metadata": {},
   "outputs": [],
   "source": [
    "from sklearn.metrics import roc_curve"
   ]
  },
  {
   "cell_type": "code",
   "execution_count": null,
   "metadata": {},
   "outputs": [],
   "source": [
    "for mod,ll in zip(mymods,lambs):\n",
    "    \n",
    "    Y_pred = mod.predict(X_test, verbose=1).flatten()\n",
    "        \n",
    "    plt.Figure()\n",
    "    plt.hist(Y_pred[Y_test==0], histtype='step', bins=50, range=(0,1))\n",
    "    plt.hist(Y_pred[Y_test==1], histtype='step', bins=50, range=(0,1))\n",
    "    plt.yscale('log')\n",
    "    plt.title(f'Lambda = {ll}')\n",
    "    plt.savefig(f'plots/{label}_muon_pred_ll_{ll}.pdf')\n",
    "    plt.show()\n",
    "        \n",
    "    plt.show()\n",
    "    "
   ]
  },
  {
   "cell_type": "code",
   "execution_count": null,
   "metadata": {},
   "outputs": [],
   "source": [
    "fig, axs = plt.subplots(1, 2, figsize=(16, 8) )\n",
    "axs = axs.flatten()\n",
    "\n",
    "coli = 3\n",
    "icol = 0\n",
    "\n",
    "for mod,ll in zip(mymods,lambs):\n",
    "    \n",
    "    Y_pred = mod.predict(X_test, verbose=1)\n",
    "    # Y_pred_hits = Y_pred[:,1:]\n",
    "    # Y_pred_mu = Y_pred[:,0]\n",
    "    Y_pred_mu = Y_pred\n",
    "    # Y_pred_hits_f_mu = Y_pred_hits[Y_test_mu==1].flatten()\n",
    "    # Y_pred_hits_f_nomu = Y_pred_hits[Y_test_mu==0].flatten()\n",
    "    \n",
    "    # fpr_hits, tpr_hits, _     = roc_curve(Y_test_hits_f_mu[Y_test_hits_f_mu>-90], Y_pred_hits_f_mu[Y_test_hits_f_mu>-90])\n",
    "    # axs[0].semilogy(tpr_hits, 1./fpr_hits, color=f'C{coli+icol}', label=f'lambda = {ll}')\n",
    "    \n",
    "    fpr_mus, tpr_mus, _     = roc_curve(Y_test, Y_pred_mu)\n",
    "    axs[1].semilogy(tpr_mus, 1./fpr_mus, color=f'C{coli+icol}', label=f'lambda = {ll}')\n",
    "    \n",
    "    icol+=1\n",
    "    \n",
    "axs[0].set_ylabel('Background hits rejection')\n",
    "axs[0].set_xlabel('Signal hits efficiency')\n",
    "axs[0].legend()\n",
    "axs[0].set_xlim(-0.01, 1.01)\n",
    "axs[0].set_ylim(0.5, 1e6)\n",
    "\n",
    "axs[1].set_ylabel('Rejection of events with no muons')\n",
    "axs[1].set_xlabel('Efficiency of events with muons')\n",
    "axs[1].set_xlim(0.8,1.01)\n",
    "axs[1].set_ylim(0.5, 1e5)\n",
    "axs[1].legend()\n",
    "\n",
    "\n",
    "plt.savefig(f'plots/{label}_ROCs.pdf', transparent=True)\n",
    "plt.show()"
   ]
  },
  {
   "cell_type": "code",
   "execution_count": null,
   "metadata": {},
   "outputs": [],
   "source": []
  },
  {
   "cell_type": "code",
   "execution_count": null,
   "metadata": {},
   "outputs": [],
   "source": []
  },
  {
   "cell_type": "code",
   "execution_count": null,
   "metadata": {},
   "outputs": [],
   "source": []
  },
  {
   "cell_type": "code",
   "execution_count": null,
   "metadata": {},
   "outputs": [],
   "source": []
  },
  {
   "cell_type": "code",
   "execution_count": null,
   "metadata": {},
   "outputs": [],
   "source": []
  },
  {
   "cell_type": "code",
   "execution_count": null,
   "metadata": {},
   "outputs": [],
   "source": []
  }
 ],
 "metadata": {
  "kernelspec": {
   "display_name": "Python 3",
   "language": "python",
   "name": "python3"
  },
  "language_info": {
   "codemirror_mode": {
    "name": "ipython",
    "version": 3
   },
   "file_extension": ".py",
   "mimetype": "text/x-python",
   "name": "python",
   "nbconvert_exporter": "python",
   "pygments_lexer": "ipython3",
   "version": "3.8.12"
  }
 },
 "nbformat": 4,
 "nbformat_minor": 4
}
